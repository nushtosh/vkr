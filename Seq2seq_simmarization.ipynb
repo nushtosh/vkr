{
 "cells": [
  {
   "cell_type": "code",
   "execution_count": 70,
   "metadata": {
    "id": "L37nIYsWG9Dl"
   },
   "outputs": [],
   "source": [
    "%%capture\n",
    "\n",
    "!pip install razdel\n",
    "!pip install rouge\n",
    "!pip install --upgrade razdel nltk rouge==0.3.1 summa sumy lexrank\n",
    "!rm -f meteor-1.5.tar.gz\n",
    "!wget -nc https://www.cs.cmu.edu/~alavie/METEOR/download/meteor-1.5.tar.gz\n",
    "!tar -xzvf meteor-1.5.tar.gz\n",
    "!pip install seq2seq\n",
    "!pip install datasets\n",
    "!pip install pymystem3\n",
    "!pip install transformers\n",
    "\n",
    "from transformers import pipeline\n",
    "import json\n",
    "import random\n",
    "from nltk.translate.bleu_score import corpus_bleu\n",
    "import razdel\n",
    "from rouge import Rouge\n",
    "from datasets import load_dataset\n",
    "import pandas as pd\n",
    "import numpy as np\n",
    "import matplotlib.pyplot as plt\n",
    "import nltk\n",
    "from nltk.corpus import stopwords\n",
    "from nltk.tokenize import word_tokenize\n",
    "from nltk.probability import FreqDist\n",
    "from collections import Counter\n",
    "from functools import reduce\n",
    "import math\n",
    "import warnings\n",
    "import tensorflow as tf\n",
    "import os\n",
    "import re\n",
    "import sys\n",
    "from nltk.corpus import stopwords\n",
    "from pymystem3 import Mystem\n",
    "import time\n",
    "from tensorflow.keras.preprocessing.text import Tokenizer\n",
    "from tensorflow.keras.preprocessing.sequence import pad_sequences\n",
    "from tensorflow.keras.layers import Input, LSTM, Embedding, Dense, Concatenate, TimeDistributed\n",
    "from tensorflow.keras.models import Model\n",
    "from tensorflow.keras.callbacks import EarlyStopping\n",
    "import subprocess\n",
    "import threading\n",
    "\n",
    "warnings.filterwarnings(\"ignore\")"
   ]
  },
  {
   "cell_type": "code",
   "execution_count": 71,
   "metadata": {
    "colab": {
     "base_uri": "https://localhost:8080/",
     "height": 85,
     "referenced_widgets": [
      "399f1f3095044d799fa517ab42f44ce5",
      "9f2568a57e694d2f81d1133ed016f373",
      "0de213f140234559893d4f1cab26a065",
      "51e7aa81f6134e10b97eb1c7d8294545",
      "cb87f34a5754468f810382b1dd37c30e",
      "af7092208b644c659d0e2d604a7fdaf5",
      "3804a0bfce464eda889d080a107a0fc8",
      "a3820e41e4914f4b8dd38293c8c7e8d5",
      "589bfb0952684d54821704d46545fc94",
      "764fca0d29614d40b1944205d03991fc",
      "9369feeb28a14240835cc968ddef87d5"
     ]
    },
    "id": "1-HIrCaRG9Hj",
    "outputId": "8afeff54-ae19-4048-f869-f0e6bb798ff1"
   },
   "outputs": [
    {
     "name": "stderr",
     "output_type": "stream",
     "text": [
      "No config specified, defaulting to: gazeta/default\n",
      "Found cached dataset gazeta (C:/Users/olya/.cache/huggingface/datasets/IlyaGusev___gazeta/default/1.0.0/ef9349c3c0f3112ca4036520d76c4bc1b8a79d30bc29643c6cae5a094d44e457)\n"
     ]
    },
    {
     "data": {
      "application/vnd.jupyter.widget-view+json": {
       "model_id": "b75d4aa07b0c47bdb89bc01f4c22c055",
       "version_major": 2,
       "version_minor": 0
      },
      "text/plain": [
       "  0%|          | 0/3 [00:00<?, ?it/s]"
      ]
     },
     "metadata": {},
     "output_type": "display_data"
    }
   ],
   "source": [
    "dataset = load_dataset('IlyaGusev/gazeta', revision=\"v1.0\")\n",
    "dataset = dataset.remove_columns(\"date\")\n",
    "dataset = dataset.remove_columns(\"url\")\n",
    "dataset = dataset.remove_columns(\"title\")"
   ]
  },
  {
   "cell_type": "code",
   "execution_count": 72,
   "metadata": {
    "colab": {
     "base_uri": "https://localhost:8080/"
    },
    "id": "DZsm_HCLG9TQ",
    "outputId": "d7c06c49-7876-4c9f-dd52-c409345cfdbc"
   },
   "outputs": [
    {
     "name": "stdout",
     "output_type": "stream",
     "text": [
      "Кол-во данных в обучающем множестве:  52400\n",
      "Кол-во данных в выборке валидации:  5770\n",
      "Кол-во данных в проверочном множестве:  5265\n"
     ]
    }
   ],
   "source": [
    "train_records = dataset['train']\n",
    "val_records = dataset['test']\n",
    "test_records = dataset['validation']\n",
    "\n",
    "n_train = len(train_records)\n",
    "print(\"Кол-во данных в обучающем множестве: \", n_train)\n",
    "print(\"Кол-во данных в выборке валидации: \", len(val_records))\n",
    "n_test = len(test_records)\n",
    "print(\"Кол-во данных в проверочном множестве: \",n_test)"
   ]
  },
  {
   "cell_type": "code",
   "execution_count": 73,
   "metadata": {
    "id": "Onv3cWDLSBDJ"
   },
   "outputs": [],
   "source": [
    "#выведем первый элемент train_record\n",
    "x_train = train_records[0]\n",
    "\n",
    "x_train = train_records[1152]"
   ]
  },
  {
   "cell_type": "code",
   "execution_count": 74,
   "metadata": {
    "id": "kkwJ9LbNSBIY"
   },
   "outputs": [],
   "source": [
    "n_tr = 1000\n",
    "n_tst = 100\n",
    "n_train=n_tr\n",
    "n_test=n_tst"
   ]
  },
  {
   "cell_type": "code",
   "execution_count": 75,
   "metadata": {
    "colab": {
     "base_uri": "https://localhost:8080/"
    },
    "id": "wtROfxsrSBNa",
    "outputId": "b8a48e91-1eaa-475f-9537-5c74dc0d5820"
   },
   "outputs": [
    {
     "name": "stdout",
     "output_type": "stream",
     "text": [
      "Текст: \n",
      " «По итогам 2011 года чистый отток может составить примерно $80 млрд, в следующем году — около $20 млрд. При этом мы ожидаем, что со второго полугодия 2012 года начнется приток капитала», — заявил «Интерфаксу» замминистра экономического развития Андрей Клепач. Официальные прогнозы по выводу капитала из России становятся все пессимистичными: еще летом власти полагали, что из страны уйдет не более $35 млрд, в сентябре Минэкономразвития назвал цифру $50 млрд, в начале ноября Центробанк пересмотрел оценку до $70 млрд. Очередное изменение прогноза было ожидаемо: по расчетам Центробанка , за январь — октябрь чистый отток капитала достиг $64 млрд, причем в последние месяцы он ускорился: в сентябре он составил $14 млрд, в октябре — $13 млрд против среднего ежемесячного оттока в $6—8 млрд в первом полугодии. «После октябрьских данных Минэкономразвития вынуждено было изменить оценку, настаивать на $70 млрд означало ожидать серьезного замедления оттока капитала на непонятно каких причинах», — говорит главный экономист BNP Paribas Юлия Цепляева. «В последние два месяца отток капитала ускорится, на декабрь приходится значительная часть выплат по внешним долгам, что приводит к усилению оттока, особенно если они не рефинансируются новыми кредитами», — соглашается главный экономист ФК «Открытие» Владимир Тихомиров. Прогнозируемый Минэкономразвития отток капитала — один из самых высоких за последние 20 лет. Больше ушло лишь в 2008 году на фоне разрастания финансового кризиса и российско-грузинской войны — $133,7 млрд. В кризисный 2009 год из России утекло $56,1 млрд. Главный фактор ускорения оттока капитала в 2011 году — нестабильность на внешних финансовых рынках и рост опасений относительно второй волны рецессии. «Это реакция на неуверенность, которую генерирует Европа с долговыми проблемами. В случае новой волны глобальной турбулентности Россия — одна из самых уязвимых стран», — говорит Цепляева. Еще одна причина — ослабление рубля. «Привлекательность вложений снижается на фоне того, что рубль перестал укрепляться, а ставки по депозитам достаточно низкие. В результате экспортеры не полностью возвращают экспортную выручку», — говорит Тихомиров. Внутри страны эксперты не видят особых причин для бегства капитала. «Ситуация выглядит достаточно позитивно, очень хорошие макроэкономические результаты за год, особенно на фоне других стран. С политической точки зрения все достаточно понятно и предсказуемо, итог выборов очевиден», — говорит экономист ИК «Тройка Диалог» Антон Струченевский. Тем не менее политический фактор играет роль. «Бизнесу важно не только, кто будет президентом, он ждет ясности с перестановками в правительстве. В наших условиях административный ресурс важнее всего для успешности бизнеса», — говорит Цепляева, добавляя, что отток капитала продолжится до завершения президентских выборов.\n",
      "\n",
      "\n",
      "\n",
      "Аннотация: \n",
      " begin В 2011 году из России уйдет $80 млрд, считают в Минэкономразвития. Менее месяца назад Центробанк давал оценку $70 млрд, повысив первоначальный прогноз вдвое. Отток капитала из страны усиливается из-за кризиса в Европе, а в декабре российским компаниям выплачивать внешние долги. На движение капитала повлияли и выборы: несмотря на их предсказуемость, бизнес хочет ясности с перестановками в правительстве. end\n"
     ]
    }
   ],
   "source": [
    "#так в наборе данных некоторые данные избыточны, то считаем только нужные нам: тексты и их саммари (аннотации)\n",
    "x_train = []\n",
    "for i in range(n_train):\n",
    "    x_train.append(train_records[i].setdefault('text'))\n",
    "    \n",
    "y_train = []\n",
    "for i in range(n_train):\n",
    "    y_train.append('begin '+train_records[i].setdefault('summary')+' end')\n",
    "    \n",
    "print (\"Текст: \\n\", x_train[0])\n",
    "print(\"\\n\\n\")\n",
    "print (\"Аннотация: \\n\", y_train[0])"
   ]
  },
  {
   "cell_type": "code",
   "execution_count": 76,
   "metadata": {
    "colab": {
     "base_uri": "https://localhost:8080/"
    },
    "id": "0mwCb4Y8SBSU",
    "outputId": "85188b63-7f03-4029-f354-b2bb4adcbfd7"
   },
   "outputs": [
    {
     "name": "stdout",
     "output_type": "stream",
     "text": [
      "Текст: \n",
      "  После громких приобретений Андре Шюррле, Гуса Тиля, Эсекьеля Понсе и Джордана Ларссона , а также покупки Резиуана Мирзова московский «Спартак» не планирует закрывать свою летнюю трансферную кампанию. Красно-белые, усилив атакующую линию, взялись за укрепление центральной зоны. Особенно актуальным данный вопрос стал после ухода бразильского хавбека Фернадо в китайский «Бэйцзин Гоань». Тепень за оборонительные действия в «Спартаке» отвечают Роман Зобнин и Аяз Гулиев , однако их игра вызывает больше негативных оценок, нежели уверенности за результат. В связи с провальными переговорами с чешской «Славией» по покупке опорных полузащитников Алекса Крала и Томаша Соучека представители «народной» команды обратили свой взгляд на чемпионат Франции. Nejvyssi vedeni ruskeho klubu navstivilo v minulych dnech Ceskou republiku. I pri veskerem fotbalem respektu k vyznamu tohoto slavneho klubu Slavia odmitla vubec zahajit i zdvorilostni jednani o obou transferech. Ani jeden nyni neni na prodej. После гостевой победы над швейцарским «Туном» в первом матче третьего квалификационного раунда Лиги Европы (3:2) красно-белые вернулись в Россию, начав подготовку к встрече с грозненским «Ахматом» в рамках очередного тура национального первенства. Кроме спортивного директора москвичей Томаса Цорна. Изначально, по информации ряда СМИ, «Спартак» рассматривал варианты с приобретением хавбека «Страсбурга» Ибаима Сиссоко или же полузащитника «Лилля» Бубакари Сумаре. Позднее же французские журналисты назвали другого возможного новичка москвичей, а именно опорника «Ниццы» Адриена Тамеза. Как отмечает RMCSport, в покупке 25-летнего француза камерунского происхождения заинтересован лично главный тренер красно-белых Олег Кононов. За Тамеза «Спартак», по данным источника, готов заплатить около €9 млн. Более того, представитель российского клуба уже лично пообщался с игроком и теперь рассчитывает на скорое завершение сделки. Проблемой может стать позиция главного тренера «Ниццы» Патрика Виейра , который не желает расставаться с одним из ключевых игроков своей команды. Именно при знаменитом в прошлом футболисте Тамез закрепился в основном составе «орлов». Учитывая это, со своим ключевым игроком «Ницца» и Виейра в частности не торопятся. По информации «ЭкСпорт», первое предложение в вышеназванном размере французами было отклонено, однако переговоры на этом не завершились. Свою профессиональную карьеру французский полузащитник начал в «Нанси», выпускником клубной академии которого он и является. Однако закрепиться в стане красно-белых у Тамезы не получилось: спустя всего лишь сезон он перешел в «Валансьен», где в общей сложности провел 59 матчей, отметившись одним голом и одной голевой передачей. Летом 2017 года молодого хавбека подписала «Ницца», однако руководивший командой в тот момент швейцарский специалист Люсьен Фавр Тамеза в качестве игрока основы не рассматривал: тренер постоянно ротировал состав, то оставляя француза на скамейке запасных, то давая ему играть полный матч. Однако по окончании сезона-2017/18 Фавр был вынужден покинуть «Ниццу», возглавив впоследствии дортмундскую «Боруссию». На место швейцарца же пришел Виейра, толком не имеющий опыта работы — ранее именитый француз тренировал «Нью-Йорк Сити», а также входил в тренерский штаб «Манчестер Сити», который, к слову, является одним из главных инвесторов американской команды. Именно при Виейра Тамез прочно осел в стартовом составе «Ниццы», проведя практически полный прошедший сезон Лиги-1 — 25-летний хавбек пропустил только одну игру чемпионата и ту из-за травмы спины. По системе гол+пас француз набрал шесть баллов. Для самого же Адриена возможный переезд в Москву не станет первым визитом столицы России. В феврале прошлого года его «Ницца» уступила столичному «Локомотиву» в двухматчевом противостоянии в рамках 1/16 Лиги Европы с общим счетом 2:4. Тамез, к слову тогда отметил климатические условия выступления в России, подчеркнув, что зимой показывать футбол высокого качества здесь крайне затруднительно. Что касается характеристик Тамеза, то хавбек может стать отличной заменой Фернандо. В его пользу играют не только неплохой удар с дальней дистанции, но и хорошая техника, чем Адриен регулярно пользуется при выходе из обороны в атаку, по пути обыгрывая по несколько соперников. Полезен Тамеза и в отборе: француз не стесняется «черновой» работы при игре без мяча во время позиционной обороны, а также охотно идет на перехват и нередко действует в подкатах. В данном элементе он, к слову, очень даже похож на Фернандо, правда, бразилец нередко действовал при отборе грязновато, за что в первый период времени пребывания в «Спартаке» часто получал желтые карточки. Тамеза же выглядит более цепким опорником, при этом сам контакт с игроком команды соперника он минимизирует, насколько это возможно. Единственное, в чем, пожалуй, потенциальный новичок «Спартака» проигрывает своему предшественнику, — это качество передач. Причем как дальних, так и ближних. В чемпионате России Фернандо по данному компоненту был одним из лучших, Тамеза же на данные лавры вряд ли сможет претендовать. В 4 из 5 случаев француз предпочтет пойти в дриблинг, нежели сделать передачу, что может сыграть с красно-белыми злую шутку.\n",
      "\n",
      "\n",
      "Аннотация: \n",
      "  begin Московский «Спартак» продолжает активную трансферную кампанию. Очередным новичком красно-белых может стать опорный полузащитник «Ниццы» Адриен Тамез. end\n"
     ]
    }
   ],
   "source": [
    "x_test = []\n",
    "for i in range(n_test):\n",
    "    x_test.append(test_records[i].setdefault('text'))\n",
    "y_test = []\n",
    "for i in range(n_test):\n",
    "    y_test.append('begin '+test_records[i].setdefault('summary')+' end')\n",
    "    \n",
    "print (\"Текст: \\n \", x_test[0])\n",
    "print(\"\\n\")\n",
    "print (\"Аннотация: \\n \", y_test[0])"
   ]
  },
  {
   "cell_type": "code",
   "execution_count": 77,
   "metadata": {
    "colab": {
     "base_uri": "https://localhost:8080/"
    },
    "id": "wrnixhU8SBWv",
    "outputId": "68587ddf-8138-44ea-cb1c-f9bf07c08976"
   },
   "outputs": [
    {
     "name": "stdout",
     "output_type": "stream",
     "text": [
      "Текст: \n",
      "  «По итогам 2011 года чистый отток может составить примерно $80 млрд, в следующем году — около $20 млрд. При этом мы ожидаем, что со второго полугодия 2012 года начнется приток капитала», — заявил «Интерфаксу» замминистра экономического развития Андрей Клепач. Официальные прогнозы по выводу капитала из России становятся все пессимистичными: еще летом власти полагали, что из страны уйдет не более $35 млрд, в сентябре Минэкономразвития назвал цифру $50 млрд, в начале ноября Центробанк пересмотрел оценку до $70 млрд. Очередное изменение прогноза было ожидаемо: по расчетам Центробанка , за январь — октябрь чистый отток капитала достиг $64 млрд, причем в последние месяцы он ускорился: в сентябре он составил $14 млрд, в октябре — $13 млрд против среднего ежемесячного оттока в $6—8 млрд в первом полугодии. «После октябрьских данных Минэкономразвития вынуждено было изменить оценку, настаивать на $70 млрд означало ожидать серьезного замедления оттока капитала на непонятно каких причинах», — говорит главный экономист BNP Paribas Юлия Цепляева. «В последние два месяца отток капитала ускорится, на декабрь приходится значительная часть выплат по внешним долгам, что приводит к усилению оттока, особенно если они не рефинансируются новыми кредитами», — соглашается главный экономист ФК «Открытие» Владимир Тихомиров. Прогнозируемый Минэкономразвития отток капитала — один из самых высоких за последние 20 лет. Больше ушло лишь в 2008 году на фоне разрастания финансового кризиса и российско-грузинской войны — $133,7 млрд. В кризисный 2009 год из России утекло $56,1 млрд. Главный фактор ускорения оттока капитала в 2011 году — нестабильность на внешних финансовых рынках и рост опасений относительно второй волны рецессии. «Это реакция на неуверенность, которую генерирует Европа с долговыми проблемами. В случае новой волны глобальной турбулентности Россия — одна из самых уязвимых стран», — говорит Цепляева. Еще одна причина — ослабление рубля. «Привлекательность вложений снижается на фоне того, что рубль перестал укрепляться, а ставки по депозитам достаточно низкие. В результате экспортеры не полностью возвращают экспортную выручку», — говорит Тихомиров. Внутри страны эксперты не видят особых причин для бегства капитала. «Ситуация выглядит достаточно позитивно, очень хорошие макроэкономические результаты за год, особенно на фоне других стран. С политической точки зрения все достаточно понятно и предсказуемо, итог выборов очевиден», — говорит экономист ИК «Тройка Диалог» Антон Струченевский. Тем не менее политический фактор играет роль. «Бизнесу важно не только, кто будет президентом, он ждет ясности с перестановками в правительстве. В наших условиях административный ресурс важнее всего для успешности бизнеса», — говорит Цепляева, добавляя, что отток капитала продолжится до завершения президентских выборов.\n",
      "\n",
      "\n",
      "Аннотация: \n",
      "  begin В 2011 году из России уйдет $80 млрд, считают в Минэкономразвития. Менее месяца назад Центробанк давал оценку $70 млрд, повысив первоначальный прогноз вдвое. Отток капитала из страны усиливается из-за кризиса в Европе, а в декабре российским компаниям выплачивать внешние долги. На движение капитала повлияли и выборы: несмотря на их предсказуемость, бизнес хочет ясности с перестановками в правительстве. end\n"
     ]
    }
   ],
   "source": [
    "print (\"Текст: \\n \", x_train[0])\n",
    "print(\"\\n\")\n",
    "print (\"Аннотация: \\n \", y_train[0])"
   ]
  },
  {
   "cell_type": "code",
   "execution_count": 78,
   "metadata": {
    "colab": {
     "base_uri": "https://localhost:8080/"
    },
    "id": "bKfIfyXTSBbN",
    "outputId": "41978012-4178-42d5-a16d-f26d11cb960c"
   },
   "outputs": [
    {
     "name": "stdout",
     "output_type": "stream",
     "text": [
      "['и', 'в', 'во', 'не', 'что', 'он', 'на', 'я', 'с', 'со', 'как', 'а', 'то', 'все', 'она', 'так', 'его', 'но', 'да', 'ты', 'к', 'у', 'же', 'вы', 'за', 'бы', 'по', 'только', 'ее', 'мне', 'было', 'вот', 'от', 'меня', 'еще', 'нет', 'о', 'из', 'ему', 'теперь', 'когда', 'даже', 'ну', 'вдруг', 'ли', 'если', 'уже', 'или', 'ни', 'быть', 'был', 'него', 'до', 'вас', 'нибудь', 'опять', 'уж', 'вам', 'ведь', 'там', 'потом', 'себя', 'ничего', 'ей', 'может', 'они', 'тут', 'где', 'есть', 'надо', 'ней', 'для', 'мы', 'тебя', 'их', 'чем', 'была', 'сам', 'чтоб', 'без', 'будто', 'чего', 'раз', 'тоже', 'себе', 'под', 'будет', 'ж', 'тогда', 'кто', 'этот', 'того', 'потому', 'этого', 'какой', 'совсем', 'ним', 'здесь', 'этом', 'один', 'почти', 'мой', 'тем', 'чтобы', 'нее', 'сейчас', 'были', 'куда', 'зачем', 'всех', 'никогда', 'можно', 'при', 'наконец', 'два', 'об', 'другой', 'хоть', 'после', 'над', 'больше', 'тот', 'через', 'эти', 'нас', 'про', 'всего', 'них', 'какая', 'много', 'разве', 'три', 'эту', 'моя', 'впрочем', 'хорошо', 'свою', 'этой', 'перед', 'иногда', 'лучше', 'чуть', 'том', 'нельзя', 'такой', 'им', 'более', 'всегда', 'конечно', 'всю', 'между']\n",
      "<class 'list'>\n"
     ]
    }
   ],
   "source": [
    "nltk.download('stopwords')\n",
    "print(stopwords.words(\"russian\")) \n",
    "print(type(stopwords.words(\"russian\")))"
   ]
  },
  {
   "cell_type": "code",
   "execution_count": 79,
   "metadata": {
    "colab": {
     "base_uri": "https://localhost:8080/"
    },
    "id": "A70OQ4JpVBDH",
    "outputId": "fcb4faab-4694-41ed-960d-323f1ecd6d3f"
   },
   "outputs": [
    {
     "name": "stdout",
     "output_type": "stream",
     "text": [
      "Время выполнения: 0.25914001 секунд \n",
      "До подготовки данных: \n",
      "\n",
      " «По итогам 2011 года чистый отток может составить примерно $80 млрд, в следующем году — около $20 млрд. При этом мы ожидаем, что со второго полугодия 2012 года начнется приток капитала», — заявил «Интерфаксу» замминистра экономического развития Андрей Клепач. Официальные прогнозы по выводу капитала из России становятся все пессимистичными: еще летом власти полагали, что из страны уйдет не более $35 млрд, в сентябре Минэкономразвития назвал цифру $50 млрд, в начале ноября Центробанк пересмотрел оценку до $70 млрд. Очередное изменение прогноза было ожидаемо: по расчетам Центробанка , за январь — октябрь чистый отток капитала достиг $64 млрд, причем в последние месяцы он ускорился: в сентябре он составил $14 млрд, в октябре — $13 млрд против среднего ежемесячного оттока в $6—8 млрд в первом полугодии. «После октябрьских данных Минэкономразвития вынуждено было изменить оценку, настаивать на $70 млрд означало ожидать серьезного замедления оттока капитала на непонятно каких причинах», — говорит главный экономист BNP Paribas Юлия Цепляева. «В последние два месяца отток капитала ускорится, на декабрь приходится значительная часть выплат по внешним долгам, что приводит к усилению оттока, особенно если они не рефинансируются новыми кредитами», — соглашается главный экономист ФК «Открытие» Владимир Тихомиров. Прогнозируемый Минэкономразвития отток капитала — один из самых высоких за последние 20 лет. Больше ушло лишь в 2008 году на фоне разрастания финансового кризиса и российско-грузинской войны — $133,7 млрд. В кризисный 2009 год из России утекло $56,1 млрд. Главный фактор ускорения оттока капитала в 2011 году — нестабильность на внешних финансовых рынках и рост опасений относительно второй волны рецессии. «Это реакция на неуверенность, которую генерирует Европа с долговыми проблемами. В случае новой волны глобальной турбулентности Россия — одна из самых уязвимых стран», — говорит Цепляева. Еще одна причина — ослабление рубля. «Привлекательность вложений снижается на фоне того, что рубль перестал укрепляться, а ставки по депозитам достаточно низкие. В результате экспортеры не полностью возвращают экспортную выручку», — говорит Тихомиров. Внутри страны эксперты не видят особых причин для бегства капитала. «Ситуация выглядит достаточно позитивно, очень хорошие макроэкономические результаты за год, особенно на фоне других стран. С политической точки зрения все достаточно понятно и предсказуемо, итог выборов очевиден», — говорит экономист ИК «Тройка Диалог» Антон Струченевский. Тем не менее политический фактор играет роль. «Бизнесу важно не только, кто будет президентом, он ждет ясности с перестановками в правительстве. В наших условиях административный ресурс важнее всего для успешности бизнеса», — говорит Цепляева, добавляя, что отток капитала продолжится до завершения президентских выборов.\n",
      "\n",
      "-----------------------------------------------------------------------------------------------------------------------------------------------------------\n",
      "После подготовки данных: \n",
      "\n",
      " итогам 2011 года чистый отток составить примерно 80 млрд следующем году около 20 млрд ожидаем второго полугодия 2012 года начнется приток капитала заявил интерфаксу замминистра экономического развития андрей клепач официальные прогнозы выводу капитала россии становятся пессимистичными летом власти полагали страны уйдет 35 млрд сентябре минэкономразвития назвал цифру 50 млрд начале ноября центробанк пересмотрел оценку 70 млрд очередное изменение прогноза ожидаемо расчетам центробанка январь октябрь чистый отток капитала достиг 64 млрд причем последние месяцы ускорился сентябре составил 14 млрд октябре 13 млрд против среднего ежемесячного оттока 68 млрд первом полугодии октябрьских данных минэкономразвития вынуждено изменить оценку настаивать 70 млрд означало ожидать серьезного замедления оттока капитала непонятно каких причинах говорит главный экономист bnp paribas юлия цепляева последние месяца отток капитала ускорится декабрь приходится значительная часть выплат внешним долгам приводит усилению оттока особенно рефинансируются новыми кредитами соглашается главный экономист фк открытие владимир тихомиров прогнозируемый минэкономразвития отток капитала самых высоких последние 20 лет ушло лишь 2008 году фоне разрастания финансового кризиса российскогрузинской войны 1337 млрд кризисный 2009 год россии утекло 561 млрд главный фактор ускорения оттока капитала 2011 году нестабильность внешних финансовых рынках рост опасений относительно второй волны рецессии это реакция неуверенность которую генерирует европа долговыми проблемами случае новой волны глобальной турбулентности россия одна самых уязвимых стран говорит цепляева одна причина ослабление рубля привлекательность вложений снижается фоне рубль перестал укрепляться ставки депозитам достаточно низкие результате экспортеры полностью возвращают экспортную выручку говорит тихомиров внутри страны эксперты видят особых причин бегства капитала ситуация выглядит достаточно позитивно очень хорошие макроэкономические результаты год особенно фоне других стран политической точки зрения достаточно понятно предсказуемо итог выборов очевиден говорит экономист ик тройка диалог антон струченевский менее политический фактор играет роль бизнесу важно президентом ждет ясности перестановками правительстве наших условиях административный ресурс важнее успешности бизнеса говорит цепляева добавляя отток капитала продолжится завершения президентских выборов\n"
     ]
    }
   ],
   "source": [
    "stp_wrd = stopwords.words(\"russian\")\n",
    "\n",
    "def remove_stopword(out):\n",
    "    n = len(out)\n",
    "    filtered_word_list = out[:] \n",
    "    for word in out: \n",
    "        if (word in stp_wrd) or (word== ''): # or (word== '')\n",
    "            filtered_word_list.remove(word) \n",
    "    return filtered_word_list\n",
    "\n",
    "   \n",
    "def data_preparation(dataset):\n",
    "    #делаем все буквы строчными\n",
    "    out = [x.lower() for x in dataset] \n",
    "    res = []\n",
    "    #удаляем знаки препинания\n",
    "    for x in out:  \n",
    "        res.append (re.sub(r'[^\\w\\s]','', x))\n",
    "    out = res\n",
    "    \n",
    "    b = []\n",
    "    c= []\n",
    "    for i in range (len(out)):\n",
    "        b.append(out[i].split(' '))\n",
    "        c.append(remove_stopword(b[i]))\n",
    "        b[i]=\" \".join(c[i])\n",
    "    out = b\n",
    "    return out \n",
    "\n",
    "#пример предподготовки данных на нескольких элементах x_train\n",
    "n = 100\n",
    "dataset = x_train[:n]\n",
    "start_time = time.time()\n",
    "\n",
    "out = data_preparation(dataset)\n",
    "end_time = time.time() - start_time\n",
    "print(\"Время выполнения: {:.8f} секунд \" .format(end_time))\n",
    "\n",
    "\n",
    "\n",
    "print(\"До подготовки данных: \\n\\n\",x_train[0])\n",
    "print(\"\\n-----------------------------------------------------------------------------------------------------------------------------------------------------------\")\n",
    "print(\"После подготовки данных: \\n\\n\",out[0])"
   ]
  },
  {
   "cell_type": "code",
   "execution_count": 80,
   "metadata": {
    "colab": {
     "base_uri": "https://localhost:8080/"
    },
    "id": "rZLFJDk9VBIQ",
    "outputId": "bc4b41d2-9a87-4376-c6f8-3f344328a5b5"
   },
   "outputs": [
    {
     "name": "stdout",
     "output_type": "stream",
     "text": [
      "1000 1000\n",
      "100 100\n",
      "Время выполнения: 2.97456217 секунд \n"
     ]
    }
   ],
   "source": [
    "start_time = time.time()\n",
    "\n",
    "x_train = data_preparation(x_train[:n_tr])\n",
    "print(n_tr, len(x_train))\n",
    "y_train = data_preparation(y_train[:n_tr])\n",
    "x_test = data_preparation(x_test[:n_tst])\n",
    "y_test = data_preparation(y_test[:n_tst])\n",
    "print(n_tst, len(y_test))\n",
    "end_time = time.time() - start_time\n",
    "print(\"Время выполнения: {:.8f} секунд \" .format(end_time))"
   ]
  },
  {
   "cell_type": "code",
   "execution_count": 81,
   "metadata": {
    "colab": {
     "base_uri": "https://localhost:8080/"
    },
    "id": "Ys2FXehwVBN2",
    "outputId": "d821b20b-4b79-436a-8227-bed95109af9d"
   },
   "outputs": [
    {
     "name": "stdout",
     "output_type": "stream",
     "text": [
      "len x_tr 1000\n",
      "1000\n",
      "len y_tr 1000 1000\n",
      "1000\n",
      "len x_test 100\n",
      "100\n",
      "len y_test 100 100\n"
     ]
    }
   ],
   "source": [
    "print ( \"len x_tr\", len(x_train))\n",
    "print(n_tr)\n",
    "print ( \"len y_tr\", len(y_train),n_tr )\n",
    "print(n_tr)\n",
    "print ( \"len x_test\", len(x_test))\n",
    "print(n_test)\n",
    "print ( \"len y_test\", len(y_test),n_tst)"
   ]
  },
  {
   "cell_type": "code",
   "execution_count": 82,
   "metadata": {
    "colab": {
     "base_uri": "https://localhost:8080/"
    },
    "id": "ljraCoDaVY5A",
    "outputId": "cdb1ef30-8880-4317-c956-6335d4b3910c"
   },
   "outputs": [
    {
     "name": "stdout",
     "output_type": "stream",
     "text": [
      "len x_tr 1000\n",
      "len y_tr 1000\n",
      "len x_val 100\n",
      "len y_val 100\n"
     ]
    }
   ],
   "source": [
    "x_tr = x_train\n",
    "y_tr = y_train\n",
    "x_val = x_test\n",
    "y_val = y_test\n",
    "print ( \"len x_tr\", len(x_tr))\n",
    "print ( \"len y_tr\", len(y_tr))\n",
    "print ( \"len x_val\", len(x_val))\n",
    "print ( \"len y_val\", len(y_val))"
   ]
  },
  {
   "cell_type": "code",
   "execution_count": 83,
   "metadata": {
    "colab": {
     "base_uri": "https://localhost:8080/"
    },
    "id": "VyHDRDtBVY-G",
    "outputId": "1a0b4dd2-e1c4-48f7-9f59-465fa7dae302"
   },
   "outputs": [
    {
     "name": "stdout",
     "output_type": "stream",
     "text": [
      "Редких слов в словаре : 52.63177013331396 %\n"
     ]
    }
   ],
   "source": [
    "from keras.preprocessing.text import Tokenizer \n",
    "from keras.utils import pad_sequences\n",
    "\n",
    "#токенизируем обучающие данные \n",
    "x_tokenizer = Tokenizer() \n",
    "x_tokenizer.fit_on_texts(list(x_tr))\n",
    "thresh = 2  #слово считаем редким, если оно встречается меньше 2 раз\n",
    "\n",
    "cnt=0\n",
    "tot_cnt=0\n",
    "freq=0\n",
    "tot_freq=0\n",
    "\n",
    "for key,value in x_tokenizer.word_counts.items():\n",
    "    tot_cnt=tot_cnt+1\n",
    "    tot_freq=tot_freq+value\n",
    "    if(value<thresh):\n",
    "        cnt=cnt+1\n",
    "        freq=freq+value\n",
    "    \n",
    "print(\"Редких слов в словаре :\",(cnt/tot_cnt)*100, \"%\")"
   ]
  },
  {
   "cell_type": "code",
   "execution_count": 84,
   "metadata": {
    "colab": {
     "base_uri": "https://localhost:8080/"
    },
    "id": "0pKYCHvBVZCq",
    "outputId": "30141cbe-a0c7-4cd1-bf24-b101e3c8dfd8"
   },
   "outputs": [
    {
     "name": "stdout",
     "output_type": "stream",
     "text": [
      "Кол-во слов в первом предложении:  293\n"
     ]
    }
   ],
   "source": [
    "text_count = []\n",
    "summary_count = []\n",
    "\n",
    "for sent in x_tr:\n",
    "    text_count.append(len(sent.split()))\n",
    "for sent in y_tr:\n",
    "    summary_count.append(len(sent.split()))\n",
    "    \n",
    "print(\"Кол-во слов в первом предложении: \", text_count[0])"
   ]
  },
  {
   "cell_type": "code",
   "execution_count": 85,
   "metadata": {
    "colab": {
     "base_uri": "https://localhost:8080/",
     "height": 452
    },
    "id": "euDMAj1BVZHK",
    "outputId": "8f9a0e65-6276-44f4-f5f1-983578ee399f"
   },
   "outputs": [
    {
     "data": {
      "image/png": "[encoded data removed]",
      "text/plain": [
       "<Figure size 640x480 with 2 Axes>"
      ]
     },
     "metadata": {},
     "output_type": "display_data"
    }
   ],
   "source": [
    "graph_df= pd.DataFrame()\n",
    "graph_df['text']=text_count\n",
    "graph_df['summary']=summary_count\n",
    "\n",
    "import matplotlib.pyplot as plt\n",
    "\n",
    "graph_df.hist(bins = 5)\n",
    "plt.show()"
   ]
  },
  {
   "cell_type": "code",
   "execution_count": 86,
   "metadata": {
    "colab": {
     "base_uri": "https://localhost:8080/",
     "height": 470
    },
    "id": "sl4NPVPeVZLy",
    "outputId": "2615fa2c-9fe3-4343-f140-86274deb54e3"
   },
   "outputs": [
    {
     "name": "stdout",
     "output_type": "stream",
     "text": [
      "Кол-во слов в первом предложении:  546\n"
     ]
    },
    {
     "data": {
      "image/png": "[encoded data removed]",
      "text/plain": [
       "<Figure size 640x480 with 2 Axes>"
      ]
     },
     "metadata": {},
     "output_type": "display_data"
    }
   ],
   "source": [
    "text_count_val = []\n",
    "summary_count_val = []\n",
    "\n",
    "for sent in x_val:\n",
    "    text_count_val.append(len(sent.split()))\n",
    "for sent in y_val:\n",
    "    summary_count_val.append(len(sent.split()))\n",
    "    \n",
    "print(\"Кол-во слов в первом предложении: \", text_count_val[0])\n",
    "\n",
    "\n",
    "graph_df= pd.DataFrame()\n",
    "graph_df['text']=text_count_val\n",
    "graph_df['summary']=summary_count_val\n",
    "\n",
    "import matplotlib.pyplot as plt\n",
    "\n",
    "graph_df.hist(bins = 5)\n",
    "plt.show()"
   ]
  },
  {
   "cell_type": "code",
   "execution_count": 87,
   "metadata": {
    "colab": {
     "base_uri": "https://localhost:8080/"
    },
    "id": "vr8SQrmpVZQE",
    "outputId": "6e23ec9d-bac6-42dc-aade-54d19992d016"
   },
   "outputs": [
    {
     "name": "stdout",
     "output_type": "stream",
     "text": [
      "0.793\n",
      "0.878\n"
     ]
    }
   ],
   "source": [
    "cnt=0\n",
    "for i in y_tr:\n",
    "    if(len(i.split())<=40):\n",
    "        cnt=cnt+1\n",
    "print(cnt/len(y_tr))\n",
    "\n",
    "cnt=0\n",
    "for i in x_tr:\n",
    "    if(len(i.split())<=600):\n",
    "        cnt=cnt+1\n",
    "print(cnt/len(x_tr))"
   ]
  },
  {
   "cell_type": "code",
   "execution_count": 88,
   "metadata": {
    "id": "yha47FpnVZUm"
   },
   "outputs": [],
   "source": [
    "#Модель для суммирования текста между 0-15 словами для резюме и 0-100 словами для текста\n",
    "\n",
    "max_text_len = 200  \n",
    "max_summary_len = 40\n",
    "max_len_text= max_text_len  \n",
    "пmax_len_summary =max_summary_len"
   ]
  },
  {
   "cell_type": "code",
   "execution_count": 89,
   "metadata": {
    "colab": {
     "base_uri": "https://localhost:8080/",
     "height": 722
    },
    "id": "irPZzYkCVZYn",
    "outputId": "ac2609a8-ee7b-4e41-884f-48fa0748f0ab"
   },
   "outputs": [
    {
     "name": "stdout",
     "output_type": "stream",
     "text": [
      "\n",
      "Наиболее частые n= 100  слова :  [('это', 2341), ('года', 1828), ('также', 1585), ('россии', 1498), ('году', 1163), ('время', 949), ('который', 935), ('которые', 919), ('однако', 855), ('сша', 830), ('заявил', 721), ('лет', 662), ('словам', 662), ('очень', 652), ('млн', 607), ('будут', 539), ('сказал', 476), ('рублей', 475), ('пока', 471), ('против', 454), ('млрд', 452), ('изза', 450), ('несколько', 447), ('кроме', 447), ('страны', 443), ('ранее', 442), ('компании', 441), ('которая', 432), ('лишь', 411), ('человек', 409), ('президент', 389), ('президента', 386), ('год', 373), ('своей', 372), ('стал', 363), ('говорит', 358), ('области', 355), ('около', 347), ('именно', 347), ('глава', 343), ('россия', 339), ('1', 338), ('стороны', 338), ('мира', 335), ('первый', 334), ('власти', 333), ('могут', 333), ('газетеru', 333), ('момент', 330), ('случае', 328), ('которых', 326), ('решение', 325), ('дело', 322), ('украины', 322), ('день', 320), ('является', 319), ('команды', 317), ('второй', 316), ('считает', 310), ('рф', 306), ('данным', 305), ('суд', 304), ('10', 304), ('которой', 301), ('отметил', 301), ('своих', 300), ('другие', 297), ('которого', 297), ('место', 289), ('должны', 288), ('просто', 285), ('счет', 278), ('тыс', 275), ('рассказал', 275), ('хотя', 274), ('числе', 273), ('странице', 272), ('новости', 270), ('мнению', 269), ('сообщил', 268), ('двух', 265), ('20', 261), ('сразу', 260), ('вопрос', 259), ('матча', 259), ('александр', 256), ('владимир', 252), ('связи', 252), ('удалось', 250), ('образом', 249), ('менее', 246), ('сергей', 245), ('поэтому', 244), ('среди', 243), ('должен', 242), ('безопасности', 241), ('итоге', 241), ('свои', 239), ('15', 239), ('вместе', 237)]\n"
     ]
    },
    {
     "data": {
      "image/png": "[encoded data removed]",
      "text/plain": [
       "<Figure size 2000x600 with 1 Axes>"
      ]
     },
     "metadata": {},
     "output_type": "display_data"
    },
    {
     "name": "stdout",
     "output_type": "stream",
     "text": [
      "Наиболее частые слова:  ['это', 'года', 'также', 'россии', 'году', 'время', 'который', 'которые', 'однако', 'сша', 'заявил', 'лет', 'словам', 'очень', 'млн', 'будут', 'сказал', 'рублей', 'пока', 'против', 'млрд', 'изза', 'несколько', 'кроме', 'страны', 'ранее', 'компании', 'которая', 'лишь', 'человек', 'президент', 'президента', 'год', 'своей', 'стал', 'говорит', 'области', 'около', 'именно', 'глава', 'россия', '1', 'стороны', 'мира', 'первый', 'власти', 'могут', 'газетеru', 'момент', 'случае', 'которых', 'решение', 'дело', 'украины', 'день', 'является', 'команды', 'второй', 'считает', 'рф', 'данным', 'суд', '10', 'которой', 'отметил', 'своих', 'другие', 'которого', 'место', 'должны', 'просто', 'счет', 'тыс', 'рассказал', 'хотя', 'числе', 'странице', 'новости', 'мнению', 'сообщил', 'двух', '20', 'сразу', 'вопрос', 'матча', 'александр', 'владимир', 'связи', 'удалось', 'образом', 'менее', 'сергей', 'поэтому', 'среди', 'должен', 'безопасности', 'итоге', 'свои', '15', 'вместе']\n"
     ]
    }
   ],
   "source": [
    "def most_frequent_word(test_list, number_of_words):\n",
    "    all_words = reduce(lambda a, b: a + b, [sub.split() for sub in test_list])\n",
    "    word_counts = Counter(all_words)\n",
    "    word_frequency = nltk.FreqDist(all_words) #получает частотное распределение для каждого токена\n",
    "    print(\"\\nНаиболее частые n=\",number_of_words, \" слова : \", word_frequency.most_common(number_of_words))\n",
    "    fig = plt.figure(figsize=(20, 6))\n",
    "    plt.xlabel(\"Слово\")\n",
    "    plt.ylabel(\"Частота встречаемости в dataset\")\n",
    "    most_popular = [item[0] for item in word_frequency.most_common(number_of_words)]\n",
    "    word_frequency.plot(number_of_words, title='Наиболее частые слова в x_tr')\n",
    "    return word_frequency.most_common(number_of_words), most_popular \n",
    " \n",
    "test_list = x_tr\n",
    "number_of_most_popular_words = math.ceil(0.1*n_tr)\n",
    "word_frequency, x_tr_most_popular = most_frequent_word(test_list, number_of_most_popular_words)\n",
    "print(\"Наиболее частые слова: \", x_tr_most_popular)"
   ]
  },
  {
   "cell_type": "code",
   "execution_count": 90,
   "metadata": {
    "colab": {
     "base_uri": "https://localhost:8080/"
    },
    "id": "Lf5vL0DZVBSw",
    "outputId": "559c1312-1305-423b-d7af-f3b94467d3a2"
   },
   "outputs": [
    {
     "name": "stdout",
     "output_type": "stream",
     "text": [
      "Размер словаря x_voc 81710\n"
     ]
    }
   ],
   "source": [
    "#токенизируем \n",
    "x_tokenizer = Tokenizer(num_words=tot_cnt-cnt)#Tokenizer будет использовать самые популярные слова, но в то же время вести счетчик всех слов \n",
    "x_tokenizer.fit_on_texts(list(x_tr)) #Обновляет внутренний словарь на основе списка текстов.\n",
    "\n",
    "#Преобразует каждый текст в текстах в последовательность целых чисел\n",
    "x_tr_seq    =   x_tokenizer.texts_to_sequences(x_tr) \n",
    "x_val_seq   =   x_tokenizer.texts_to_sequences(x_val)\n",
    "\n",
    "#заполенение нулями до максимальной длины\n",
    "x_tr    =   pad_sequences(x_tr_seq,  maxlen=max_text_len, padding='post')\n",
    "x_val   =   pad_sequences(x_val_seq, maxlen=max_text_len, padding='post')\n",
    "\n",
    "#размер словаря\n",
    "x_voc   =  x_tokenizer.num_words + 1\n",
    "print(\"Размер словаря x_voc\", x_voc)"
   ]
  },
  {
   "cell_type": "code",
   "execution_count": 91,
   "metadata": {
    "colab": {
     "base_uri": "https://localhost:8080/"
    },
    "id": "zJ3QobfIVBX0",
    "outputId": "a8f15717-56de-4d19-b010-b69895331476"
   },
   "outputs": [
    {
     "name": "stdout",
     "output_type": "stream",
     "text": [
      "[ 2110  3279  8868  1340    21 11407  1855 11408 15998 15997  1217  3605\n",
      "  4258  5171    36   237  2414 39125 39126  2619 19804   169   593  6558\n",
      "  1217 39127 11409  1033  8869   112  2965  7190 26068   460 15999 15997\n",
      "   371 39128  3793 19805  6015   237  2414  6560  3794    87  9985 39129\n",
      "  1911  6558  1217   409  3280   169    82    12  6016    29   461     5\n",
      "   673 39130  1585   859 39131   609 39132    21 39133   347    33     4\n",
      " 26069 26070    21   237  3281 11410 15997  1217   120     5 26071  4822\n",
      "  2325  3282   214  9986   947    58  7191 16000     1  3606 26072   205\n",
      " 39134  4502 26073  5582    50   388  7191  7946 19806    41   242   409\n",
      " 19807   144    36 19804   242  1912 13331  1691 16001  9987  6561   673\n",
      "  4823  6017 26074  1034  6562   202  9988   155 39135   277 26075 39136\n",
      "  8870    36  9985  1276    25   288  5172  6018  1692 39137  1217   356\n",
      "  1401   202  7947    14  2966 26076   462    33   371   673   117   144\n",
      "  1341   879   737   202  1913 11411  5173   351 26077    36  2414  4259\n",
      "  6019  2620  1402 39138    91  5174  3281  1693   402  6563  1219   640\n",
      "  1977 39139 26078  2257   560   641 11412  7192  3795 39140   497    36\n",
      " 19804 16002  6558  1217  5175  2621  1639   351]\n"
     ]
    }
   ],
   "source": [
    "print(x_tr[0])"
   ]
  },
  {
   "cell_type": "code",
   "execution_count": 92,
   "metadata": {
    "colab": {
     "base_uri": "https://localhost:8080/"
    },
    "id": "upEKaTTxWdr1",
    "outputId": "e0e3a02c-2339-4565-fe98-019f17b13ee4"
   },
   "outputs": [
    {
     "name": "stdout",
     "output_type": "stream",
     "text": [
      "Размер словаря y_voc 15285\n",
      "1000 1000\n",
      "1000 1000\n"
     ]
    }
   ],
   "source": [
    "y_tokenizer = Tokenizer()   \n",
    "y_tokenizer.fit_on_texts(list(y_tr))\n",
    "\n",
    "thresh = 0 \n",
    "\n",
    "cnt=0\n",
    "tot_cnt=0\n",
    "freq=0\n",
    "tot_freq=0\n",
    "\n",
    "for key,value in y_tokenizer.word_counts.items():\n",
    "    tot_cnt=tot_cnt+1\n",
    "    tot_freq=tot_freq+value\n",
    "    if(value<thresh):\n",
    "        cnt=cnt+1\n",
    "        freq=freq+value\n",
    "\n",
    "y_tokenizer = Tokenizer(num_words=tot_cnt-cnt) \n",
    "y_tokenizer.fit_on_texts(list(y_tr))\n",
    "\n",
    "y_tr_seq    =   y_tokenizer.texts_to_sequences(y_tr) \n",
    "y_val_seq   =   y_tokenizer.texts_to_sequences(y_val) \n",
    "\n",
    "y_tr    =   pad_sequences(y_tr_seq, maxlen=max_summary_len, padding='post')\n",
    "y_val   =   pad_sequences(y_val_seq, maxlen=max_summary_len, padding='post')\n",
    "\n",
    "y_voc  =   y_tokenizer.num_words +1\n",
    "print(\"Размер словаря y_voc\", y_voc)\n",
    "\n",
    "#проверка, что токенов начало и конец столько же, сколько и строк\n",
    "print (y_tokenizer.word_counts['begin'],len(y_tr) ) \n",
    "print (y_tokenizer.word_counts['end'],len(y_tr) )"
   ]
  },
  {
   "cell_type": "code",
   "execution_count": 93,
   "metadata": {
    "colab": {
     "base_uri": "https://localhost:8080/"
    },
    "id": "g0VYVkz7WdwW",
    "outputId": "919a8a52-0260-41a3-d4e0-37eeea15fbe0"
   },
   "outputs": [
    {
     "name": "stdout",
     "output_type": "stream",
     "text": [
      "Model: \"model_5\"\n",
      "__________________________________________________________________________________________________\n",
      " Layer (type)                   Output Shape         Param #     Connected to                     \n",
      "==================================================================================================\n",
      " input_9 (InputLayer)           [(None, 200)]        0           []                               \n",
      "                                                                                                  \n",
      " embedding_2 (Embedding)        (None, 200, 600)     49026000    ['input_9[0][0]']                \n",
      "                                                                                                  \n",
      " lstm_4 (LSTM)                  [(None, 200, 200),   640800      ['embedding_2[0][0]']            \n",
      "                                 (None, 200),                                                     \n",
      "                                 (None, 200)]                                                     \n",
      "                                                                                                  \n",
      " input_10 (InputLayer)          [(None, None)]       0           []                               \n",
      "                                                                                                  \n",
      " lstm_5 (LSTM)                  [(None, 200, 200),   320800      ['lstm_4[0][0]']                 \n",
      "                                 (None, 200),                                                     \n",
      "                                 (None, 200)]                                                     \n",
      "                                                                                                  \n",
      " embedding_3 (Embedding)        (None, None, 600)    9171000     ['input_10[0][0]']               \n",
      "                                                                                                  \n",
      " lstm_6 (LSTM)                  [(None, 200, 200),   320800      ['lstm_5[0][0]']                 \n",
      "                                 (None, 200),                                                     \n",
      "                                 (None, 200)]                                                     \n",
      "                                                                                                  \n",
      " lstm_7 (LSTM)                  [(None, None, 200),  640800      ['embedding_3[0][0]',            \n",
      "                                 (None, 200),                     'lstm_6[0][1]',                 \n",
      "                                 (None, 200)]                     'lstm_6[0][2]']                 \n",
      "                                                                                                  \n",
      " time_distributed_1 (TimeDistri  (None, None, 15285)  3072285    ['lstm_7[0][0]']                 \n",
      " buted)                                                                                           \n",
      "                                                                                                  \n",
      "==================================================================================================\n",
      "Total params: 63,192,485\n",
      "Trainable params: 63,192,485\n",
      "Non-trainable params: 0\n",
      "__________________________________________________________________________________________________\n"
     ]
    }
   ],
   "source": [
    "latent_dim = max_len_text\n",
    "embedding_dim= 600 #200 #200 размер каждого вложенного вектора, прошедшего через слой вложения\n",
    "max_text_len = max_len_text\n",
    "\n",
    "# Слой Input кодировщика\n",
    "encoder_inputs = Input(shape=(max_text_len, ))\n",
    "\n",
    "# Embedding слой\n",
    "#Преобразоывает положительныев целые числа (индексы) в плотные (dense) векторы фиксированного размера\n",
    "#Этот слой может использоваться только как первый слой в модели.\n",
    "#e = Embedding(input_dim - размерность словаря исходных данных, output_dim- Это размер векторного пространства, в которое будут вставлены слова, input_length=50\n",
    "#input_length: Это длина входных последовательностей, как  могли бы определить для любого входного слоя модели Keras\n",
    "\n",
    "enc_emb = Embedding(x_voc, embedding_dim,\n",
    "                    trainable=True)(encoder_inputs) #inplength\n",
    "\n",
    "# 1 слой LSTM Long Short-Term Memory layer\n",
    "encoder_lstm1 = LSTM(latent_dim, #Положительное целое число, размерность выходного пространства \n",
    "                     return_sequences=True, #Возвращать ли последний вывод. в выходной последовательности или в полной последовательности. По умолчанию: False.\n",
    "                     return_state=True, #Следует ли возвращать последнее состояние в дополнение к выходным данным. По умолчанию: False.\n",
    "                     dropout=0.4,  #Доля единиц, отбрасываемая при линейном преобразовании входных данных. По умолчанию: 0. Используется для борьбы с переобучением\n",
    "                     recurrent_dropout=0.4) # Доля единиц, которую нужно отбросить для линейного преобразования рекуррентного состояния. По умолчанию: 0.\n",
    "(encoder_output1, state_h1, state_c1) = encoder_lstm1(enc_emb)\n",
    "\n",
    "# 2 слой LSTM\n",
    "encoder_lstm2 = LSTM(latent_dim, return_sequences=True,\n",
    "                     return_state=True, dropout=0.4,\n",
    "                     recurrent_dropout=0.4)\n",
    "(encoder_output2, state_h2, state_c2) = encoder_lstm2(encoder_output1)\n",
    "\n",
    "# 3 слой LSTM\n",
    "encoder_lstm3 = LSTM(latent_dim, return_state=True,\n",
    "                     return_sequences=True, dropout=0.4,\n",
    "                     recurrent_dropout=0.4)\n",
    "(encoder_outputs, state_h, state_c) = encoder_lstm3(encoder_output2)\n",
    "\n",
    "# Настройка декодер, используя encoder_states в качестве начального состояния\n",
    "decoder_inputs = Input(shape=(None, ))\n",
    "\n",
    "# Embedding слой (слой встраивания)\n",
    "dec_emb_layer = Embedding(y_voc, embedding_dim, trainable=True)\n",
    "dec_emb = dec_emb_layer(decoder_inputs)\n",
    "\n",
    "# Decoder LSTM\n",
    "decoder_lstm = LSTM(latent_dim, return_sequences=True,\n",
    "                    return_state=True, dropout=0.4,\n",
    "                    recurrent_dropout=0.2)\n",
    "(decoder_outputs, decoder_fwd_state, decoder_back_state) = decoder_lstm(dec_emb, initial_state=[state_h, state_c])\n",
    "\n",
    "# Dense layer \n",
    "#Эта оболочка позволяет применять слой к каждому временному фрагменту ввода.\n",
    "#Каждый вход должен быть как минимум трехмерным, и размер первого индекса первого входа будет считаться временным измерением.\n",
    "decoder_dense = TimeDistributed(Dense(y_voc, activation='softmax'))\n",
    "decoder_outputs = decoder_dense(decoder_outputs)\n",
    "\n",
    "# определение модели\n",
    "model = Model([encoder_inputs, decoder_inputs], decoder_outputs)\n",
    "\n",
    "model.summary()"
   ]
  },
  {
   "cell_type": "code",
   "execution_count": 94,
   "metadata": {
    "colab": {
     "base_uri": "https://localhost:8080/",
     "height": 437
    },
    "id": "9QHeSfEXWd0i",
    "outputId": "ae9a279a-b42d-41c8-c7cd-b33c08ddc9ed"
   },
   "outputs": [
    {
     "name": "stdout",
     "output_type": "stream",
     "text": [
      "Модель скомпилировалась\n",
      "(1000, 200)\n",
      "(1000, 40)\n",
      "Epoch 1/10\n",
      "32/32 [==============================] - 519s 15s/step - loss: 8.5906 - accuracy: 0.1956 - val_loss: 5.9707 - val_accuracy: 0.3900\n",
      "Epoch 2/10\n",
      "32/32 [==============================] - 486s 15s/step - loss: 7.6524 - accuracy: 0.2013 - val_loss: 5.7200 - val_accuracy: 0.3900\n",
      "Epoch 3/10\n",
      "32/32 [==============================] - 525s 16s/step - loss: 7.4003 - accuracy: 0.2015 - val_loss: 5.3624 - val_accuracy: 0.3926\n",
      "Epoch 4/10\n",
      "32/32 [==============================] - 525s 16s/step - loss: 7.2713 - accuracy: 0.2198 - val_loss: 5.3221 - val_accuracy: 0.4154\n",
      "Epoch 5/10\n",
      "32/32 [==============================] - 623s 19s/step - loss: 7.1937 - accuracy: 0.2276 - val_loss: 5.2828 - val_accuracy: 0.4151\n",
      "Epoch 6/10\n",
      "32/32 [==============================] - 702s 22s/step - loss: 7.1384 - accuracy: 0.2284 - val_loss: 5.2877 - val_accuracy: 0.4169\n",
      "Epoch 7/10\n",
      "32/32 [==============================] - 730s 23s/step - loss: 7.0903 - accuracy: 0.2288 - val_loss: 5.2616 - val_accuracy: 0.4149\n",
      "Epoch 8/10\n",
      "32/32 [==============================] - 722s 23s/step - loss: 7.0495 - accuracy: 0.2290 - val_loss: 5.2332 - val_accuracy: 0.4164\n",
      "Epoch 9/10\n",
      "32/32 [==============================] - 725s 23s/step - loss: 7.0130 - accuracy: 0.2290 - val_loss: 5.2270 - val_accuracy: 0.4177\n",
      "Epoch 10/10\n",
      "32/32 [==============================] - 731s 23s/step - loss: 6.9790 - accuracy: 0.2291 - val_loss: 5.2588 - val_accuracy: 0.4149\n"
     ]
    }
   ],
   "source": [
    "model.compile(optimizer='rmsprop', loss='sparse_categorical_crossentropy', metrics = ['accuracy']) # Компиляция\n",
    "print(\"Модель скомпилировалась\")\n",
    "print(x_tr.shape)\n",
    "print(y_tr.shape)\n",
    "history = model.fit(          # Обучение модели\n",
    "    [x_tr, y_tr[:, :-1]],\n",
    "    y_tr.reshape(y_tr.shape[0], y_tr.shape[1], 1)[:, 1:],\n",
    "    epochs = 10,\n",
    "    batch_size=32, #32\n",
    "    validation_data=([x_val, y_val[:, :-1]],\n",
    "                     y_val.reshape(y_val.shape[0], \n",
    "                                   y_val.shape[1], 1)[: , 1:]),\n",
    "    )"
   ]
  },
  {
   "cell_type": "code",
   "execution_count": 95,
   "metadata": {
    "colab": {
     "base_uri": "https://localhost:8080/"
    },
    "id": "wO5Ra2toiy3Z",
    "outputId": "bb131061-fdc3-4551-8124-fff76b7243db"
   },
   "outputs": [
    {
     "ename": "ModuleNotFoundError",
     "evalue": "No module named 'google.colab'",
     "output_type": "error",
     "traceback": [
      "\u001b[1;31m---------------------------------------------------------------------------\u001b[0m",
      "\u001b[1;31mModuleNotFoundError\u001b[0m                       Traceback (most recent call last)",
      "\u001b[1;32m~\\AppData\\Local\\Temp\\ipykernel_10380\\3853309934.py\u001b[0m in \u001b[0;36m<module>\u001b[1;34m\u001b[0m\n\u001b[0;32m      1\u001b[0m \u001b[1;31m# Сохраним результат обучения на гугл диск\u001b[0m\u001b[1;33m\u001b[0m\u001b[1;33m\u001b[0m\u001b[0m\n\u001b[1;32m----> 2\u001b[1;33m \u001b[1;32mfrom\u001b[0m \u001b[0mgoogle\u001b[0m\u001b[1;33m.\u001b[0m\u001b[0mcolab\u001b[0m \u001b[1;32mimport\u001b[0m \u001b[0mdrive\u001b[0m\u001b[1;33m\u001b[0m\u001b[1;33m\u001b[0m\u001b[0m\n\u001b[0m\u001b[0;32m      3\u001b[0m \u001b[0mdrive\u001b[0m\u001b[1;33m.\u001b[0m\u001b[0mmount\u001b[0m\u001b[1;33m(\u001b[0m\u001b[1;34m'/content/gdrive'\u001b[0m\u001b[1;33m)\u001b[0m\u001b[1;33m\u001b[0m\u001b[1;33m\u001b[0m\u001b[0m\n\u001b[0;32m      4\u001b[0m \u001b[1;33m\u001b[0m\u001b[0m\n\u001b[0;32m      5\u001b[0m \u001b[0mhistory\u001b[0m\u001b[1;33m.\u001b[0m\u001b[0mmodel\u001b[0m\u001b[1;33m.\u001b[0m\u001b[0msave\u001b[0m\u001b[1;33m(\u001b[0m\u001b[1;34m\"/content/gdrive/My Drive/seq2seq_model.h5\"\u001b[0m\u001b[1;33m)\u001b[0m \u001b[1;31m# Вставить свой путь\u001b[0m\u001b[1;33m\u001b[0m\u001b[1;33m\u001b[0m\u001b[0m\n",
      "\u001b[1;31mModuleNotFoundError\u001b[0m: No module named 'google.colab'"
     ]
    }
   ],
   "source": [
    "# Сохраним результат обучения на гугл диск\n",
    "from google.colab import drive\n",
    "drive.mount('/content/gdrive')\n",
    "\n",
    "history.model.save(\"/content/gdrive/My Drive/seq2seq_model.h5\") # Вставить свой путь"
   ]
  },
  {
   "cell_type": "code",
   "execution_count": 96,
   "metadata": {
    "colab": {
     "base_uri": "https://localhost:8080/",
     "height": 428
    },
    "id": "g_7AJecXWd5J",
    "outputId": "4133a4e2-501b-4c33-ae4d-d2f0f262d080"
   },
   "outputs": [
    {
     "data": {
      "image/png": "[encoded data removed]",
      "text/plain": [
       "<Figure size 900x400 with 2 Axes>"
      ]
     },
     "metadata": {},
     "output_type": "display_data"
    }
   ],
   "source": [
    "import matplotlib.pyplot as plt\n",
    "def one_plot(n, y_lb, loss_acc, val_loss_acc):\n",
    "    plt.subplot(1, 2, n)\n",
    "    if n == 1:\n",
    "        lb, lb2 = 'loss', 'val_loss'\n",
    "        yMin = 0\n",
    "        yMax = 1.05 * max(max(loss_acc), max(val_loss_acc))\n",
    "    else:\n",
    "        lb, lb2 = 'acc', 'val_acc'\n",
    "        yMin = min(min(loss_acc), min(val_loss_acc))\n",
    "        yMax = 1.0\n",
    "    plt.plot(loss_acc, color = 'r', label = lb, linestyle = '--')\n",
    "    plt.plot(val_loss_acc, color = 'g', label = lb2)\n",
    "    plt.ylabel(y_lb)\n",
    "    plt.xlabel('Эпоха')\n",
    "    plt.ylim([0.95 * yMin, yMax])\n",
    "    plt.legend()\n",
    "\n",
    "def BuildPlot(history):\n",
    "    plt.figure(figsize=(9, 4))\n",
    "    plt.subplots_adjust(wspace=0.5)\n",
    "    one_plot(1, 'Потери', history['loss'], history['val_loss'])\n",
    "    one_plot(2, 'Точность', history['accuracy'], history['val_accuracy'])\n",
    "    plt.suptitle('Потери и точность')\n",
    "    plt.show()\n",
    "\n",
    "\n",
    "BuildPlot(history.history)"
   ]
  },
  {
   "cell_type": "code",
   "execution_count": 97,
   "metadata": {
    "id": "dKH7dE4dWd94"
   },
   "outputs": [],
   "source": [
    "dict_ind_sum = y_tokenizer.index_word  # словарь соответствия индекс - токен в summary\n",
    "dict_ind_text = x_tokenizer.index_word # словарь соответствия индекс - токен в text\n",
    "dict_sum_ind = y_tokenizer.word_index  # словарь соответствия токен в summary-его индекс\n",
    "# Модель вывода\n",
    "# Кодируем входную последовательность, чтобы получить вектор признаков\n",
    "encoder_model = Model(inputs=encoder_inputs, outputs=[encoder_outputs, state_h, state_c])\n",
    "\n",
    "# Настраиваем декодировщик\n",
    "\n",
    "# тензоры сохранят состояния предыдущего временного шага.\n",
    "decoder_state_input_h = Input(shape=(latent_dim, ))\n",
    "decoder_state_input_c = Input(shape=(latent_dim, ))\n",
    "decoder_hidden_state_input = Input(shape=(max_text_len, latent_dim))\n",
    "\n",
    "# Получить вложения последовательности декодера\n",
    "dec_emb2 = dec_emb_layer(decoder_inputs)\n",
    "\n",
    "# Чтобы предсказать следующее слово в последовательности, устанавливаем в начальные состояния состояния с предыдущего временного шага\n",
    "(decoder_outputs2, state_h2, state_c2) = decoder_lstm(dec_emb2, initial_state=[decoder_state_input_h, decoder_state_input_c])\n",
    "\n",
    "#слой softmax для генерации по целевому словарю \n",
    "decoder_outputs2 = decoder_dense(decoder_outputs2)\n",
    "\n",
    "# модель декодировщика\n",
    "decoder_model = Model([decoder_inputs] + [decoder_hidden_state_input,decoder_state_input_h, decoder_state_input_c],\n",
    "                      [decoder_outputs2] + [state_h2, state_c2])"
   ]
  },
  {
   "cell_type": "code",
   "execution_count": 98,
   "metadata": {
    "id": "myoiWwO4WeCU"
   },
   "outputs": [],
   "source": [
    "def decode_sequence(input_seq):\n",
    "    # предсказания\n",
    "    e_out, e_h, e_c = encoder_model.predict(input_seq)\n",
    "#     print(\"inp_seq\", input_seq)\n",
    "#     print(type(e_out))\n",
    "#     print(e_h)\n",
    "    # Генерация пустой целевой последовательности \n",
    "    target_seq = np.zeros((1,1), dtype=int)\n",
    "    # Первое слово - begin\n",
    "    target_seq[0, 0] = dict_sum_ind['begin']\n",
    "    #print(target_seq[0, 0])\n",
    "    stop_condition = False\n",
    "    decoded_sentence = ''\n",
    "    while not stop_condition:\n",
    "        #output_tokens, h, c = decoder_model.predict([target_seq] +[e_out, e_h, e_c]) \n",
    "        output_tokens, h, c = decoder_model.predict_on_batch([target_seq] +[e_out, e_h, e_c]) \n",
    "         # Индекс токена как индекс наибольшего элемента массива output_tokens\n",
    "        sampled_token_index = np.argmax(output_tokens[0, -1, :])\n",
    "#         print(output_tokens[0][0][0])- трехмерный массив с числами с числами в районе 0.02\n",
    "        #print(\"\\n\\n\", output_tokens[0, -1, :])\n",
    "#       \n",
    "        sampled_token = dict_ind_sum[sampled_token_index]\n",
    "        #print(\"-------------- \",sampled_token_index,sampled_token) # \n",
    "    \n",
    "    \n",
    "        if(sampled_token!='end'):\n",
    "            decoded_sentence += ' '+sampled_token\n",
    "\n",
    "        # Выход из цикла\n",
    "        if (sampled_token == 'end'  or len(decoded_sentence.split()) >= (max_summary_len-1)) : #or (sampled_token_index==0))\n",
    "            stop_condition = True\n",
    "\n",
    "        # Обновление целевой последовательности\n",
    "        target_seq = np.zeros((1,1))\n",
    "        target_seq[0, 0] = sampled_token_index\n",
    "\n",
    "        # обновление внутреннего состояния\n",
    "        #print(e_h, e_c )\n",
    "        e_h, e_c = h, c\n",
    "\n",
    "    return decoded_sentence"
   ]
  },
  {
   "cell_type": "code",
   "execution_count": 99,
   "metadata": {
    "id": "3TMa8rJmWeHQ"
   },
   "outputs": [],
   "source": [
    "def seq2summary(input_seq):\n",
    "    newString=''\n",
    "    for i in input_seq:\n",
    "        if((i!=0 and i!=dict_sum_ind['begin']) and i!=dict_sum_ind['end']):\n",
    "            newString=newString+ dict_ind_sum[i]+' '\n",
    "    return newString\n",
    "\n",
    "def seq2text(input_seq):\n",
    "    newString=''\n",
    "    for i in input_seq:\n",
    "        if(i!=0):\n",
    "            newString=newString+dict_ind_text[i]+' '\n",
    "    return newString"
   ]
  },
  {
   "cell_type": "code",
   "execution_count": 100,
   "metadata": {
    "id": "G0zPaNRSWeLR"
   },
   "outputs": [
    {
     "name": "stdout",
     "output_type": "stream",
     "text": [
      "Кол-во символов в строке: \t 1588 \n",
      " Текст: \n",
      " изменить оценку настаивать 70 млрд означало ожидать серьезного замедления оттока капитала непонятно каких причинах говорит главный экономист bnp paribas юлия цепляева последние месяца отток капитала ускорится декабрь приходится значительная часть выплат внешним долгам приводит усилению оттока особенно рефинансируются новыми кредитами соглашается главный экономист фк открытие владимир тихомиров прогнозируемый минэкономразвития отток капитала самых высоких последние 20 лет ушло лишь 2008 году фоне разрастания финансового кризиса российскогрузинской войны 1337 млрд кризисный 2009 год россии утекло 561 млрд главный фактор ускорения оттока капитала 2011 году нестабильность внешних финансовых рынках рост опасений относительно второй волны рецессии это реакция неуверенность которую генерирует европа долговыми проблемами случае новой волны глобальной турбулентности россия одна самых уязвимых стран говорит цепляева одна причина ослабление рубля привлекательность вложений снижается фоне рубль перестал укрепляться ставки депозитам достаточно низкие результате экспортеры полностью возвращают экспортную выручку говорит тихомиров внутри страны эксперты видят особых причин бегства капитала ситуация выглядит достаточно позитивно очень хорошие макроэкономические результаты год особенно фоне других стран политической точки зрения достаточно понятно предсказуемо итог выборов очевиден говорит экономист ик тройка диалог антон струченевский менее политический фактор играет роль бизнесу важно президентом ждет ясности перестановками правительстве наших условиях административный ресурс важнее успешности бизнеса говорит цепляева добавляя отток капитала продолжится завершения президентских выборов \n",
      "\n",
      "\n",
      " Ожидаемый результат: \n",
      " московский спартак продолжает кампанию очередным стать полузащитник \n",
      "1/1 [==============================] - 2s 2s/step\n",
      "\n",
      "\n",
      " Полученная на основе НС аннотация текста :  сша сша россии россии россии россии россии россии россии россии россии россии россии россии россии\n",
      "-------------\n",
      "Кол-во символов в строке: \t 1735 \n",
      " Текст: \n",
      " московского государственного лингвистического университета имеет американские дипломы монтерейского института международных исследований monterey institute of international studies магистра делового администрирования гарвардской бизнесшколы прихода alvarez marsal соловьева течение пяти лет работала российском медиахолдинге профмедиа занимала посты исполнительного вицепрезидента затем президента отвечала создание внедрение портфельной стратегии холдинга управление активами корпоративное управление финансовые результаты компании 20032006 годах соловьева директором корпоративному развитию мобильных телесистемах мтс работала голландском офисе консалтинговой компании booz allen hamilton российском операторе спутникового телевидения нтв американской косметической компании mary kay поставщике интернетуслуг россии golden telecom словам источника интернетрынке долгове стратегия google стала смещаться технологической ориентированный массового потребителя профессиональные качества соловьевой отвечают новой политике компании считает точки зрения сил знаний хватит опыт работы международных компаниях позволит найти общий язык западными акционерами словам источника одной задач соловьевой новой должности должно стать решение проблемы позиционирования компании госсекторе поиск общего языка регулятором должен идти руководителя компании словам аналитика финам леонида делицына активных действий google ожидать качестве руководителя нанят технологический специалист маркетолог google выбрал менеджера достаточной категории поддерживать текущую стратегию компании рынке которая взгляд остается вялой говорит политики придерживаться любой менеджер опытом работы крупной компании liveinternet оценивает долю google российском рынке поиска 263 яндекса 61 россии google продолжит наращивать долю основном счет общемировых сервисов androidустройств считает делицин \n",
      "\n",
      "\n",
      " Ожидаемый результат: \n",
      " издание the оценило российский который отличается своих частности быстро летательный аппарат поступит вооружение отмечает сми \n",
      "1/1 [==============================] - 1s 1s/step\n",
      "\n",
      "\n",
      " Полученная на основе НС аннотация текста :  сша сша россии россии россии россии россии россии россии россии россии россии россии россии россии\n",
      "-------------\n",
      "Кол-во символов в строке: \t 1684 \n",
      " Текст: \n",
      " гамидов юсуфов провели аукцион заключения контракта ооо грандстрой 2013 2014 годах компании перечислено 41 миллиона рублей кроме следователи выявили хищение бюджетных средств выделенных инженерную инфраструктуру турбазы орлиное гнездо которой 2011 года фактически владел исаев действия причинили бюджету республики ущерб равный примерно 35 миллионам рублей комментируя данную ситуацию пресссекретарь президента россии владимира путина дмитрий песков заявил российскому лидеру докладывают действиях правоохранительных органов связи задержаниями чиновников дагестане передает фан ранее 20 января мэр махачкалы муса мусаев подозреваемый превышении должностных полномочий задержан помещен следственный изолятор обысков следствием установлено марте 2016 года мусаев заведомо зная земельный участок площадью около 175 тысяч кв м расположенный махачкале является собственностью республики дагестан превышая свои должностные полномочия незаконно подписал постановление предоставлении оао аспк собственность земельного участка плату размере 1 млн 100 тыс руб говорилось сообщении следствия основании незаконного постановления единый реестр прав внесена запись государственной регистрации права собственности участок согласно заключению специалиста рыночная стоимость участка составляет 81 млн руб незаконными действиями мусаева существенно нарушены охраняемые законом интересы государства причинен значительный материальный ущерб бюджету дагестана сумму около 80 млн руб резюмировалось сообщение правоохранительного ведомства дня задержания счетная палата сообщила время проверки мэрии махачкалы части исполнения городского бюджета 2016 2017 годов выявлено нарушений 3 млрд руб деньги использованы нерационально противозаконно \n",
      "\n",
      "\n",
      " Ожидаемый результат: \n",
      " глава мид россии сергей лавров заявил 2014 году сша итогов референдума крыма российскую провести повторно ранее президент сша дональд трамп обвинил своего барака крым рф \n",
      "1/1 [==============================] - 1s 1s/step\n",
      "\n",
      "\n",
      " Полученная на основе НС аннотация текста :  сша сша россии россии россии россии россии россии россии россии россии россии россии россии россии\n",
      "-------------\n",
      "Кол-во символов в строке: \t 1663 \n",
      " Текст: \n",
      " футбол январе года глава сбербанка герман греф сравнившей членство россии игрой дворовой команды олимпийских играх наряду негативными факторами конкурентоспособности российских товаров высокими удельными расходами топлива транспортными затратами изза рынки сбыта удалены мест производства также низкой производительностью труда участники дискуссии нашли позитивные числе масштаб страны наличие большого объема ресурсов неудовлетворенный внутренний спрос человеческий капитал всем позитиве россия отстает тренда отстает теряет конкурентоспособность большая часть игроков новом этапе входят число участников соглашения свободной торговле это грозит ситуацией летят самолете сели поезд посетовал слепнев вступления вто выиграли те вступил раньше например бразилия отметил глава минэкономразвития андрей белоусов те вступают вначале получают те вступают конце последних традиционно отжимают многие возможности которые рассчитывали пока реализованы отметил зарубежные участники дискуссии очередь посоветовали россии активнее играть защите закрывая свой рынок нападении защищать свои экспортные интересы вто игра очень хорошими командами команды сильнее вашей оттачивать собственную игру участие это перебрасывание мяча своей части поля сказал бывший комиссар ес торговле лорд питер мандельсон сказано докладе global counsel llp подход россии членству вто носит скорее оборонительный наступательный характер многие видят вто угрозу это нечто нужно защищать экономику промышленность россия занимает должное место вто необходимо обеспечивать квалифицированное представительство уверен еврокомиссар вкладывать средства нужно собственную команду чисто имиджевые проекты мероприятия резюмировал мандельсон \n",
      "\n",
      "\n",
      " Ожидаемый результат: \n",
      " министерство финансов предлагает вдвое поднять сбор изза рубежа рублей 500 причина инфляция интерес россиян покупкам иностранных магазинах снизится однако вряд станут чаще российских отмечают эксперты признают ресурсы объема \n",
      "1/1 [==============================] - 1s 1s/step\n",
      "\n",
      "\n",
      " Полученная на основе НС аннотация текста :  сша сша россии россии россии россии россии россии россии россии россии россии россии россии россии\n",
      "-------------\n",
      "Кол-во символов в строке: \t 1729 \n",
      " Текст: \n",
      " московских залах наргиз закирова своими колоритными каверверсиями рокхитов стала фаворитом корпоративных вечеринок содержанием голоса нынешнему моменту стали столько таланты участников сколько дрожь слезы наставников остроты ведущего дмитрия нагиева который год благодаря сериалу физрук вернул статус народного героя слегка потускневший закрытия шоу осторожно модерн соответственно появились голосе вставные аттракционы например юмористические выходы ивана урганта даниила градского сына александра борисовича отборочном туре первой ходе отчетного концерта вылетела мариам мерабова подопечная леонида агутина супруг анжелики варум традиционно выбрал самую профессиональную команду певице судя всему недостало личного обаяния хотя голос мариам выше всяких похвал вторым выбыл александр бон падаван димы билана артистичный молодой человек смысле голоса серьезно проигрывал остальным участникам дошел финала конец проиграл несмотря крайне выигрышный номер песней земфиры девочка созрела победительницей вновь стала воспитанница градского александра воробьева втором финальном туре спела арию призрака оперы блестяще вытянула действительно сложную очень эффектную партию девушку поздравили лично константин эрнст вручивший победительнице ключи автомобиля продюсер развлекательных программ первого канала юрий аксюта директор universal music russia дмитрий коннов александру ждет выпуск альбома упомянутом мейджорлейбле тур россии напоследок эрнст сообщил четвертом сезоне состав наставников полностью сменится остается пофантазировать новая команда воспитание молодых дарований возьмется креативно возможно подберут участникам удачный репертуар каверов напишут новые песни это узнаем лишь год \n",
      "\n",
      "\n",
      " Ожидаемый результат: \n",
      " американские саудовской аравии связи этим заявление главы ввс сша европе африке разработке плана калининградской области указал российский премьер дмитрий медведев губернатор калининградской области антон американскому план исторический опыт \n",
      "1/1 [==============================] - 1s 1s/step\n",
      "\n",
      "\n",
      " Полученная на основе НС аннотация текста :  сша сша россии россии россии россии россии россии россии россии россии россии россии россии россии\n",
      "-------------\n",
      "Кол-во символов в строке: \t 1674 \n",
      " Текст: \n",
      " сбор биологического материала россиян проживающих разных географических точках западе делается крайне скрупулезно выверяется вплоть мелочей применять биологическое оружие наверняка рассказал сенатор риа новости отметил предупреждение президента россии владимира путина очень своевременным конце июля учебное авиационное командование американских ввс опубликовало контракт закупку образцов рнк живых тканей россиян европеоидной расы соответствующий документ размещен официальном портале правительственных тендеров следовало американским военным понадобились 12 образцов молекул рнк участвующей реализации генетической информации человека также 27 образцов синовиальной жидкости обеспечивающей подвижность суставов контракте закупку также прописан ряд требований потенциальным поставщикам образцов образцы синовиальная ткань образцы рнк должны взяты россии европеоидов правительство рассматривать образцы тканей украины уточнялось документе заказчики подчеркнули свежезамороженные образцы синовиальной ткани рнк должны получены людей травм опорнодвигательного аппарата образцы синовиальной ткани рнк необязательно должны соответствовать друг другу допускалось получение разных доноров образцы синовиальной ткани рнк должны поступать людей отрицательным анализом вич гепатит b гепатит c сифилис говорится тексте контракта предоставлении образцов поставщик должен предоставить информацию соответствующем доноре пол возраст этническую принадлежность стаж курения медицинскую историю рост вес стаж курения другие данные соответствии условиями контракта образцы должны поставлены базу ввс леклэнде санантонио техас течение десяти дней момента получения подрядчиком денег документе уточнялось каких целях авиационное командование американских ввс использовать полученные образцы живой ткани российских граждан \n",
      "\n",
      "\n",
      " Ожидаемый результат: \n",
      " следующем году российский флот получит сразу шесть числе четыре такое число передадут впервые 28 лет году вооружение планируется передать две числе тех передадут 2020 году которая \n",
      "1/1 [==============================] - 1s 1s/step\n",
      "\n",
      "\n",
      " Полученная на основе НС аннотация текста :  сша сша россии россии россии россии россии россии россии россии россии россии россии россии россии\n",
      "-------------\n",
      "Кол-во символов в строке: \t 1625 \n",
      " Текст: \n",
      " догоняющими августе многие российские частные банки изза недостатка свободных средств рынке активизировали борьбу средства населения активность банков объяснялась недостатком ликвидности выходом некоторых банков рынок экспресскредитования требующий ресурсов развития главный экономист банка hsbc россии снг александр морозов ожидает процентная ставка депозитам начнет снижаться второго полугодия снижение произойдет изза замедления инфляции связи уменьшением конкурентной борьбы банков депозиты темпы роста потребкредитования снижаются это приведет уменьшению конкуренции средства населения фондирования кредитования объясняет экономист агентстве зафиксировали конце года банки получили дополнительные 750 млрд рублей побило абсолютный рекорд 2011 года 700 млрд рублей рост сберегательной активности концу года контрастирует резким спадом кредитования традиционно высокий предновогодний сезон например портфель кредитов населению сбербанка увеличился 19 25 трлн рублей против роста 62 декабре 2011 года роль сыграли некоторое насыщение рынка 40процентного роста течение года осторожный подход банков рискам выборе заемщиков объяснила аналитик компании совлинк ольга беленькая снижение темпов роста вкладов 2013 году предсказуемо считает дмитрий мирошниченко центра развития доходы населения растут очень медленно сберегать аргументирует целом приросте депозитов большую долю занимают проценты предыдущим вкладам рост новой базы заметил морозов ситуация ликвидностью текущем году останется острой роста деловой активности предвидится приход иностранных инвесторов вопросом рассуждает мирошниченко кроме условиях регуляторного ограничения максимальных ставок вкладам населения центробанком банки станут конкурировать корпоративные депозиты \n",
      "\n",
      "\n",
      " Ожидаемый результат: \n",
      " россии женщины имеет сторону россиянок однако году данным эта тенденция изменится 17 лет такие область мордовия область дефицит \n",
      "1/1 [==============================] - 1s 1s/step\n",
      "\n",
      "\n",
      " Полученная на основе НС аннотация текста :  сша сша россии россии россии россии россии россии россии россии россии россии россии россии россии\n",
      "-------------\n",
      "Кол-во символов в строке: \t 1592 \n",
      " Текст: \n",
      " главный тренер астанинского барыса андрей хомутов поражения динамо 13 матче регулярного чемпионата кхл посетовал многочисленный травмы усталость поздравляю динамо победой сказал бывший наставник белоголубых это тяжелый матч выглядели уставшими поэтому получилась игра атаке особенно большинстве оборона хромает провала пропустили шайбы полностью сломали нашу игру потеря четырех ключевых защитников сказаться результате качестве игры будем работать нынешнее динамо сильно отличается прошлогоднего которое тренировали это динамо хк мвд таково мое мнение всетаки практически весь состав хк мвд играет это охк динамо охк динамо сильнее той команды которую возглавляли сезон покажет главный тренер московского динамо олег знарок пожаловался проблемы составом имеем такие проблемы барыс очень травмированных сегодня мои подопечные двигались выполнили установки удачно забили насколько серьезна травма волкова наш голкипер менее здоров почему играл лео комаров травма смысла ставить поскольку повреждением выходил югрой показал своей игры мучить человека нападающими проблем скажешь ситуации защитниками нападающий владимир горбунов который пока играет позиции защитника набирает очки каждом матче оставить обороне любого нападающего поставить защиту действовать неординарно придержать паузу сделать первый пас отдать короче свойственно центрфорвардам стоит отметить владимир также сыграл строго провалов c другими новостями подробностями матчей ознакомиться странице кхл \n",
      "\n",
      "\n",
      " Ожидаемый результат: \n",
      " заявила членами американской лопес конфликт произошел выходные одного санктпетербурга сети появилось видео потасовки \n",
      "1/1 [==============================] - 1s 1s/step\n",
      "\n",
      "\n",
      " Полученная на основе НС аннотация текста :  сша сша россии россии россии россии россии россии россии россии россии россии россии россии россии\n",
      "-------------\n",
      "Кол-во символов в строке: \t 1746 \n",
      " Текст: \n",
      " европы представляющие ведущие сборные знают играть баскетбол кажется сделали правильно измотав соперника навязав первых минут плотный агрессивный баскетбол второй половине осталось сил цска первой половине играл соперником кошкимышки просто нашей задачей максимально вымотать соперника получилось агрессивную защиту сменяли активным нападением менее непривычно пропустили первой половине чтото тренер этому поводу говорил перерыве дело испанцев слишком свободных бросков чересчур увлекались подстраховкой стремились помогать друг другу теряли игроков дальней стороне этим соперник неплохо воспользовался стали действовать внимательнее перекрывать первую передачу стало получаться украшение глазом кириленко вышел раздевалки внушительного размера синяком это следствие агрессивной игры страшного улыбается главное это далеко сердца это самое главное поскорее забыть столь крупную победу готовиться следующей игре специфика таких матчей важно каким счетом победил достаточно одного очка преимущества набрать балл серии поэтому будем настроем готовиться ко второму матчу четвертьфинала лидеры цска концовке матча отдыхали молодежь забила 100 очков которых просили болельщики обидно абсолютно стремимся рекордам очковом плане взгляд игра очень хорошей стольника ваш возможный соперник полуфиналу определяется паре панатинаикос маккаби следите парой обе команды сильны это опытные коллективы которые ведут бой прекрасных тренера вчера маккаби сдержал порыв пао отсюда счет газетаru вела онлайнтрансляцию матча цска бильбао новости евролиги кубка вызова единой лиги втб многое другое узнать странице баскетбольных еврокубков \n",
      "\n",
      "\n",
      " Ожидаемый результат: \n",
      " рассказали подробности новой системе пенсионных название документа власти обещают отказаться вступления систему однако эксперты отмечают вряд новая схема интерес россиян \n",
      "1/1 [==============================] - 1s 1s/step\n",
      "\n",
      "\n",
      " Полученная на основе НС аннотация текста :  сша сша россии россии россии россии россии россии россии россии россии россии россии россии россии\n",
      "-------------\n",
      "Кол-во символов в строке: \t 1658 \n",
      " Текст: \n",
      " право общаться кандидатами представителями партий членами избирательных комиссий законе основных гарантиях избирательных прав права участие референдуме граждан российской федерации наблюдателях вообще говорится довольно мало согласно этому документу иностранный наблюдатель это просто представитель иностранной международной организации наделенный правом осуществлять порядке установленном законом наблюдение подготовкой проведением выборов референдумов российской федерации национальность гражданство законом никак регламентируются эксперт организации голос которая занимается мониторингом выборов андрей бузин считает нововведение цик существенно повлиять результат работы наблюдателей репутацию российских выборов цик хочет видеть добросовестных высококвалифицированных наблюдателей говорит понятно граждане россии знают законы реалии страны бузин считает цик пытается контролировать международные наблюдательные организации любой момент ограничить въезд страну время гражданам россии нужны никакие разрешения перемещения эксперт признает подобная мера первую очередь коснуться европейских организаций выборы сочли легитимными добавляет бузин пригласят наблюдателей шос белоруссии выше уровень доверия наблюдателям выше уровень доверия выборам добавляет глава юридической службы кпрф вадим соловьев обсе которая регулярно отправляет свои делегации выборы всему миру прокомментировать нововведение смогли видели прошлых парламентских выборах 2007 году приглашение международных наблюдателей вызвало большой скандал цик главе владимиром чуровым отказался приглашать представителей бюро правам человека обсе бдипч обсе самом начале кампании заявив пригласить непосредственно последнюю неделю кампании наблюдатели обсе ответ заявили необходимо мониторить весь процесс выборов процесс голосования россию вообще приехали \n",
      "\n",
      "\n",
      " Ожидаемый результат: \n",
      " сми опубликовали письмо котором обвиняет бывшего супруга команду якобы певицу детей давности говорит третьем лице \n",
      "1/1 [==============================] - 1s 1s/step\n",
      "\n",
      "\n",
      " Полученная на основе НС аннотация текста :  сша сша россии россии россии россии россии россии россии россии россии россии россии россии россии\n",
      "-------------\n"
     ]
    }
   ],
   "source": [
    "# %%capture\n",
    "# Если убрать %%capture будет виден результат суммаризации моделью, вывод большой, поэтому скрыл.\n",
    "\n",
    "for i in range(10):\n",
    "    print (\"Кол-во символов в строке: \\t\", len(seq2text(x_val[i])),\"\\n\", \"Текст: \\n\",seq2text(x_tr[i]))\n",
    "    print ('\\n\\n Ожидаемый результат: \\n',  seq2summary(y_val[i])) \n",
    "    print ('\\n\\n Полученная на основе НС аннотация текста :', decode_sequence(x_val[i].reshape(1,max_text_len))) # НС - нейросеть\n",
    "    print( \"-------------\")"
   ]
  },
  {
   "cell_type": "code",
   "execution_count": null,
   "metadata": {
    "id": "G7HmQyNxj0tE"
   },
   "outputs": [],
   "source": [
    "# Расчет метрик\n",
    "\n",
    "class Meteor:\n",
    "    def __init__(self, meteor_jar, language):\n",
    "        # Used to guarantee thread safety\n",
    "        self.lock = threading.Lock()\n",
    "\n",
    "        self.meteor_cmd = ['java', '-jar', '-Xmx2G', meteor_jar, '-', '-', '-stdio', '-l', language, '-norm']\n",
    "        self.meteor_p = subprocess.Popen(self.meteor_cmd,\n",
    "                                         stdin=subprocess.PIPE,\n",
    "                                         stdout=subprocess.PIPE,\n",
    "                                         stderr=subprocess.STDOUT,\n",
    "                                         encoding='utf-8',\n",
    "                                         bufsize=0)\n",
    "\n",
    "    def compute_score(self, hyps, refs):\n",
    "        scores = []\n",
    "        self.lock.acquire()\n",
    "        for hyp, ref in zip(hyps, refs):\n",
    "            stat = self._stat(hyp, ref)\n",
    "            # EVAL ||| stats\n",
    "            eval_line = 'EVAL ||| {}'.format(\" \".join(map(str, map(int, map(float, stat.split())))))\n",
    "            self.meteor_p.stdin.write('{}\\n'.format(eval_line))\n",
    "            scores.append(float(self.meteor_p.stdout.readline().strip()))\n",
    "        self.lock.release()\n",
    "\n",
    "        return sum(scores) / len(scores)\n",
    "\n",
    "    def _stat(self, hypothesis_str, reference_list):\n",
    "        # SCORE ||| reference 1 words ||| reference n words ||| hypothesis words\n",
    "        hypothesis_str = hypothesis_str.replace('|||', '').replace('  ', ' ')\n",
    "        score_line = ' ||| '.join(('SCORE', ' ||| '.join(reference_list), hypothesis_str))\n",
    "        self.meteor_p.stdin.write('{}\\n'.format(score_line))\n",
    "        return self.meteor_p.stdout.readline().strip()\n",
    "\n",
    "    def __del__(self):\n",
    "        self.lock.acquire()\n",
    "        self.meteor_p.stdin.close()\n",
    "        self.meteor_p.kill()\n",
    "        self.meteor_p.wait()\n",
    "        self.lock.release()"
   ]
  },
  {
   "cell_type": "code",
   "execution_count": null,
   "metadata": {
    "id": "iLz2GUm6j1IU"
   },
   "outputs": [],
   "source": [
    "def calc_metrics(refs, hyps, language, metric=\"all\", meteor_jar=None):\n",
    "    metrics = dict()\n",
    "    metrics[\"count\"] = len(hyps)\n",
    "    metrics[\"ref_example\"] = refs[-1]\n",
    "    metrics[\"hyp_example\"] = hyps[-1]\n",
    "    many_refs = [[r] if r is not list else r for r in refs]\n",
    "    if metric in (\"bleu\", \"all\"):\n",
    "        metrics[\"bleu\"] = corpus_bleu(many_refs, hyps)\n",
    "    if metric in (\"rouge\", \"all\"):\n",
    "        rouge = Rouge()\n",
    "        scores = rouge.get_scores(hyps, refs, avg=True)\n",
    "        metrics.update(scores)\n",
    "    if metric in (\"meteor\", \"all\") and meteor_jar is not None and os.path.exists(meteor_jar):\n",
    "        meteor = Meteor(meteor_jar, language=language)\n",
    "        metrics[\"meteor\"] = meteor.compute_score(hyps, many_refs)\n",
    "    return metrics\n",
    "\n",
    "\n",
    "def print_metrics(refs, hyps, language, metric=\"all\", meteor_jar=None):\n",
    "    metrics = calc_metrics(refs, hyps, language=language, metric=metric, meteor_jar=meteor_jar)\n",
    "\n",
    "    print(\"-------------METRICS-------------\")\n",
    "    print(\"Count:\\t\", metrics[\"count\"])\n",
    "    print(\"Ref:\\t\", metrics[\"ref_example\"])\n",
    "    print(\"Hyp:\\t\", metrics[\"hyp_example\"])\n",
    "\n",
    "    if \"bleu\" in metrics:\n",
    "        print(\"BLEU:     \\t{:3.1f}\".format(metrics[\"bleu\"] * 100.0))\n",
    "    if \"rouge-1\" in metrics:\n",
    "        print(\"ROUGE-1-F:\\t{:3.1f}\".format(metrics[\"rouge-1\"]['f'] * 100.0))\n",
    "        print(\"ROUGE-2-F:\\t{:3.1f}\".format(metrics[\"rouge-2\"]['f'] * 100.0))\n",
    "        print(\"ROUGE-L-F:\\t{:3.1f}\".format(metrics[\"rouge-l\"]['f'] * 100.0))\n",
    "    if \"meteor\" in metrics:\n",
    "        print(\"METEOR:   \\t{:3.1f}\".format(metrics[\"meteor\"] * 100.0))"
   ]
  },
  {
   "cell_type": "code",
   "execution_count": null,
   "metadata": {
    "id": "0wzJysJdj1OQ"
   },
   "outputs": [],
   "source": [
    "def postprocess(refs, hyps, tokenize_after=True, lower=True):\n",
    "    for i, (ref, hyp) in enumerate(zip(refs, hyps)):\n",
    "        ref = ref.strip()\n",
    "        hyp = hyp.strip()\n",
    "        if tokenize_after:\n",
    "            hyp = \" \".join([token.text for token in razdel.tokenize(hyp)])\n",
    "            ref = \" \".join([token.text for token in razdel.tokenize(ref)])\n",
    "        if lower:\n",
    "            hyp = hyp.lower()\n",
    "            ref = ref.lower()\n",
    "        refs[i] = ref\n",
    "        hyps[i] = hyp\n",
    "    return refs, hyps"
   ]
  },
  {
   "cell_type": "code",
   "execution_count": null,
   "metadata": {
    "id": "FhFl3i4Hj1Tr"
   },
   "outputs": [],
   "source": [
    "def calc_method_score(records, predict_func, nrows=None):\n",
    "    references = []\n",
    "    predictions = []\n",
    "\n",
    "    for i, record in enumerate(records):\n",
    "        if nrows is not None and i >= nrows:\n",
    "            break\n",
    "        summary = record[\"summary\"]\n",
    "        text = record[\"text\"]\n",
    "        prediction = predict_func(text, summary)\n",
    "        references.append(summary)\n",
    "        predictions.append(prediction)\n",
    "    references, predictions = postprocess(references, predictions)\n",
    "    print_metrics(references, predictions, \"ru\", meteor_jar=\"meteor-1.5/meteor-1.5.jar\")"
   ]
  },
  {
   "cell_type": "code",
   "execution_count": null,
   "metadata": {},
   "outputs": [],
   "source": [
    "summary = test_records[\"summary\"][0]\n",
    "text = test_records[\"text\"][0]\n",
    "prediction=predict_func(text, summary)\n",
    "prediction"
   ]
  },
  {
   "cell_type": "code",
   "execution_count": null,
   "metadata": {
    "id": "Ns_KN3_qj1Yn"
   },
   "outputs": [],
   "source": [
    "def predict_lead(text, summary, n):\n",
    "    sentences = [sentence.text for sentence in razdel.sentenize(text)]\n",
    "    prediction = \" \".join(sentences[:n])\n",
    "    return prediction"
   ]
  },
  {
   "cell_type": "code",
   "execution_count": null,
   "metadata": {
    "colab": {
     "base_uri": "https://localhost:8080/"
    },
    "id": "i4d9wFvDj1dS",
    "outputId": "6694d1a9-4714-4687-cb7a-83f334db167a"
   },
   "outputs": [],
   "source": [
    "# Метрики по модели\n",
    "\n",
    "calc_method_score(test_records, lambda x, y: predict_lead(x, y, 3))"
   ]
  },
  {
   "cell_type": "code",
   "execution_count": null,
   "metadata": {},
   "outputs": [],
   "source": [
    "test_records['text'][0]"
   ]
  },
  {
   "cell_type": "code",
   "execution_count": null,
   "metadata": {},
   "outputs": [],
   "source": [
    "test_records['summary'][0]"
   ]
  },
  {
   "cell_type": "code",
   "execution_count": null,
   "metadata": {
    "tags": []
   },
   "outputs": [],
   "source": [
    "predict_lead(test_records['text'][0], test_records['summary'][0], 6)"
   ]
  },
  {
   "cell_type": "code",
   "execution_count": 102,
   "metadata": {
    "colab": {
     "base_uri": "https://localhost:8080/",
     "height": 629,
     "referenced_widgets": [
      "7a1c388b174a46df90fac719248f486d",
      "dd7f420921da4380a56095809f36874b",
      "8a898a2ccc3244acbe2cd7ef19984987",
      "1e3cfa3799594c4ca7106c41ebcdbd47",
      "7884a93394af4bda81fef6157c140f90",
      "6186b26ad62b4c5185b7e1d43a522023",
      "e21b78dcc0a345b0a915366b2a098722",
      "be8dc66da7f2427887a7be8ea9cb6738",
      "9879e75328c74bccbcefaed8ec928611",
      "05e33cb892a645f0a096254470d56f38",
      "49eae9d84fc54d4ebacaab20dcfdf061",
      "eca3d840fe2147199e1365531c6b9cf3",
      "1037e935156f4d4286e675ff9c1c8d80",
      "b090cf2c8edf47efbcd4de64aa45f452",
      "a6e9d9e9e4ed469a90fe2771c58c92e8",
      "1c7e4d66ae8a4b8f98fc188efae4071b",
      "cb699143c2884657a3ccbfc85beace3b",
      "f8745d9b7ce445648f5c221f42380a3d",
      "1407aeb4ceb048b591c1c8b020645f2e",
      "dfdf1976efa74b1e895265773110ea96",
      "4ab50a21465c4611afbb9400531f93e1",
      "8ff6e7018b764cb38f56a4f6b27ecc39",
      "deafad7b9a4b4fae96d86464c6c68108",
      "fcf4587bc83341aa97779df6df2b9e8a",
      "b19b03ff9f114aa29f58e302a256abd0",
      "7e22a726a22c401f9b852774c7750dee",
      "ebc2a4f13a7b43aeb76e25e8789f5bb5",
      "428fa478bcd24472b087acfbe4cccf06",
      "e01d816daa3b41cdb7ed68e89d18501a",
      "8ec887ab0f3f47a3ad51cb45d89fee89",
      "cbebd06e4a8c4ea6876969aad869e183",
      "9f4c95fb1dbf4524937425046ecd47eb",
      "af16d056c1264407b232a42ec91c74cf",
      "8ce515647b5e44f1b724ca73218bf26d",
      "0ab1b70a2e7441748493362dd6304020",
      "f1999b4319304cc79e06ab4cd60ea728",
      "1937f334d1494b649e097f4d157854ce",
      "e1e73cf54f7849e485cd3f2fa3536380",
      "dea0f754220f4528a1cd88002094b848",
      "f2f587846eaa4a67a55914ccd15f6841",
      "30e7d7b9ca9541e493db8ddc2f121212",
      "c2f2de68612c4502ab88e3c9359a668e",
      "197049993a694c67a61652cc4ba0487b",
      "00515d87fd144fd5bef3665aa5de2744",
      "7623185d92414a6ebbb2825fe5a12146",
      "fc0069a47ec74cfc9d77c0f342bbc205",
      "a09c1ad987e9407cb00a9740aed63c09",
      "3be1376a93374be5855af9e1788d4d32",
      "19aefbc38daf4d3cb27ecbab55fbaf67",
      "c97815fa6ce44d0f93a013fbb2cfb21e",
      "3c758ccaacd940c2a181ec58e88a75be",
      "83a95f818b0348fda0477efcde491658",
      "f6a14ff47fee4c32ba9e59f95889403b",
      "c314b38a685c4dd19708e1dbd3e303bd",
      "55a9963352fd4f8e9e6d4622546c89c6",
      "ca19154029c64648bfc5585fa6fc2105",
      "356fc2b3748845c59abb1e98a79b6103",
      "a0c3f55d890848c797ce0e900342a1fc",
      "1507c37f8ae34919b0c808f49aaaf2eb",
      "07227cb3ed4e49f6842fc29a333732cd",
      "41c67847d9a248aea87f6c8a4d8d09a8",
      "8d47da37610f4fe29b5ddea5426adee2",
      "a79f5f41c59542649dda0ac4ac12705d",
      "70c4554dbfa1446389e51a71f932e2ac",
      "8ee363549404467b96128cbd59038a7f",
      "d87c198865f84eeb866eb32809488e06"
     ]
    },
    "id": "3B07-yCIpVkQ",
    "outputId": "4ffb8168-deee-4300-bf5f-21440b5a05ae"
   },
   "outputs": [
    {
     "ename": "ResourceExhaustedError",
     "evalue": "Exception encountered when calling layer 'encoder' (type TFBartEncoder).\n\n{{function_node __wrapped__Mul_device_/job:localhost/replica:0/task:0/device:CPU:0}} OOM when allocating tensor with shape[50264,1024] and type float on /job:localhost/replica:0/task:0/device:CPU:0 by allocator cpu [Op:Mul]\n\nCall arguments received by layer 'encoder' (type TFBartEncoder):\n  • input_ids=tf.Tensor(shape=(3, 5), dtype=int32)\n  • inputs_embeds=None\n  • attention_mask=tf.Tensor(shape=(3, 5), dtype=int32)\n  • head_mask=None\n  • output_attentions=False\n  • output_hidden_states=False\n  • return_dict=True\n  • training=False",
     "output_type": "error",
     "traceback": [
      "\u001b[1;31m---------------------------------------------------------------------------\u001b[0m",
      "\u001b[1;31mResourceExhaustedError\u001b[0m                    Traceback (most recent call last)",
      "\u001b[1;32m~\\AppData\\Local\\Temp\\ipykernel_10380\\2337377190.py\u001b[0m in \u001b[0;36m<module>\u001b[1;34m\u001b[0m\n\u001b[0;32m      1\u001b[0m \u001b[1;31m# Для быстрого вывода суммаризации можно рассмотреть следующий алгоритм seq2seq\u001b[0m\u001b[1;33m\u001b[0m\u001b[1;33m\u001b[0m\u001b[0m\n\u001b[0;32m      2\u001b[0m \u001b[1;33m\u001b[0m\u001b[0m\n\u001b[1;32m----> 3\u001b[1;33m \u001b[0msummarizer\u001b[0m \u001b[1;33m=\u001b[0m \u001b[0mpipeline\u001b[0m\u001b[1;33m(\u001b[0m\u001b[1;34m\"summarization\"\u001b[0m\u001b[1;33m,\u001b[0m \u001b[0mmodel\u001b[0m\u001b[1;33m=\u001b[0m\u001b[1;34m\"facebook/bart-large-cnn\"\u001b[0m\u001b[1;33m)\u001b[0m\u001b[1;33m\u001b[0m\u001b[1;33m\u001b[0m\u001b[0m\n\u001b[0m",
      "\u001b[1;32m~\\anaconda3\\lib\\site-packages\\transformers\\pipelines\\__init__.py\u001b[0m in \u001b[0;36mpipeline\u001b[1;34m(task, model, config, tokenizer, feature_extractor, framework, revision, use_fast, use_auth_token, device, device_map, torch_dtype, trust_remote_code, model_kwargs, pipeline_class, **kwargs)\u001b[0m\n\u001b[0;32m    722\u001b[0m     \u001b[1;31m# Will load the correct model if possible\u001b[0m\u001b[1;33m\u001b[0m\u001b[1;33m\u001b[0m\u001b[0m\n\u001b[0;32m    723\u001b[0m     \u001b[0mmodel_classes\u001b[0m \u001b[1;33m=\u001b[0m \u001b[1;33m{\u001b[0m\u001b[1;34m\"tf\"\u001b[0m\u001b[1;33m:\u001b[0m \u001b[0mtargeted_task\u001b[0m\u001b[1;33m[\u001b[0m\u001b[1;34m\"tf\"\u001b[0m\u001b[1;33m]\u001b[0m\u001b[1;33m,\u001b[0m \u001b[1;34m\"pt\"\u001b[0m\u001b[1;33m:\u001b[0m \u001b[0mtargeted_task\u001b[0m\u001b[1;33m[\u001b[0m\u001b[1;34m\"pt\"\u001b[0m\u001b[1;33m]\u001b[0m\u001b[1;33m}\u001b[0m\u001b[1;33m\u001b[0m\u001b[1;33m\u001b[0m\u001b[0m\n\u001b[1;32m--> 724\u001b[1;33m     framework, model = infer_framework_load_model(\n\u001b[0m\u001b[0;32m    725\u001b[0m         \u001b[0mmodel\u001b[0m\u001b[1;33m,\u001b[0m\u001b[1;33m\u001b[0m\u001b[1;33m\u001b[0m\u001b[0m\n\u001b[0;32m    726\u001b[0m         \u001b[0mmodel_classes\u001b[0m\u001b[1;33m=\u001b[0m\u001b[0mmodel_classes\u001b[0m\u001b[1;33m,\u001b[0m\u001b[1;33m\u001b[0m\u001b[1;33m\u001b[0m\u001b[0m\n",
      "\u001b[1;32m~\\anaconda3\\lib\\site-packages\\transformers\\pipelines\\base.py\u001b[0m in \u001b[0;36minfer_framework_load_model\u001b[1;34m(model, config, model_classes, task, framework, **model_kwargs)\u001b[0m\n\u001b[0;32m    255\u001b[0m \u001b[1;33m\u001b[0m\u001b[0m\n\u001b[0;32m    256\u001b[0m             \u001b[1;32mtry\u001b[0m\u001b[1;33m:\u001b[0m\u001b[1;33m\u001b[0m\u001b[1;33m\u001b[0m\u001b[0m\n\u001b[1;32m--> 257\u001b[1;33m                 \u001b[0mmodel\u001b[0m \u001b[1;33m=\u001b[0m \u001b[0mmodel_class\u001b[0m\u001b[1;33m.\u001b[0m\u001b[0mfrom_pretrained\u001b[0m\u001b[1;33m(\u001b[0m\u001b[0mmodel\u001b[0m\u001b[1;33m,\u001b[0m \u001b[1;33m**\u001b[0m\u001b[0mkwargs\u001b[0m\u001b[1;33m)\u001b[0m\u001b[1;33m\u001b[0m\u001b[1;33m\u001b[0m\u001b[0m\n\u001b[0m\u001b[0;32m    258\u001b[0m                 \u001b[1;32mif\u001b[0m \u001b[0mhasattr\u001b[0m\u001b[1;33m(\u001b[0m\u001b[0mmodel\u001b[0m\u001b[1;33m,\u001b[0m \u001b[1;34m\"eval\"\u001b[0m\u001b[1;33m)\u001b[0m\u001b[1;33m:\u001b[0m\u001b[1;33m\u001b[0m\u001b[1;33m\u001b[0m\u001b[0m\n\u001b[0;32m    259\u001b[0m                     \u001b[0mmodel\u001b[0m \u001b[1;33m=\u001b[0m \u001b[0mmodel\u001b[0m\u001b[1;33m.\u001b[0m\u001b[0meval\u001b[0m\u001b[1;33m(\u001b[0m\u001b[1;33m)\u001b[0m\u001b[1;33m\u001b[0m\u001b[1;33m\u001b[0m\u001b[0m\n",
      "\u001b[1;32m~\\anaconda3\\lib\\site-packages\\transformers\\models\\auto\\auto_factory.py\u001b[0m in \u001b[0;36mfrom_pretrained\u001b[1;34m(cls, pretrained_model_name_or_path, *model_args, **kwargs)\u001b[0m\n\u001b[0;32m    461\u001b[0m         \u001b[1;32melif\u001b[0m \u001b[0mtype\u001b[0m\u001b[1;33m(\u001b[0m\u001b[0mconfig\u001b[0m\u001b[1;33m)\u001b[0m \u001b[1;32min\u001b[0m \u001b[0mcls\u001b[0m\u001b[1;33m.\u001b[0m\u001b[0m_model_mapping\u001b[0m\u001b[1;33m.\u001b[0m\u001b[0mkeys\u001b[0m\u001b[1;33m(\u001b[0m\u001b[1;33m)\u001b[0m\u001b[1;33m:\u001b[0m\u001b[1;33m\u001b[0m\u001b[1;33m\u001b[0m\u001b[0m\n\u001b[0;32m    462\u001b[0m             \u001b[0mmodel_class\u001b[0m \u001b[1;33m=\u001b[0m \u001b[0m_get_model_class\u001b[0m\u001b[1;33m(\u001b[0m\u001b[0mconfig\u001b[0m\u001b[1;33m,\u001b[0m \u001b[0mcls\u001b[0m\u001b[1;33m.\u001b[0m\u001b[0m_model_mapping\u001b[0m\u001b[1;33m)\u001b[0m\u001b[1;33m\u001b[0m\u001b[1;33m\u001b[0m\u001b[0m\n\u001b[1;32m--> 463\u001b[1;33m             return model_class.from_pretrained(\n\u001b[0m\u001b[0;32m    464\u001b[0m                 \u001b[0mpretrained_model_name_or_path\u001b[0m\u001b[1;33m,\u001b[0m \u001b[1;33m*\u001b[0m\u001b[0mmodel_args\u001b[0m\u001b[1;33m,\u001b[0m \u001b[0mconfig\u001b[0m\u001b[1;33m=\u001b[0m\u001b[0mconfig\u001b[0m\u001b[1;33m,\u001b[0m \u001b[1;33m**\u001b[0m\u001b[0mhub_kwargs\u001b[0m\u001b[1;33m,\u001b[0m \u001b[1;33m**\u001b[0m\u001b[0mkwargs\u001b[0m\u001b[1;33m\u001b[0m\u001b[1;33m\u001b[0m\u001b[0m\n\u001b[0;32m    465\u001b[0m             )\n",
      "\u001b[1;32m~\\anaconda3\\lib\\site-packages\\transformers\\modeling_tf_utils.py\u001b[0m in \u001b[0;36mfrom_pretrained\u001b[1;34m(cls, pretrained_model_name_or_path, *model_args, **kwargs)\u001b[0m\n\u001b[0;32m   2732\u001b[0m                 \u001b[0mmodel\u001b[0m\u001b[1;33m(\u001b[0m\u001b[0mmodel\u001b[0m\u001b[1;33m.\u001b[0m\u001b[0mdummy_inputs\u001b[0m\u001b[1;33m)\u001b[0m  \u001b[1;31m# build the network with dummy inputs\u001b[0m\u001b[1;33m\u001b[0m\u001b[1;33m\u001b[0m\u001b[0m\n\u001b[0;32m   2733\u001b[0m         \u001b[1;32melse\u001b[0m\u001b[1;33m:\u001b[0m\u001b[1;33m\u001b[0m\u001b[1;33m\u001b[0m\u001b[0m\n\u001b[1;32m-> 2734\u001b[1;33m             \u001b[0mmodel\u001b[0m\u001b[1;33m(\u001b[0m\u001b[0mmodel\u001b[0m\u001b[1;33m.\u001b[0m\u001b[0mdummy_inputs\u001b[0m\u001b[1;33m)\u001b[0m  \u001b[1;31m# build the network with dummy inputs\u001b[0m\u001b[1;33m\u001b[0m\u001b[1;33m\u001b[0m\u001b[0m\n\u001b[0m\u001b[0;32m   2735\u001b[0m \u001b[1;33m\u001b[0m\u001b[0m\n\u001b[0;32m   2736\u001b[0m         \u001b[1;31m# 'by_name' allow us to do transfer learning by skipping/adding layers\u001b[0m\u001b[1;33m\u001b[0m\u001b[1;33m\u001b[0m\u001b[0m\n",
      "\u001b[1;32m~\\anaconda3\\lib\\site-packages\\keras\\utils\\traceback_utils.py\u001b[0m in \u001b[0;36merror_handler\u001b[1;34m(*args, **kwargs)\u001b[0m\n\u001b[0;32m     68\u001b[0m             \u001b[1;31m# To get the full stack trace, call:\u001b[0m\u001b[1;33m\u001b[0m\u001b[1;33m\u001b[0m\u001b[0m\n\u001b[0;32m     69\u001b[0m             \u001b[1;31m# `tf.debugging.disable_traceback_filtering()`\u001b[0m\u001b[1;33m\u001b[0m\u001b[1;33m\u001b[0m\u001b[0m\n\u001b[1;32m---> 70\u001b[1;33m             \u001b[1;32mraise\u001b[0m \u001b[0me\u001b[0m\u001b[1;33m.\u001b[0m\u001b[0mwith_traceback\u001b[0m\u001b[1;33m(\u001b[0m\u001b[0mfiltered_tb\u001b[0m\u001b[1;33m)\u001b[0m \u001b[1;32mfrom\u001b[0m \u001b[1;32mNone\u001b[0m\u001b[1;33m\u001b[0m\u001b[1;33m\u001b[0m\u001b[0m\n\u001b[0m\u001b[0;32m     71\u001b[0m         \u001b[1;32mfinally\u001b[0m\u001b[1;33m:\u001b[0m\u001b[1;33m\u001b[0m\u001b[1;33m\u001b[0m\u001b[0m\n\u001b[0;32m     72\u001b[0m             \u001b[1;32mdel\u001b[0m \u001b[0mfiltered_tb\u001b[0m\u001b[1;33m\u001b[0m\u001b[1;33m\u001b[0m\u001b[0m\n",
      "\u001b[1;32m~\\anaconda3\\lib\\site-packages\\transformers\\modeling_tf_utils.py\u001b[0m in \u001b[0;36mrun_call_with_unpacked_inputs\u001b[1;34m(self, *args, **kwargs)\u001b[0m\n\u001b[0;32m    430\u001b[0m \u001b[1;33m\u001b[0m\u001b[0m\n\u001b[0;32m    431\u001b[0m         \u001b[0munpacked_inputs\u001b[0m \u001b[1;33m=\u001b[0m \u001b[0minput_processing\u001b[0m\u001b[1;33m(\u001b[0m\u001b[0mfunc\u001b[0m\u001b[1;33m,\u001b[0m \u001b[0mconfig\u001b[0m\u001b[1;33m,\u001b[0m \u001b[1;33m**\u001b[0m\u001b[0mfn_args_and_kwargs\u001b[0m\u001b[1;33m)\u001b[0m\u001b[1;33m\u001b[0m\u001b[1;33m\u001b[0m\u001b[0m\n\u001b[1;32m--> 432\u001b[1;33m         \u001b[1;32mreturn\u001b[0m \u001b[0mfunc\u001b[0m\u001b[1;33m(\u001b[0m\u001b[0mself\u001b[0m\u001b[1;33m,\u001b[0m \u001b[1;33m**\u001b[0m\u001b[0munpacked_inputs\u001b[0m\u001b[1;33m)\u001b[0m\u001b[1;33m\u001b[0m\u001b[1;33m\u001b[0m\u001b[0m\n\u001b[0m\u001b[0;32m    433\u001b[0m \u001b[1;33m\u001b[0m\u001b[0m\n\u001b[0;32m    434\u001b[0m     \u001b[1;31m# Keras enforces the first layer argument to be passed, and checks it through `inspect.getfullargspec()`. This\u001b[0m\u001b[1;33m\u001b[0m\u001b[1;33m\u001b[0m\u001b[0m\n",
      "\u001b[1;32m~\\anaconda3\\lib\\site-packages\\transformers\\models\\bart\\modeling_tf_bart.py\u001b[0m in \u001b[0;36mcall\u001b[1;34m(self, input_ids, attention_mask, decoder_input_ids, decoder_attention_mask, decoder_position_ids, head_mask, decoder_head_mask, cross_attn_head_mask, encoder_outputs, past_key_values, inputs_embeds, decoder_inputs_embeds, use_cache, output_attentions, output_hidden_states, return_dict, labels, training)\u001b[0m\n\u001b[0;32m   1358\u001b[0m                 )\n\u001b[0;32m   1359\u001b[0m \u001b[1;33m\u001b[0m\u001b[0m\n\u001b[1;32m-> 1360\u001b[1;33m         outputs = self.model(\n\u001b[0m\u001b[0;32m   1361\u001b[0m             \u001b[0minput_ids\u001b[0m\u001b[1;33m,\u001b[0m\u001b[1;33m\u001b[0m\u001b[1;33m\u001b[0m\u001b[0m\n\u001b[0;32m   1362\u001b[0m             \u001b[0mattention_mask\u001b[0m\u001b[1;33m=\u001b[0m\u001b[0mattention_mask\u001b[0m\u001b[1;33m,\u001b[0m\u001b[1;33m\u001b[0m\u001b[1;33m\u001b[0m\u001b[0m\n",
      "\u001b[1;32m~\\anaconda3\\lib\\site-packages\\transformers\\modeling_tf_utils.py\u001b[0m in \u001b[0;36mrun_call_with_unpacked_inputs\u001b[1;34m(self, *args, **kwargs)\u001b[0m\n\u001b[0;32m    430\u001b[0m \u001b[1;33m\u001b[0m\u001b[0m\n\u001b[0;32m    431\u001b[0m         \u001b[0munpacked_inputs\u001b[0m \u001b[1;33m=\u001b[0m \u001b[0minput_processing\u001b[0m\u001b[1;33m(\u001b[0m\u001b[0mfunc\u001b[0m\u001b[1;33m,\u001b[0m \u001b[0mconfig\u001b[0m\u001b[1;33m,\u001b[0m \u001b[1;33m**\u001b[0m\u001b[0mfn_args_and_kwargs\u001b[0m\u001b[1;33m)\u001b[0m\u001b[1;33m\u001b[0m\u001b[1;33m\u001b[0m\u001b[0m\n\u001b[1;32m--> 432\u001b[1;33m         \u001b[1;32mreturn\u001b[0m \u001b[0mfunc\u001b[0m\u001b[1;33m(\u001b[0m\u001b[0mself\u001b[0m\u001b[1;33m,\u001b[0m \u001b[1;33m**\u001b[0m\u001b[0munpacked_inputs\u001b[0m\u001b[1;33m)\u001b[0m\u001b[1;33m\u001b[0m\u001b[1;33m\u001b[0m\u001b[0m\n\u001b[0m\u001b[0;32m    433\u001b[0m \u001b[1;33m\u001b[0m\u001b[0m\n\u001b[0;32m    434\u001b[0m     \u001b[1;31m# Keras enforces the first layer argument to be passed, and checks it through `inspect.getfullargspec()`. This\u001b[0m\u001b[1;33m\u001b[0m\u001b[1;33m\u001b[0m\u001b[0m\n",
      "\u001b[1;32m~\\anaconda3\\lib\\site-packages\\transformers\\models\\bart\\modeling_tf_bart.py\u001b[0m in \u001b[0;36mcall\u001b[1;34m(self, input_ids, attention_mask, decoder_input_ids, decoder_attention_mask, decoder_position_ids, head_mask, decoder_head_mask, cross_attn_head_mask, encoder_outputs, past_key_values, inputs_embeds, decoder_inputs_embeds, use_cache, output_attentions, output_hidden_states, return_dict, training, **kwargs)\u001b[0m\n\u001b[0;32m   1110\u001b[0m \u001b[1;33m\u001b[0m\u001b[0m\n\u001b[0;32m   1111\u001b[0m         \u001b[1;32mif\u001b[0m \u001b[0mencoder_outputs\u001b[0m \u001b[1;32mis\u001b[0m \u001b[1;32mNone\u001b[0m\u001b[1;33m:\u001b[0m\u001b[1;33m\u001b[0m\u001b[1;33m\u001b[0m\u001b[0m\n\u001b[1;32m-> 1112\u001b[1;33m             encoder_outputs = self.encoder(\n\u001b[0m\u001b[0;32m   1113\u001b[0m                 \u001b[0minput_ids\u001b[0m\u001b[1;33m=\u001b[0m\u001b[0minput_ids\u001b[0m\u001b[1;33m,\u001b[0m\u001b[1;33m\u001b[0m\u001b[1;33m\u001b[0m\u001b[0m\n\u001b[0;32m   1114\u001b[0m                 \u001b[0mattention_mask\u001b[0m\u001b[1;33m=\u001b[0m\u001b[0mattention_mask\u001b[0m\u001b[1;33m,\u001b[0m\u001b[1;33m\u001b[0m\u001b[1;33m\u001b[0m\u001b[0m\n",
      "\u001b[1;32m~\\anaconda3\\lib\\site-packages\\transformers\\modeling_tf_utils.py\u001b[0m in \u001b[0;36mrun_call_with_unpacked_inputs\u001b[1;34m(self, *args, **kwargs)\u001b[0m\n\u001b[0;32m    430\u001b[0m \u001b[1;33m\u001b[0m\u001b[0m\n\u001b[0;32m    431\u001b[0m         \u001b[0munpacked_inputs\u001b[0m \u001b[1;33m=\u001b[0m \u001b[0minput_processing\u001b[0m\u001b[1;33m(\u001b[0m\u001b[0mfunc\u001b[0m\u001b[1;33m,\u001b[0m \u001b[0mconfig\u001b[0m\u001b[1;33m,\u001b[0m \u001b[1;33m**\u001b[0m\u001b[0mfn_args_and_kwargs\u001b[0m\u001b[1;33m)\u001b[0m\u001b[1;33m\u001b[0m\u001b[1;33m\u001b[0m\u001b[0m\n\u001b[1;32m--> 432\u001b[1;33m         \u001b[1;32mreturn\u001b[0m \u001b[0mfunc\u001b[0m\u001b[1;33m(\u001b[0m\u001b[0mself\u001b[0m\u001b[1;33m,\u001b[0m \u001b[1;33m**\u001b[0m\u001b[0munpacked_inputs\u001b[0m\u001b[1;33m)\u001b[0m\u001b[1;33m\u001b[0m\u001b[1;33m\u001b[0m\u001b[0m\n\u001b[0m\u001b[0;32m    433\u001b[0m \u001b[1;33m\u001b[0m\u001b[0m\n\u001b[0;32m    434\u001b[0m     \u001b[1;31m# Keras enforces the first layer argument to be passed, and checks it through `inspect.getfullargspec()`. This\u001b[0m\u001b[1;33m\u001b[0m\u001b[1;33m\u001b[0m\u001b[0m\n",
      "\u001b[1;32m~\\anaconda3\\lib\\site-packages\\transformers\\models\\bart\\modeling_tf_bart.py\u001b[0m in \u001b[0;36mcall\u001b[1;34m(self, input_ids, inputs_embeds, attention_mask, head_mask, output_attentions, output_hidden_states, return_dict, training)\u001b[0m\n\u001b[0;32m    756\u001b[0m                     ),\n\u001b[0;32m    757\u001b[0m                 )\n\u001b[1;32m--> 758\u001b[1;33m                 \u001b[0minputs_embeds\u001b[0m \u001b[1;33m=\u001b[0m \u001b[0mself\u001b[0m\u001b[1;33m.\u001b[0m\u001b[0membed_tokens\u001b[0m\u001b[1;33m(\u001b[0m\u001b[0minput_ids\u001b[0m\u001b[1;33m)\u001b[0m \u001b[1;33m*\u001b[0m \u001b[0mself\u001b[0m\u001b[1;33m.\u001b[0m\u001b[0membed_scale\u001b[0m\u001b[1;33m\u001b[0m\u001b[1;33m\u001b[0m\u001b[0m\n\u001b[0m\u001b[0;32m    759\u001b[0m \u001b[1;33m\u001b[0m\u001b[0m\n\u001b[0;32m    760\u001b[0m         \u001b[0membed_pos\u001b[0m \u001b[1;33m=\u001b[0m \u001b[0mself\u001b[0m\u001b[1;33m.\u001b[0m\u001b[0membed_positions\u001b[0m\u001b[1;33m(\u001b[0m\u001b[0minput_shape\u001b[0m\u001b[1;33m)\u001b[0m\u001b[1;33m\u001b[0m\u001b[1;33m\u001b[0m\u001b[0m\n",
      "\u001b[1;31mResourceExhaustedError\u001b[0m: Exception encountered when calling layer 'encoder' (type TFBartEncoder).\n\n{{function_node __wrapped__Mul_device_/job:localhost/replica:0/task:0/device:CPU:0}} OOM when allocating tensor with shape[50264,1024] and type float on /job:localhost/replica:0/task:0/device:CPU:0 by allocator cpu [Op:Mul]\n\nCall arguments received by layer 'encoder' (type TFBartEncoder):\n  • input_ids=tf.Tensor(shape=(3, 5), dtype=int32)\n  • inputs_embeds=None\n  • attention_mask=tf.Tensor(shape=(3, 5), dtype=int32)\n  • head_mask=None\n  • output_attentions=False\n  • output_hidden_states=False\n  • return_dict=True\n  • training=False"
     ]
    }
   ],
   "source": [
    "# Для быстрого вывода суммаризации можно рассмотреть следующий алгоритм seq2seq\n",
    "\n",
    "summarizer = pipeline(\"summarization\", model=\"facebook/bart-large-cnn\")"
   ]
  },
  {
   "cell_type": "code",
   "execution_count": null,
   "metadata": {
    "id": "DgcAY2w0pVrj"
   },
   "outputs": [],
   "source": [
    "# article любая новость, модель обучена на русском\n",
    "\n",
    "article = \"\"\"В Тюмени поезд Новый Уренгой – Москва насмерть сбил двоих человек. Погибла девушка и неизвестный мужчина, сообщает Уральская транспортная прокуратура. ЧП случилось 25 апреля 2023 года.\n",
    "\n",
    "«На 2136 км пикет 8 в городе Тюмень в результате наезда пассажирского поезда произошло смертельное травмирование двух лиц: девушки 1992 г.р. и неизвестного мужчины, личность которого устанавливается»,– рассказали в ведомстве.\n",
    "\n",
    "Обстоятельства произошедшего устанавливаются.\"\"\"\n"
   ]
  },
  {
   "cell_type": "code",
   "execution_count": null,
   "metadata": {
    "id": "XZSk8UcWpVwe"
   },
   "outputs": [],
   "source": [
    "summary = summarizer(article, max_length=130, min_length=30)"
   ]
  },
  {
   "cell_type": "code",
   "execution_count": null,
   "metadata": {
    "colab": {
     "base_uri": "https://localhost:8080/"
    },
    "id": "K13YurzMqS1-",
    "outputId": "b26bd163-bd04-4549-f755-a939586e9af6"
   },
   "outputs": [],
   "source": [
    "summary"
   ]
  },
  {
   "cell_type": "code",
   "execution_count": null,
   "metadata": {},
   "outputs": [],
   "source": []
  }
 ],
 "metadata": {
  "colab": {
   "provenance": []
  },
  "kernelspec": {
   "display_name": "Python 3 (ipykernel)",
   "language": "python",
   "name": "python3"
  },
  "language_info": {
   "codemirror_mode": {
    "name": "ipython",
    "version": 3
   },
   "file_extension": ".py",
   "mimetype": "text/x-python",
   "name": "python",
   "nbconvert_exporter": "python",
   "pygments_lexer": "ipython3",
   "version": "3.9.13"
  },
  "widgets": {
   "application/vnd.jupyter.widget-state+json": {
    "00515d87fd144fd5bef3665aa5de2744": {
     "model_module": "@jupyter-widgets/controls",
     "model_module_version": "1.5.0",
     "model_name": "DescriptionStyleModel",
     "state": {
      "_model_module": "@jupyter-widgets/controls",
      "_model_module_version": "1.5.0",
      "_model_name": "DescriptionStyleModel",
      "_view_count": null,
      "_view_module": "@jupyter-widgets/base",
      "_view_module_version": "1.2.0",
      "_view_name": "StyleView",
      "description_width": ""
     }
    },
    "05e33cb892a645f0a096254470d56f38": {
     "model_module": "@jupyter-widgets/base",
     "model_module_version": "1.2.0",
     "model_name": "LayoutModel",
     "state": {
      "_model_module": "@jupyter-widgets/base",
      "_model_module_version": "1.2.0",
      "_model_name": "LayoutModel",
      "_view_count": null,
      "_view_module": "@jupyter-widgets/base",
      "_view_module_version": "1.2.0",
      "_view_name": "LayoutView",
      "align_content": null,
      "align_items": null,
      "align_self": null,
      "border": null,
      "bottom": null,
      "display": null,
      "flex": null,
      "flex_flow": null,
      "grid_area": null,
      "grid_auto_columns": null,
      "grid_auto_flow": null,
      "grid_auto_rows": null,
      "grid_column": null,
      "grid_gap": null,
      "grid_row": null,
      "grid_template_areas": null,
      "grid_template_columns": null,
      "grid_template_rows": null,
      "height": null,
      "justify_content": null,
      "justify_items": null,
      "left": null,
      "margin": null,
      "max_height": null,
      "max_width": null,
      "min_height": null,
      "min_width": null,
      "object_fit": null,
      "object_position": null,
      "order": null,
      "overflow": null,
      "overflow_x": null,
      "overflow_y": null,
      "padding": null,
      "right": null,
      "top": null,
      "visibility": null,
      "width": null
     }
    },
    "07227cb3ed4e49f6842fc29a333732cd": {
     "model_module": "@jupyter-widgets/base",
     "model_module_version": "1.2.0",
     "model_name": "LayoutModel",
     "state": {
      "_model_module": "@jupyter-widgets/base",
      "_model_module_version": "1.2.0",
      "_model_name": "LayoutModel",
      "_view_count": null,
      "_view_module": "@jupyter-widgets/base",
      "_view_module_version": "1.2.0",
      "_view_name": "LayoutView",
      "align_content": null,
      "align_items": null,
      "align_self": null,
      "border": null,
      "bottom": null,
      "display": null,
      "flex": null,
      "flex_flow": null,
      "grid_area": null,
      "grid_auto_columns": null,
      "grid_auto_flow": null,
      "grid_auto_rows": null,
      "grid_column": null,
      "grid_gap": null,
      "grid_row": null,
      "grid_template_areas": null,
      "grid_template_columns": null,
      "grid_template_rows": null,
      "height": null,
      "justify_content": null,
      "justify_items": null,
      "left": null,
      "margin": null,
      "max_height": null,
      "max_width": null,
      "min_height": null,
      "min_width": null,
      "object_fit": null,
      "object_position": null,
      "order": null,
      "overflow": null,
      "overflow_x": null,
      "overflow_y": null,
      "padding": null,
      "right": null,
      "top": null,
      "visibility": null,
      "width": null
     }
    },
    "0ab1b70a2e7441748493362dd6304020": {
     "model_module": "@jupyter-widgets/controls",
     "model_module_version": "1.5.0",
     "model_name": "HTMLModel",
     "state": {
      "_dom_classes": [],
      "_model_module": "@jupyter-widgets/controls",
      "_model_module_version": "1.5.0",
      "_model_name": "HTMLModel",
      "_view_count": null,
      "_view_module": "@jupyter-widgets/controls",
      "_view_module_version": "1.5.0",
      "_view_name": "HTMLView",
      "description": "",
      "description_tooltip": null,
      "layout": "IPY_MODEL_dea0f754220f4528a1cd88002094b848",
      "placeholder": "​",
      "style": "IPY_MODEL_f2f587846eaa4a67a55914ccd15f6841",
      "value": "Downloading (…)olve/main/vocab.json: 100%"
     }
    },
    "0de213f140234559893d4f1cab26a065": {
     "model_module": "@jupyter-widgets/controls",
     "model_module_version": "1.5.0",
     "model_name": "FloatProgressModel",
     "state": {
      "_dom_classes": [],
      "_model_module": "@jupyter-widgets/controls",
      "_model_module_version": "1.5.0",
      "_model_name": "FloatProgressModel",
      "_view_count": null,
      "_view_module": "@jupyter-widgets/controls",
      "_view_module_version": "1.5.0",
      "_view_name": "ProgressView",
      "bar_style": "success",
      "description": "",
      "description_tooltip": null,
      "layout": "IPY_MODEL_a3820e41e4914f4b8dd38293c8c7e8d5",
      "max": 3,
      "min": 0,
      "orientation": "horizontal",
      "style": "IPY_MODEL_589bfb0952684d54821704d46545fc94",
      "value": 3
     }
    },
    "1037e935156f4d4286e675ff9c1c8d80": {
     "model_module": "@jupyter-widgets/controls",
     "model_module_version": "1.5.0",
     "model_name": "HTMLModel",
     "state": {
      "_dom_classes": [],
      "_model_module": "@jupyter-widgets/controls",
      "_model_module_version": "1.5.0",
      "_model_name": "HTMLModel",
      "_view_count": null,
      "_view_module": "@jupyter-widgets/controls",
      "_view_module_version": "1.5.0",
      "_view_name": "HTMLView",
      "description": "",
      "description_tooltip": null,
      "layout": "IPY_MODEL_cb699143c2884657a3ccbfc85beace3b",
      "placeholder": "​",
      "style": "IPY_MODEL_f8745d9b7ce445648f5c221f42380a3d",
      "value": "Downloading pytorch_model.bin: 100%"
     }
    },
    "1407aeb4ceb048b591c1c8b020645f2e": {
     "model_module": "@jupyter-widgets/base",
     "model_module_version": "1.2.0",
     "model_name": "LayoutModel",
     "state": {
      "_model_module": "@jupyter-widgets/base",
      "_model_module_version": "1.2.0",
      "_model_name": "LayoutModel",
      "_view_count": null,
      "_view_module": "@jupyter-widgets/base",
      "_view_module_version": "1.2.0",
      "_view_name": "LayoutView",
      "align_content": null,
      "align_items": null,
      "align_self": null,
      "border": null,
      "bottom": null,
      "display": null,
      "flex": null,
      "flex_flow": null,
      "grid_area": null,
      "grid_auto_columns": null,
      "grid_auto_flow": null,
      "grid_auto_rows": null,
      "grid_column": null,
      "grid_gap": null,
      "grid_row": null,
      "grid_template_areas": null,
      "grid_template_columns": null,
      "grid_template_rows": null,
      "height": null,
      "justify_content": null,
      "justify_items": null,
      "left": null,
      "margin": null,
      "max_height": null,
      "max_width": null,
      "min_height": null,
      "min_width": null,
      "object_fit": null,
      "object_position": null,
      "order": null,
      "overflow": null,
      "overflow_x": null,
      "overflow_y": null,
      "padding": null,
      "right": null,
      "top": null,
      "visibility": null,
      "width": null
     }
    },
    "1507c37f8ae34919b0c808f49aaaf2eb": {
     "model_module": "@jupyter-widgets/controls",
     "model_module_version": "1.5.0",
     "model_name": "HTMLModel",
     "state": {
      "_dom_classes": [],
      "_model_module": "@jupyter-widgets/controls",
      "_model_module_version": "1.5.0",
      "_model_name": "HTMLModel",
      "_view_count": null,
      "_view_module": "@jupyter-widgets/controls",
      "_view_module_version": "1.5.0",
      "_view_name": "HTMLView",
      "description": "",
      "description_tooltip": null,
      "layout": "IPY_MODEL_8ee363549404467b96128cbd59038a7f",
      "placeholder": "​",
      "style": "IPY_MODEL_d87c198865f84eeb866eb32809488e06",
      "value": " 1.36M/1.36M [00:00&lt;00:00, 41.8MB/s]"
     }
    },
    "1937f334d1494b649e097f4d157854ce": {
     "model_module": "@jupyter-widgets/controls",
     "model_module_version": "1.5.0",
     "model_name": "HTMLModel",
     "state": {
      "_dom_classes": [],
      "_model_module": "@jupyter-widgets/controls",
      "_model_module_version": "1.5.0",
      "_model_name": "HTMLModel",
      "_view_count": null,
      "_view_module": "@jupyter-widgets/controls",
      "_view_module_version": "1.5.0",
      "_view_name": "HTMLView",
      "description": "",
      "description_tooltip": null,
      "layout": "IPY_MODEL_197049993a694c67a61652cc4ba0487b",
      "placeholder": "​",
      "style": "IPY_MODEL_00515d87fd144fd5bef3665aa5de2744",
      "value": " 899k/899k [00:00&lt;00:00, 16.5MB/s]"
     }
    },
    "197049993a694c67a61652cc4ba0487b": {
     "model_module": "@jupyter-widgets/base",
     "model_module_version": "1.2.0",
     "model_name": "LayoutModel",
     "state": {
      "_model_module": "@jupyter-widgets/base",
      "_model_module_version": "1.2.0",
      "_model_name": "LayoutModel",
      "_view_count": null,
      "_view_module": "@jupyter-widgets/base",
      "_view_module_version": "1.2.0",
      "_view_name": "LayoutView",
      "align_content": null,
      "align_items": null,
      "align_self": null,
      "border": null,
      "bottom": null,
      "display": null,
      "flex": null,
      "flex_flow": null,
      "grid_area": null,
      "grid_auto_columns": null,
      "grid_auto_flow": null,
      "grid_auto_rows": null,
      "grid_column": null,
      "grid_gap": null,
      "grid_row": null,
      "grid_template_areas": null,
      "grid_template_columns": null,
      "grid_template_rows": null,
      "height": null,
      "justify_content": null,
      "justify_items": null,
      "left": null,
      "margin": null,
      "max_height": null,
      "max_width": null,
      "min_height": null,
      "min_width": null,
      "object_fit": null,
      "object_position": null,
      "order": null,
      "overflow": null,
      "overflow_x": null,
      "overflow_y": null,
      "padding": null,
      "right": null,
      "top": null,
      "visibility": null,
      "width": null
     }
    },
    "19aefbc38daf4d3cb27ecbab55fbaf67": {
     "model_module": "@jupyter-widgets/base",
     "model_module_version": "1.2.0",
     "model_name": "LayoutModel",
     "state": {
      "_model_module": "@jupyter-widgets/base",
      "_model_module_version": "1.2.0",
      "_model_name": "LayoutModel",
      "_view_count": null,
      "_view_module": "@jupyter-widgets/base",
      "_view_module_version": "1.2.0",
      "_view_name": "LayoutView",
      "align_content": null,
      "align_items": null,
      "align_self": null,
      "border": null,
      "bottom": null,
      "display": null,
      "flex": null,
      "flex_flow": null,
      "grid_area": null,
      "grid_auto_columns": null,
      "grid_auto_flow": null,
      "grid_auto_rows": null,
      "grid_column": null,
      "grid_gap": null,
      "grid_row": null,
      "grid_template_areas": null,
      "grid_template_columns": null,
      "grid_template_rows": null,
      "height": null,
      "justify_content": null,
      "justify_items": null,
      "left": null,
      "margin": null,
      "max_height": null,
      "max_width": null,
      "min_height": null,
      "min_width": null,
      "object_fit": null,
      "object_position": null,
      "order": null,
      "overflow": null,
      "overflow_x": null,
      "overflow_y": null,
      "padding": null,
      "right": null,
      "top": null,
      "visibility": null,
      "width": null
     }
    },
    "1c7e4d66ae8a4b8f98fc188efae4071b": {
     "model_module": "@jupyter-widgets/base",
     "model_module_version": "1.2.0",
     "model_name": "LayoutModel",
     "state": {
      "_model_module": "@jupyter-widgets/base",
      "_model_module_version": "1.2.0",
      "_model_name": "LayoutModel",
      "_view_count": null,
      "_view_module": "@jupyter-widgets/base",
      "_view_module_version": "1.2.0",
      "_view_name": "LayoutView",
      "align_content": null,
      "align_items": null,
      "align_self": null,
      "border": null,
      "bottom": null,
      "display": null,
      "flex": null,
      "flex_flow": null,
      "grid_area": null,
      "grid_auto_columns": null,
      "grid_auto_flow": null,
      "grid_auto_rows": null,
      "grid_column": null,
      "grid_gap": null,
      "grid_row": null,
      "grid_template_areas": null,
      "grid_template_columns": null,
      "grid_template_rows": null,
      "height": null,
      "justify_content": null,
      "justify_items": null,
      "left": null,
      "margin": null,
      "max_height": null,
      "max_width": null,
      "min_height": null,
      "min_width": null,
      "object_fit": null,
      "object_position": null,
      "order": null,
      "overflow": null,
      "overflow_x": null,
      "overflow_y": null,
      "padding": null,
      "right": null,
      "top": null,
      "visibility": null,
      "width": null
     }
    },
    "1e3cfa3799594c4ca7106c41ebcdbd47": {
     "model_module": "@jupyter-widgets/controls",
     "model_module_version": "1.5.0",
     "model_name": "HTMLModel",
     "state": {
      "_dom_classes": [],
      "_model_module": "@jupyter-widgets/controls",
      "_model_module_version": "1.5.0",
      "_model_name": "HTMLModel",
      "_view_count": null,
      "_view_module": "@jupyter-widgets/controls",
      "_view_module_version": "1.5.0",
      "_view_name": "HTMLView",
      "description": "",
      "description_tooltip": null,
      "layout": "IPY_MODEL_05e33cb892a645f0a096254470d56f38",
      "placeholder": "​",
      "style": "IPY_MODEL_49eae9d84fc54d4ebacaab20dcfdf061",
      "value": " 1.58k/1.58k [00:00&lt;00:00, 62.8kB/s]"
     }
    },
    "30e7d7b9ca9541e493db8ddc2f121212": {
     "model_module": "@jupyter-widgets/base",
     "model_module_version": "1.2.0",
     "model_name": "LayoutModel",
     "state": {
      "_model_module": "@jupyter-widgets/base",
      "_model_module_version": "1.2.0",
      "_model_name": "LayoutModel",
      "_view_count": null,
      "_view_module": "@jupyter-widgets/base",
      "_view_module_version": "1.2.0",
      "_view_name": "LayoutView",
      "align_content": null,
      "align_items": null,
      "align_self": null,
      "border": null,
      "bottom": null,
      "display": null,
      "flex": null,
      "flex_flow": null,
      "grid_area": null,
      "grid_auto_columns": null,
      "grid_auto_flow": null,
      "grid_auto_rows": null,
      "grid_column": null,
      "grid_gap": null,
      "grid_row": null,
      "grid_template_areas": null,
      "grid_template_columns": null,
      "grid_template_rows": null,
      "height": null,
      "justify_content": null,
      "justify_items": null,
      "left": null,
      "margin": null,
      "max_height": null,
      "max_width": null,
      "min_height": null,
      "min_width": null,
      "object_fit": null,
      "object_position": null,
      "order": null,
      "overflow": null,
      "overflow_x": null,
      "overflow_y": null,
      "padding": null,
      "right": null,
      "top": null,
      "visibility": null,
      "width": null
     }
    },
    "356fc2b3748845c59abb1e98a79b6103": {
     "model_module": "@jupyter-widgets/controls",
     "model_module_version": "1.5.0",
     "model_name": "HTMLModel",
     "state": {
      "_dom_classes": [],
      "_model_module": "@jupyter-widgets/controls",
      "_model_module_version": "1.5.0",
      "_model_name": "HTMLModel",
      "_view_count": null,
      "_view_module": "@jupyter-widgets/controls",
      "_view_module_version": "1.5.0",
      "_view_name": "HTMLView",
      "description": "",
      "description_tooltip": null,
      "layout": "IPY_MODEL_41c67847d9a248aea87f6c8a4d8d09a8",
      "placeholder": "​",
      "style": "IPY_MODEL_8d47da37610f4fe29b5ddea5426adee2",
      "value": "Downloading (…)/main/tokenizer.json: 100%"
     }
    },
    "3804a0bfce464eda889d080a107a0fc8": {
     "model_module": "@jupyter-widgets/controls",
     "model_module_version": "1.5.0",
     "model_name": "DescriptionStyleModel",
     "state": {
      "_model_module": "@jupyter-widgets/controls",
      "_model_module_version": "1.5.0",
      "_model_name": "DescriptionStyleModel",
      "_view_count": null,
      "_view_module": "@jupyter-widgets/base",
      "_view_module_version": "1.2.0",
      "_view_name": "StyleView",
      "description_width": ""
     }
    },
    "399f1f3095044d799fa517ab42f44ce5": {
     "model_module": "@jupyter-widgets/controls",
     "model_module_version": "1.5.0",
     "model_name": "HBoxModel",
     "state": {
      "_dom_classes": [],
      "_model_module": "@jupyter-widgets/controls",
      "_model_module_version": "1.5.0",
      "_model_name": "HBoxModel",
      "_view_count": null,
      "_view_module": "@jupyter-widgets/controls",
      "_view_module_version": "1.5.0",
      "_view_name": "HBoxView",
      "box_style": "",
      "children": [
       "IPY_MODEL_9f2568a57e694d2f81d1133ed016f373",
       "IPY_MODEL_0de213f140234559893d4f1cab26a065",
       "IPY_MODEL_51e7aa81f6134e10b97eb1c7d8294545"
      ],
      "layout": "IPY_MODEL_cb87f34a5754468f810382b1dd37c30e"
     }
    },
    "3be1376a93374be5855af9e1788d4d32": {
     "model_module": "@jupyter-widgets/controls",
     "model_module_version": "1.5.0",
     "model_name": "HTMLModel",
     "state": {
      "_dom_classes": [],
      "_model_module": "@jupyter-widgets/controls",
      "_model_module_version": "1.5.0",
      "_model_name": "HTMLModel",
      "_view_count": null,
      "_view_module": "@jupyter-widgets/controls",
      "_view_module_version": "1.5.0",
      "_view_name": "HTMLView",
      "description": "",
      "description_tooltip": null,
      "layout": "IPY_MODEL_c314b38a685c4dd19708e1dbd3e303bd",
      "placeholder": "​",
      "style": "IPY_MODEL_55a9963352fd4f8e9e6d4622546c89c6",
      "value": " 456k/456k [00:00&lt;00:00, 889kB/s]"
     }
    },
    "3c758ccaacd940c2a181ec58e88a75be": {
     "model_module": "@jupyter-widgets/controls",
     "model_module_version": "1.5.0",
     "model_name": "DescriptionStyleModel",
     "state": {
      "_model_module": "@jupyter-widgets/controls",
      "_model_module_version": "1.5.0",
      "_model_name": "DescriptionStyleModel",
      "_view_count": null,
      "_view_module": "@jupyter-widgets/base",
      "_view_module_version": "1.2.0",
      "_view_name": "StyleView",
      "description_width": ""
     }
    },
    "41c67847d9a248aea87f6c8a4d8d09a8": {
     "model_module": "@jupyter-widgets/base",
     "model_module_version": "1.2.0",
     "model_name": "LayoutModel",
     "state": {
      "_model_module": "@jupyter-widgets/base",
      "_model_module_version": "1.2.0",
      "_model_name": "LayoutModel",
      "_view_count": null,
      "_view_module": "@jupyter-widgets/base",
      "_view_module_version": "1.2.0",
      "_view_name": "LayoutView",
      "align_content": null,
      "align_items": null,
      "align_self": null,
      "border": null,
      "bottom": null,
      "display": null,
      "flex": null,
      "flex_flow": null,
      "grid_area": null,
      "grid_auto_columns": null,
      "grid_auto_flow": null,
      "grid_auto_rows": null,
      "grid_column": null,
      "grid_gap": null,
      "grid_row": null,
      "grid_template_areas": null,
      "grid_template_columns": null,
      "grid_template_rows": null,
      "height": null,
      "justify_content": null,
      "justify_items": null,
      "left": null,
      "margin": null,
      "max_height": null,
      "max_width": null,
      "min_height": null,
      "min_width": null,
      "object_fit": null,
      "object_position": null,
      "order": null,
      "overflow": null,
      "overflow_x": null,
      "overflow_y": null,
      "padding": null,
      "right": null,
      "top": null,
      "visibility": null,
      "width": null
     }
    },
    "428fa478bcd24472b087acfbe4cccf06": {
     "model_module": "@jupyter-widgets/base",
     "model_module_version": "1.2.0",
     "model_name": "LayoutModel",
     "state": {
      "_model_module": "@jupyter-widgets/base",
      "_model_module_version": "1.2.0",
      "_model_name": "LayoutModel",
      "_view_count": null,
      "_view_module": "@jupyter-widgets/base",
      "_view_module_version": "1.2.0",
      "_view_name": "LayoutView",
      "align_content": null,
      "align_items": null,
      "align_self": null,
      "border": null,
      "bottom": null,
      "display": null,
      "flex": null,
      "flex_flow": null,
      "grid_area": null,
      "grid_auto_columns": null,
      "grid_auto_flow": null,
      "grid_auto_rows": null,
      "grid_column": null,
      "grid_gap": null,
      "grid_row": null,
      "grid_template_areas": null,
      "grid_template_columns": null,
      "grid_template_rows": null,
      "height": null,
      "justify_content": null,
      "justify_items": null,
      "left": null,
      "margin": null,
      "max_height": null,
      "max_width": null,
      "min_height": null,
      "min_width": null,
      "object_fit": null,
      "object_position": null,
      "order": null,
      "overflow": null,
      "overflow_x": null,
      "overflow_y": null,
      "padding": null,
      "right": null,
      "top": null,
      "visibility": null,
      "width": null
     }
    },
    "49eae9d84fc54d4ebacaab20dcfdf061": {
     "model_module": "@jupyter-widgets/controls",
     "model_module_version": "1.5.0",
     "model_name": "DescriptionStyleModel",
     "state": {
      "_model_module": "@jupyter-widgets/controls",
      "_model_module_version": "1.5.0",
      "_model_name": "DescriptionStyleModel",
      "_view_count": null,
      "_view_module": "@jupyter-widgets/base",
      "_view_module_version": "1.2.0",
      "_view_name": "StyleView",
      "description_width": ""
     }
    },
    "4ab50a21465c4611afbb9400531f93e1": {
     "model_module": "@jupyter-widgets/base",
     "model_module_version": "1.2.0",
     "model_name": "LayoutModel",
     "state": {
      "_model_module": "@jupyter-widgets/base",
      "_model_module_version": "1.2.0",
      "_model_name": "LayoutModel",
      "_view_count": null,
      "_view_module": "@jupyter-widgets/base",
      "_view_module_version": "1.2.0",
      "_view_name": "LayoutView",
      "align_content": null,
      "align_items": null,
      "align_self": null,
      "border": null,
      "bottom": null,
      "display": null,
      "flex": null,
      "flex_flow": null,
      "grid_area": null,
      "grid_auto_columns": null,
      "grid_auto_flow": null,
      "grid_auto_rows": null,
      "grid_column": null,
      "grid_gap": null,
      "grid_row": null,
      "grid_template_areas": null,
      "grid_template_columns": null,
      "grid_template_rows": null,
      "height": null,
      "justify_content": null,
      "justify_items": null,
      "left": null,
      "margin": null,
      "max_height": null,
      "max_width": null,
      "min_height": null,
      "min_width": null,
      "object_fit": null,
      "object_position": null,
      "order": null,
      "overflow": null,
      "overflow_x": null,
      "overflow_y": null,
      "padding": null,
      "right": null,
      "top": null,
      "visibility": null,
      "width": null
     }
    },
    "51e7aa81f6134e10b97eb1c7d8294545": {
     "model_module": "@jupyter-widgets/controls",
     "model_module_version": "1.5.0",
     "model_name": "HTMLModel",
     "state": {
      "_dom_classes": [],
      "_model_module": "@jupyter-widgets/controls",
      "_model_module_version": "1.5.0",
      "_model_name": "HTMLModel",
      "_view_count": null,
      "_view_module": "@jupyter-widgets/controls",
      "_view_module_version": "1.5.0",
      "_view_name": "HTMLView",
      "description": "",
      "description_tooltip": null,
      "layout": "IPY_MODEL_764fca0d29614d40b1944205d03991fc",
      "placeholder": "​",
      "style": "IPY_MODEL_9369feeb28a14240835cc968ddef87d5",
      "value": " 3/3 [00:00&lt;00:00, 62.66it/s]"
     }
    },
    "55a9963352fd4f8e9e6d4622546c89c6": {
     "model_module": "@jupyter-widgets/controls",
     "model_module_version": "1.5.0",
     "model_name": "DescriptionStyleModel",
     "state": {
      "_model_module": "@jupyter-widgets/controls",
      "_model_module_version": "1.5.0",
      "_model_name": "DescriptionStyleModel",
      "_view_count": null,
      "_view_module": "@jupyter-widgets/base",
      "_view_module_version": "1.2.0",
      "_view_name": "StyleView",
      "description_width": ""
     }
    },
    "589bfb0952684d54821704d46545fc94": {
     "model_module": "@jupyter-widgets/controls",
     "model_module_version": "1.5.0",
     "model_name": "ProgressStyleModel",
     "state": {
      "_model_module": "@jupyter-widgets/controls",
      "_model_module_version": "1.5.0",
      "_model_name": "ProgressStyleModel",
      "_view_count": null,
      "_view_module": "@jupyter-widgets/base",
      "_view_module_version": "1.2.0",
      "_view_name": "StyleView",
      "bar_color": null,
      "description_width": ""
     }
    },
    "6186b26ad62b4c5185b7e1d43a522023": {
     "model_module": "@jupyter-widgets/base",
     "model_module_version": "1.2.0",
     "model_name": "LayoutModel",
     "state": {
      "_model_module": "@jupyter-widgets/base",
      "_model_module_version": "1.2.0",
      "_model_name": "LayoutModel",
      "_view_count": null,
      "_view_module": "@jupyter-widgets/base",
      "_view_module_version": "1.2.0",
      "_view_name": "LayoutView",
      "align_content": null,
      "align_items": null,
      "align_self": null,
      "border": null,
      "bottom": null,
      "display": null,
      "flex": null,
      "flex_flow": null,
      "grid_area": null,
      "grid_auto_columns": null,
      "grid_auto_flow": null,
      "grid_auto_rows": null,
      "grid_column": null,
      "grid_gap": null,
      "grid_row": null,
      "grid_template_areas": null,
      "grid_template_columns": null,
      "grid_template_rows": null,
      "height": null,
      "justify_content": null,
      "justify_items": null,
      "left": null,
      "margin": null,
      "max_height": null,
      "max_width": null,
      "min_height": null,
      "min_width": null,
      "object_fit": null,
      "object_position": null,
      "order": null,
      "overflow": null,
      "overflow_x": null,
      "overflow_y": null,
      "padding": null,
      "right": null,
      "top": null,
      "visibility": null,
      "width": null
     }
    },
    "70c4554dbfa1446389e51a71f932e2ac": {
     "model_module": "@jupyter-widgets/controls",
     "model_module_version": "1.5.0",
     "model_name": "ProgressStyleModel",
     "state": {
      "_model_module": "@jupyter-widgets/controls",
      "_model_module_version": "1.5.0",
      "_model_name": "ProgressStyleModel",
      "_view_count": null,
      "_view_module": "@jupyter-widgets/base",
      "_view_module_version": "1.2.0",
      "_view_name": "StyleView",
      "bar_color": null,
      "description_width": ""
     }
    },
    "7623185d92414a6ebbb2825fe5a12146": {
     "model_module": "@jupyter-widgets/controls",
     "model_module_version": "1.5.0",
     "model_name": "HBoxModel",
     "state": {
      "_dom_classes": [],
      "_model_module": "@jupyter-widgets/controls",
      "_model_module_version": "1.5.0",
      "_model_name": "HBoxModel",
      "_view_count": null,
      "_view_module": "@jupyter-widgets/controls",
      "_view_module_version": "1.5.0",
      "_view_name": "HBoxView",
      "box_style": "",
      "children": [
       "IPY_MODEL_fc0069a47ec74cfc9d77c0f342bbc205",
       "IPY_MODEL_a09c1ad987e9407cb00a9740aed63c09",
       "IPY_MODEL_3be1376a93374be5855af9e1788d4d32"
      ],
      "layout": "IPY_MODEL_19aefbc38daf4d3cb27ecbab55fbaf67"
     }
    },
    "764fca0d29614d40b1944205d03991fc": {
     "model_module": "@jupyter-widgets/base",
     "model_module_version": "1.2.0",
     "model_name": "LayoutModel",
     "state": {
      "_model_module": "@jupyter-widgets/base",
      "_model_module_version": "1.2.0",
      "_model_name": "LayoutModel",
      "_view_count": null,
      "_view_module": "@jupyter-widgets/base",
      "_view_module_version": "1.2.0",
      "_view_name": "LayoutView",
      "align_content": null,
      "align_items": null,
      "align_self": null,
      "border": null,
      "bottom": null,
      "display": null,
      "flex": null,
      "flex_flow": null,
      "grid_area": null,
      "grid_auto_columns": null,
      "grid_auto_flow": null,
      "grid_auto_rows": null,
      "grid_column": null,
      "grid_gap": null,
      "grid_row": null,
      "grid_template_areas": null,
      "grid_template_columns": null,
      "grid_template_rows": null,
      "height": null,
      "justify_content": null,
      "justify_items": null,
      "left": null,
      "margin": null,
      "max_height": null,
      "max_width": null,
      "min_height": null,
      "min_width": null,
      "object_fit": null,
      "object_position": null,
      "order": null,
      "overflow": null,
      "overflow_x": null,
      "overflow_y": null,
      "padding": null,
      "right": null,
      "top": null,
      "visibility": null,
      "width": null
     }
    },
    "7884a93394af4bda81fef6157c140f90": {
     "model_module": "@jupyter-widgets/base",
     "model_module_version": "1.2.0",
     "model_name": "LayoutModel",
     "state": {
      "_model_module": "@jupyter-widgets/base",
      "_model_module_version": "1.2.0",
      "_model_name": "LayoutModel",
      "_view_count": null,
      "_view_module": "@jupyter-widgets/base",
      "_view_module_version": "1.2.0",
      "_view_name": "LayoutView",
      "align_content": null,
      "align_items": null,
      "align_self": null,
      "border": null,
      "bottom": null,
      "display": null,
      "flex": null,
      "flex_flow": null,
      "grid_area": null,
      "grid_auto_columns": null,
      "grid_auto_flow": null,
      "grid_auto_rows": null,
      "grid_column": null,
      "grid_gap": null,
      "grid_row": null,
      "grid_template_areas": null,
      "grid_template_columns": null,
      "grid_template_rows": null,
      "height": null,
      "justify_content": null,
      "justify_items": null,
      "left": null,
      "margin": null,
      "max_height": null,
      "max_width": null,
      "min_height": null,
      "min_width": null,
      "object_fit": null,
      "object_position": null,
      "order": null,
      "overflow": null,
      "overflow_x": null,
      "overflow_y": null,
      "padding": null,
      "right": null,
      "top": null,
      "visibility": null,
      "width": null
     }
    },
    "7a1c388b174a46df90fac719248f486d": {
     "model_module": "@jupyter-widgets/controls",
     "model_module_version": "1.5.0",
     "model_name": "HBoxModel",
     "state": {
      "_dom_classes": [],
      "_model_module": "@jupyter-widgets/controls",
      "_model_module_version": "1.5.0",
      "_model_name": "HBoxModel",
      "_view_count": null,
      "_view_module": "@jupyter-widgets/controls",
      "_view_module_version": "1.5.0",
      "_view_name": "HBoxView",
      "box_style": "",
      "children": [
       "IPY_MODEL_dd7f420921da4380a56095809f36874b",
       "IPY_MODEL_8a898a2ccc3244acbe2cd7ef19984987",
       "IPY_MODEL_1e3cfa3799594c4ca7106c41ebcdbd47"
      ],
      "layout": "IPY_MODEL_7884a93394af4bda81fef6157c140f90"
     }
    },
    "7e22a726a22c401f9b852774c7750dee": {
     "model_module": "@jupyter-widgets/controls",
     "model_module_version": "1.5.0",
     "model_name": "HTMLModel",
     "state": {
      "_dom_classes": [],
      "_model_module": "@jupyter-widgets/controls",
      "_model_module_version": "1.5.0",
      "_model_name": "HTMLModel",
      "_view_count": null,
      "_view_module": "@jupyter-widgets/controls",
      "_view_module_version": "1.5.0",
      "_view_name": "HTMLView",
      "description": "",
      "description_tooltip": null,
      "layout": "IPY_MODEL_9f4c95fb1dbf4524937425046ecd47eb",
      "placeholder": "​",
      "style": "IPY_MODEL_af16d056c1264407b232a42ec91c74cf",
      "value": " 363/363 [00:00&lt;00:00, 12.0kB/s]"
     }
    },
    "83a95f818b0348fda0477efcde491658": {
     "model_module": "@jupyter-widgets/base",
     "model_module_version": "1.2.0",
     "model_name": "LayoutModel",
     "state": {
      "_model_module": "@jupyter-widgets/base",
      "_model_module_version": "1.2.0",
      "_model_name": "LayoutModel",
      "_view_count": null,
      "_view_module": "@jupyter-widgets/base",
      "_view_module_version": "1.2.0",
      "_view_name": "LayoutView",
      "align_content": null,
      "align_items": null,
      "align_self": null,
      "border": null,
      "bottom": null,
      "display": null,
      "flex": null,
      "flex_flow": null,
      "grid_area": null,
      "grid_auto_columns": null,
      "grid_auto_flow": null,
      "grid_auto_rows": null,
      "grid_column": null,
      "grid_gap": null,
      "grid_row": null,
      "grid_template_areas": null,
      "grid_template_columns": null,
      "grid_template_rows": null,
      "height": null,
      "justify_content": null,
      "justify_items": null,
      "left": null,
      "margin": null,
      "max_height": null,
      "max_width": null,
      "min_height": null,
      "min_width": null,
      "object_fit": null,
      "object_position": null,
      "order": null,
      "overflow": null,
      "overflow_x": null,
      "overflow_y": null,
      "padding": null,
      "right": null,
      "top": null,
      "visibility": null,
      "width": null
     }
    },
    "8a898a2ccc3244acbe2cd7ef19984987": {
     "model_module": "@jupyter-widgets/controls",
     "model_module_version": "1.5.0",
     "model_name": "FloatProgressModel",
     "state": {
      "_dom_classes": [],
      "_model_module": "@jupyter-widgets/controls",
      "_model_module_version": "1.5.0",
      "_model_name": "FloatProgressModel",
      "_view_count": null,
      "_view_module": "@jupyter-widgets/controls",
      "_view_module_version": "1.5.0",
      "_view_name": "ProgressView",
      "bar_style": "success",
      "description": "",
      "description_tooltip": null,
      "layout": "IPY_MODEL_be8dc66da7f2427887a7be8ea9cb6738",
      "max": 1585,
      "min": 0,
      "orientation": "horizontal",
      "style": "IPY_MODEL_9879e75328c74bccbcefaed8ec928611",
      "value": 1585
     }
    },
    "8ce515647b5e44f1b724ca73218bf26d": {
     "model_module": "@jupyter-widgets/controls",
     "model_module_version": "1.5.0",
     "model_name": "HBoxModel",
     "state": {
      "_dom_classes": [],
      "_model_module": "@jupyter-widgets/controls",
      "_model_module_version": "1.5.0",
      "_model_name": "HBoxModel",
      "_view_count": null,
      "_view_module": "@jupyter-widgets/controls",
      "_view_module_version": "1.5.0",
      "_view_name": "HBoxView",
      "box_style": "",
      "children": [
       "IPY_MODEL_0ab1b70a2e7441748493362dd6304020",
       "IPY_MODEL_f1999b4319304cc79e06ab4cd60ea728",
       "IPY_MODEL_1937f334d1494b649e097f4d157854ce"
      ],
      "layout": "IPY_MODEL_e1e73cf54f7849e485cd3f2fa3536380"
     }
    },
    "8d47da37610f4fe29b5ddea5426adee2": {
     "model_module": "@jupyter-widgets/controls",
     "model_module_version": "1.5.0",
     "model_name": "DescriptionStyleModel",
     "state": {
      "_model_module": "@jupyter-widgets/controls",
      "_model_module_version": "1.5.0",
      "_model_name": "DescriptionStyleModel",
      "_view_count": null,
      "_view_module": "@jupyter-widgets/base",
      "_view_module_version": "1.2.0",
      "_view_name": "StyleView",
      "description_width": ""
     }
    },
    "8ec887ab0f3f47a3ad51cb45d89fee89": {
     "model_module": "@jupyter-widgets/base",
     "model_module_version": "1.2.0",
     "model_name": "LayoutModel",
     "state": {
      "_model_module": "@jupyter-widgets/base",
      "_model_module_version": "1.2.0",
      "_model_name": "LayoutModel",
      "_view_count": null,
      "_view_module": "@jupyter-widgets/base",
      "_view_module_version": "1.2.0",
      "_view_name": "LayoutView",
      "align_content": null,
      "align_items": null,
      "align_self": null,
      "border": null,
      "bottom": null,
      "display": null,
      "flex": null,
      "flex_flow": null,
      "grid_area": null,
      "grid_auto_columns": null,
      "grid_auto_flow": null,
      "grid_auto_rows": null,
      "grid_column": null,
      "grid_gap": null,
      "grid_row": null,
      "grid_template_areas": null,
      "grid_template_columns": null,
      "grid_template_rows": null,
      "height": null,
      "justify_content": null,
      "justify_items": null,
      "left": null,
      "margin": null,
      "max_height": null,
      "max_width": null,
      "min_height": null,
      "min_width": null,
      "object_fit": null,
      "object_position": null,
      "order": null,
      "overflow": null,
      "overflow_x": null,
      "overflow_y": null,
      "padding": null,
      "right": null,
      "top": null,
      "visibility": null,
      "width": null
     }
    },
    "8ee363549404467b96128cbd59038a7f": {
     "model_module": "@jupyter-widgets/base",
     "model_module_version": "1.2.0",
     "model_name": "LayoutModel",
     "state": {
      "_model_module": "@jupyter-widgets/base",
      "_model_module_version": "1.2.0",
      "_model_name": "LayoutModel",
      "_view_count": null,
      "_view_module": "@jupyter-widgets/base",
      "_view_module_version": "1.2.0",
      "_view_name": "LayoutView",
      "align_content": null,
      "align_items": null,
      "align_self": null,
      "border": null,
      "bottom": null,
      "display": null,
      "flex": null,
      "flex_flow": null,
      "grid_area": null,
      "grid_auto_columns": null,
      "grid_auto_flow": null,
      "grid_auto_rows": null,
      "grid_column": null,
      "grid_gap": null,
      "grid_row": null,
      "grid_template_areas": null,
      "grid_template_columns": null,
      "grid_template_rows": null,
      "height": null,
      "justify_content": null,
      "justify_items": null,
      "left": null,
      "margin": null,
      "max_height": null,
      "max_width": null,
      "min_height": null,
      "min_width": null,
      "object_fit": null,
      "object_position": null,
      "order": null,
      "overflow": null,
      "overflow_x": null,
      "overflow_y": null,
      "padding": null,
      "right": null,
      "top": null,
      "visibility": null,
      "width": null
     }
    },
    "8ff6e7018b764cb38f56a4f6b27ecc39": {
     "model_module": "@jupyter-widgets/controls",
     "model_module_version": "1.5.0",
     "model_name": "DescriptionStyleModel",
     "state": {
      "_model_module": "@jupyter-widgets/controls",
      "_model_module_version": "1.5.0",
      "_model_name": "DescriptionStyleModel",
      "_view_count": null,
      "_view_module": "@jupyter-widgets/base",
      "_view_module_version": "1.2.0",
      "_view_name": "StyleView",
      "description_width": ""
     }
    },
    "9369feeb28a14240835cc968ddef87d5": {
     "model_module": "@jupyter-widgets/controls",
     "model_module_version": "1.5.0",
     "model_name": "DescriptionStyleModel",
     "state": {
      "_model_module": "@jupyter-widgets/controls",
      "_model_module_version": "1.5.0",
      "_model_name": "DescriptionStyleModel",
      "_view_count": null,
      "_view_module": "@jupyter-widgets/base",
      "_view_module_version": "1.2.0",
      "_view_name": "StyleView",
      "description_width": ""
     }
    },
    "9879e75328c74bccbcefaed8ec928611": {
     "model_module": "@jupyter-widgets/controls",
     "model_module_version": "1.5.0",
     "model_name": "ProgressStyleModel",
     "state": {
      "_model_module": "@jupyter-widgets/controls",
      "_model_module_version": "1.5.0",
      "_model_name": "ProgressStyleModel",
      "_view_count": null,
      "_view_module": "@jupyter-widgets/base",
      "_view_module_version": "1.2.0",
      "_view_name": "StyleView",
      "bar_color": null,
      "description_width": ""
     }
    },
    "9f2568a57e694d2f81d1133ed016f373": {
     "model_module": "@jupyter-widgets/controls",
     "model_module_version": "1.5.0",
     "model_name": "HTMLModel",
     "state": {
      "_dom_classes": [],
      "_model_module": "@jupyter-widgets/controls",
      "_model_module_version": "1.5.0",
      "_model_name": "HTMLModel",
      "_view_count": null,
      "_view_module": "@jupyter-widgets/controls",
      "_view_module_version": "1.5.0",
      "_view_name": "HTMLView",
      "description": "",
      "description_tooltip": null,
      "layout": "IPY_MODEL_af7092208b644c659d0e2d604a7fdaf5",
      "placeholder": "​",
      "style": "IPY_MODEL_3804a0bfce464eda889d080a107a0fc8",
      "value": "100%"
     }
    },
    "9f4c95fb1dbf4524937425046ecd47eb": {
     "model_module": "@jupyter-widgets/base",
     "model_module_version": "1.2.0",
     "model_name": "LayoutModel",
     "state": {
      "_model_module": "@jupyter-widgets/base",
      "_model_module_version": "1.2.0",
      "_model_name": "LayoutModel",
      "_view_count": null,
      "_view_module": "@jupyter-widgets/base",
      "_view_module_version": "1.2.0",
      "_view_name": "LayoutView",
      "align_content": null,
      "align_items": null,
      "align_self": null,
      "border": null,
      "bottom": null,
      "display": null,
      "flex": null,
      "flex_flow": null,
      "grid_area": null,
      "grid_auto_columns": null,
      "grid_auto_flow": null,
      "grid_auto_rows": null,
      "grid_column": null,
      "grid_gap": null,
      "grid_row": null,
      "grid_template_areas": null,
      "grid_template_columns": null,
      "grid_template_rows": null,
      "height": null,
      "justify_content": null,
      "justify_items": null,
      "left": null,
      "margin": null,
      "max_height": null,
      "max_width": null,
      "min_height": null,
      "min_width": null,
      "object_fit": null,
      "object_position": null,
      "order": null,
      "overflow": null,
      "overflow_x": null,
      "overflow_y": null,
      "padding": null,
      "right": null,
      "top": null,
      "visibility": null,
      "width": null
     }
    },
    "a09c1ad987e9407cb00a9740aed63c09": {
     "model_module": "@jupyter-widgets/controls",
     "model_module_version": "1.5.0",
     "model_name": "FloatProgressModel",
     "state": {
      "_dom_classes": [],
      "_model_module": "@jupyter-widgets/controls",
      "_model_module_version": "1.5.0",
      "_model_name": "FloatProgressModel",
      "_view_count": null,
      "_view_module": "@jupyter-widgets/controls",
      "_view_module_version": "1.5.0",
      "_view_name": "ProgressView",
      "bar_style": "success",
      "description": "",
      "description_tooltip": null,
      "layout": "IPY_MODEL_83a95f818b0348fda0477efcde491658",
      "max": 456318,
      "min": 0,
      "orientation": "horizontal",
      "style": "IPY_MODEL_f6a14ff47fee4c32ba9e59f95889403b",
      "value": 456318
     }
    },
    "a0c3f55d890848c797ce0e900342a1fc": {
     "model_module": "@jupyter-widgets/controls",
     "model_module_version": "1.5.0",
     "model_name": "FloatProgressModel",
     "state": {
      "_dom_classes": [],
      "_model_module": "@jupyter-widgets/controls",
      "_model_module_version": "1.5.0",
      "_model_name": "FloatProgressModel",
      "_view_count": null,
      "_view_module": "@jupyter-widgets/controls",
      "_view_module_version": "1.5.0",
      "_view_name": "ProgressView",
      "bar_style": "success",
      "description": "",
      "description_tooltip": null,
      "layout": "IPY_MODEL_a79f5f41c59542649dda0ac4ac12705d",
      "max": 1355863,
      "min": 0,
      "orientation": "horizontal",
      "style": "IPY_MODEL_70c4554dbfa1446389e51a71f932e2ac",
      "value": 1355863
     }
    },
    "a3820e41e4914f4b8dd38293c8c7e8d5": {
     "model_module": "@jupyter-widgets/base",
     "model_module_version": "1.2.0",
     "model_name": "LayoutModel",
     "state": {
      "_model_module": "@jupyter-widgets/base",
      "_model_module_version": "1.2.0",
      "_model_name": "LayoutModel",
      "_view_count": null,
      "_view_module": "@jupyter-widgets/base",
      "_view_module_version": "1.2.0",
      "_view_name": "LayoutView",
      "align_content": null,
      "align_items": null,
      "align_self": null,
      "border": null,
      "bottom": null,
      "display": null,
      "flex": null,
      "flex_flow": null,
      "grid_area": null,
      "grid_auto_columns": null,
      "grid_auto_flow": null,
      "grid_auto_rows": null,
      "grid_column": null,
      "grid_gap": null,
      "grid_row": null,
      "grid_template_areas": null,
      "grid_template_columns": null,
      "grid_template_rows": null,
      "height": null,
      "justify_content": null,
      "justify_items": null,
      "left": null,
      "margin": null,
      "max_height": null,
      "max_width": null,
      "min_height": null,
      "min_width": null,
      "object_fit": null,
      "object_position": null,
      "order": null,
      "overflow": null,
      "overflow_x": null,
      "overflow_y": null,
      "padding": null,
      "right": null,
      "top": null,
      "visibility": null,
      "width": null
     }
    },
    "a6e9d9e9e4ed469a90fe2771c58c92e8": {
     "model_module": "@jupyter-widgets/controls",
     "model_module_version": "1.5.0",
     "model_name": "HTMLModel",
     "state": {
      "_dom_classes": [],
      "_model_module": "@jupyter-widgets/controls",
      "_model_module_version": "1.5.0",
      "_model_name": "HTMLModel",
      "_view_count": null,
      "_view_module": "@jupyter-widgets/controls",
      "_view_module_version": "1.5.0",
      "_view_name": "HTMLView",
      "description": "",
      "description_tooltip": null,
      "layout": "IPY_MODEL_4ab50a21465c4611afbb9400531f93e1",
      "placeholder": "​",
      "style": "IPY_MODEL_8ff6e7018b764cb38f56a4f6b27ecc39",
      "value": " 1.63G/1.63G [00:19&lt;00:00, 39.7MB/s]"
     }
    },
    "a79f5f41c59542649dda0ac4ac12705d": {
     "model_module": "@jupyter-widgets/base",
     "model_module_version": "1.2.0",
     "model_name": "LayoutModel",
     "state": {
      "_model_module": "@jupyter-widgets/base",
      "_model_module_version": "1.2.0",
      "_model_name": "LayoutModel",
      "_view_count": null,
      "_view_module": "@jupyter-widgets/base",
      "_view_module_version": "1.2.0",
      "_view_name": "LayoutView",
      "align_content": null,
      "align_items": null,
      "align_self": null,
      "border": null,
      "bottom": null,
      "display": null,
      "flex": null,
      "flex_flow": null,
      "grid_area": null,
      "grid_auto_columns": null,
      "grid_auto_flow": null,
      "grid_auto_rows": null,
      "grid_column": null,
      "grid_gap": null,
      "grid_row": null,
      "grid_template_areas": null,
      "grid_template_columns": null,
      "grid_template_rows": null,
      "height": null,
      "justify_content": null,
      "justify_items": null,
      "left": null,
      "margin": null,
      "max_height": null,
      "max_width": null,
      "min_height": null,
      "min_width": null,
      "object_fit": null,
      "object_position": null,
      "order": null,
      "overflow": null,
      "overflow_x": null,
      "overflow_y": null,
      "padding": null,
      "right": null,
      "top": null,
      "visibility": null,
      "width": null
     }
    },
    "af16d056c1264407b232a42ec91c74cf": {
     "model_module": "@jupyter-widgets/controls",
     "model_module_version": "1.5.0",
     "model_name": "DescriptionStyleModel",
     "state": {
      "_model_module": "@jupyter-widgets/controls",
      "_model_module_version": "1.5.0",
      "_model_name": "DescriptionStyleModel",
      "_view_count": null,
      "_view_module": "@jupyter-widgets/base",
      "_view_module_version": "1.2.0",
      "_view_name": "StyleView",
      "description_width": ""
     }
    },
    "af7092208b644c659d0e2d604a7fdaf5": {
     "model_module": "@jupyter-widgets/base",
     "model_module_version": "1.2.0",
     "model_name": "LayoutModel",
     "state": {
      "_model_module": "@jupyter-widgets/base",
      "_model_module_version": "1.2.0",
      "_model_name": "LayoutModel",
      "_view_count": null,
      "_view_module": "@jupyter-widgets/base",
      "_view_module_version": "1.2.0",
      "_view_name": "LayoutView",
      "align_content": null,
      "align_items": null,
      "align_self": null,
      "border": null,
      "bottom": null,
      "display": null,
      "flex": null,
      "flex_flow": null,
      "grid_area": null,
      "grid_auto_columns": null,
      "grid_auto_flow": null,
      "grid_auto_rows": null,
      "grid_column": null,
      "grid_gap": null,
      "grid_row": null,
      "grid_template_areas": null,
      "grid_template_columns": null,
      "grid_template_rows": null,
      "height": null,
      "justify_content": null,
      "justify_items": null,
      "left": null,
      "margin": null,
      "max_height": null,
      "max_width": null,
      "min_height": null,
      "min_width": null,
      "object_fit": null,
      "object_position": null,
      "order": null,
      "overflow": null,
      "overflow_x": null,
      "overflow_y": null,
      "padding": null,
      "right": null,
      "top": null,
      "visibility": null,
      "width": null
     }
    },
    "b090cf2c8edf47efbcd4de64aa45f452": {
     "model_module": "@jupyter-widgets/controls",
     "model_module_version": "1.5.0",
     "model_name": "FloatProgressModel",
     "state": {
      "_dom_classes": [],
      "_model_module": "@jupyter-widgets/controls",
      "_model_module_version": "1.5.0",
      "_model_name": "FloatProgressModel",
      "_view_count": null,
      "_view_module": "@jupyter-widgets/controls",
      "_view_module_version": "1.5.0",
      "_view_name": "ProgressView",
      "bar_style": "success",
      "description": "",
      "description_tooltip": null,
      "layout": "IPY_MODEL_1407aeb4ceb048b591c1c8b020645f2e",
      "max": 1625270765,
      "min": 0,
      "orientation": "horizontal",
      "style": "IPY_MODEL_dfdf1976efa74b1e895265773110ea96",
      "value": 1625270765
     }
    },
    "b19b03ff9f114aa29f58e302a256abd0": {
     "model_module": "@jupyter-widgets/controls",
     "model_module_version": "1.5.0",
     "model_name": "FloatProgressModel",
     "state": {
      "_dom_classes": [],
      "_model_module": "@jupyter-widgets/controls",
      "_model_module_version": "1.5.0",
      "_model_name": "FloatProgressModel",
      "_view_count": null,
      "_view_module": "@jupyter-widgets/controls",
      "_view_module_version": "1.5.0",
      "_view_name": "ProgressView",
      "bar_style": "success",
      "description": "",
      "description_tooltip": null,
      "layout": "IPY_MODEL_8ec887ab0f3f47a3ad51cb45d89fee89",
      "max": 363,
      "min": 0,
      "orientation": "horizontal",
      "style": "IPY_MODEL_cbebd06e4a8c4ea6876969aad869e183",
      "value": 363
     }
    },
    "be8dc66da7f2427887a7be8ea9cb6738": {
     "model_module": "@jupyter-widgets/base",
     "model_module_version": "1.2.0",
     "model_name": "LayoutModel",
     "state": {
      "_model_module": "@jupyter-widgets/base",
      "_model_module_version": "1.2.0",
      "_model_name": "LayoutModel",
      "_view_count": null,
      "_view_module": "@jupyter-widgets/base",
      "_view_module_version": "1.2.0",
      "_view_name": "LayoutView",
      "align_content": null,
      "align_items": null,
      "align_self": null,
      "border": null,
      "bottom": null,
      "display": null,
      "flex": null,
      "flex_flow": null,
      "grid_area": null,
      "grid_auto_columns": null,
      "grid_auto_flow": null,
      "grid_auto_rows": null,
      "grid_column": null,
      "grid_gap": null,
      "grid_row": null,
      "grid_template_areas": null,
      "grid_template_columns": null,
      "grid_template_rows": null,
      "height": null,
      "justify_content": null,
      "justify_items": null,
      "left": null,
      "margin": null,
      "max_height": null,
      "max_width": null,
      "min_height": null,
      "min_width": null,
      "object_fit": null,
      "object_position": null,
      "order": null,
      "overflow": null,
      "overflow_x": null,
      "overflow_y": null,
      "padding": null,
      "right": null,
      "top": null,
      "visibility": null,
      "width": null
     }
    },
    "c2f2de68612c4502ab88e3c9359a668e": {
     "model_module": "@jupyter-widgets/controls",
     "model_module_version": "1.5.0",
     "model_name": "ProgressStyleModel",
     "state": {
      "_model_module": "@jupyter-widgets/controls",
      "_model_module_version": "1.5.0",
      "_model_name": "ProgressStyleModel",
      "_view_count": null,
      "_view_module": "@jupyter-widgets/base",
      "_view_module_version": "1.2.0",
      "_view_name": "StyleView",
      "bar_color": null,
      "description_width": ""
     }
    },
    "c314b38a685c4dd19708e1dbd3e303bd": {
     "model_module": "@jupyter-widgets/base",
     "model_module_version": "1.2.0",
     "model_name": "LayoutModel",
     "state": {
      "_model_module": "@jupyter-widgets/base",
      "_model_module_version": "1.2.0",
      "_model_name": "LayoutModel",
      "_view_count": null,
      "_view_module": "@jupyter-widgets/base",
      "_view_module_version": "1.2.0",
      "_view_name": "LayoutView",
      "align_content": null,
      "align_items": null,
      "align_self": null,
      "border": null,
      "bottom": null,
      "display": null,
      "flex": null,
      "flex_flow": null,
      "grid_area": null,
      "grid_auto_columns": null,
      "grid_auto_flow": null,
      "grid_auto_rows": null,
      "grid_column": null,
      "grid_gap": null,
      "grid_row": null,
      "grid_template_areas": null,
      "grid_template_columns": null,
      "grid_template_rows": null,
      "height": null,
      "justify_content": null,
      "justify_items": null,
      "left": null,
      "margin": null,
      "max_height": null,
      "max_width": null,
      "min_height": null,
      "min_width": null,
      "object_fit": null,
      "object_position": null,
      "order": null,
      "overflow": null,
      "overflow_x": null,
      "overflow_y": null,
      "padding": null,
      "right": null,
      "top": null,
      "visibility": null,
      "width": null
     }
    },
    "c97815fa6ce44d0f93a013fbb2cfb21e": {
     "model_module": "@jupyter-widgets/base",
     "model_module_version": "1.2.0",
     "model_name": "LayoutModel",
     "state": {
      "_model_module": "@jupyter-widgets/base",
      "_model_module_version": "1.2.0",
      "_model_name": "LayoutModel",
      "_view_count": null,
      "_view_module": "@jupyter-widgets/base",
      "_view_module_version": "1.2.0",
      "_view_name": "LayoutView",
      "align_content": null,
      "align_items": null,
      "align_self": null,
      "border": null,
      "bottom": null,
      "display": null,
      "flex": null,
      "flex_flow": null,
      "grid_area": null,
      "grid_auto_columns": null,
      "grid_auto_flow": null,
      "grid_auto_rows": null,
      "grid_column": null,
      "grid_gap": null,
      "grid_row": null,
      "grid_template_areas": null,
      "grid_template_columns": null,
      "grid_template_rows": null,
      "height": null,
      "justify_content": null,
      "justify_items": null,
      "left": null,
      "margin": null,
      "max_height": null,
      "max_width": null,
      "min_height": null,
      "min_width": null,
      "object_fit": null,
      "object_position": null,
      "order": null,
      "overflow": null,
      "overflow_x": null,
      "overflow_y": null,
      "padding": null,
      "right": null,
      "top": null,
      "visibility": null,
      "width": null
     }
    },
    "ca19154029c64648bfc5585fa6fc2105": {
     "model_module": "@jupyter-widgets/controls",
     "model_module_version": "1.5.0",
     "model_name": "HBoxModel",
     "state": {
      "_dom_classes": [],
      "_model_module": "@jupyter-widgets/controls",
      "_model_module_version": "1.5.0",
      "_model_name": "HBoxModel",
      "_view_count": null,
      "_view_module": "@jupyter-widgets/controls",
      "_view_module_version": "1.5.0",
      "_view_name": "HBoxView",
      "box_style": "",
      "children": [
       "IPY_MODEL_356fc2b3748845c59abb1e98a79b6103",
       "IPY_MODEL_a0c3f55d890848c797ce0e900342a1fc",
       "IPY_MODEL_1507c37f8ae34919b0c808f49aaaf2eb"
      ],
      "layout": "IPY_MODEL_07227cb3ed4e49f6842fc29a333732cd"
     }
    },
    "cb699143c2884657a3ccbfc85beace3b": {
     "model_module": "@jupyter-widgets/base",
     "model_module_version": "1.2.0",
     "model_name": "LayoutModel",
     "state": {
      "_model_module": "@jupyter-widgets/base",
      "_model_module_version": "1.2.0",
      "_model_name": "LayoutModel",
      "_view_count": null,
      "_view_module": "@jupyter-widgets/base",
      "_view_module_version": "1.2.0",
      "_view_name": "LayoutView",
      "align_content": null,
      "align_items": null,
      "align_self": null,
      "border": null,
      "bottom": null,
      "display": null,
      "flex": null,
      "flex_flow": null,
      "grid_area": null,
      "grid_auto_columns": null,
      "grid_auto_flow": null,
      "grid_auto_rows": null,
      "grid_column": null,
      "grid_gap": null,
      "grid_row": null,
      "grid_template_areas": null,
      "grid_template_columns": null,
      "grid_template_rows": null,
      "height": null,
      "justify_content": null,
      "justify_items": null,
      "left": null,
      "margin": null,
      "max_height": null,
      "max_width": null,
      "min_height": null,
      "min_width": null,
      "object_fit": null,
      "object_position": null,
      "order": null,
      "overflow": null,
      "overflow_x": null,
      "overflow_y": null,
      "padding": null,
      "right": null,
      "top": null,
      "visibility": null,
      "width": null
     }
    },
    "cb87f34a5754468f810382b1dd37c30e": {
     "model_module": "@jupyter-widgets/base",
     "model_module_version": "1.2.0",
     "model_name": "LayoutModel",
     "state": {
      "_model_module": "@jupyter-widgets/base",
      "_model_module_version": "1.2.0",
      "_model_name": "LayoutModel",
      "_view_count": null,
      "_view_module": "@jupyter-widgets/base",
      "_view_module_version": "1.2.0",
      "_view_name": "LayoutView",
      "align_content": null,
      "align_items": null,
      "align_self": null,
      "border": null,
      "bottom": null,
      "display": null,
      "flex": null,
      "flex_flow": null,
      "grid_area": null,
      "grid_auto_columns": null,
      "grid_auto_flow": null,
      "grid_auto_rows": null,
      "grid_column": null,
      "grid_gap": null,
      "grid_row": null,
      "grid_template_areas": null,
      "grid_template_columns": null,
      "grid_template_rows": null,
      "height": null,
      "justify_content": null,
      "justify_items": null,
      "left": null,
      "margin": null,
      "max_height": null,
      "max_width": null,
      "min_height": null,
      "min_width": null,
      "object_fit": null,
      "object_position": null,
      "order": null,
      "overflow": null,
      "overflow_x": null,
      "overflow_y": null,
      "padding": null,
      "right": null,
      "top": null,
      "visibility": null,
      "width": null
     }
    },
    "cbebd06e4a8c4ea6876969aad869e183": {
     "model_module": "@jupyter-widgets/controls",
     "model_module_version": "1.5.0",
     "model_name": "ProgressStyleModel",
     "state": {
      "_model_module": "@jupyter-widgets/controls",
      "_model_module_version": "1.5.0",
      "_model_name": "ProgressStyleModel",
      "_view_count": null,
      "_view_module": "@jupyter-widgets/base",
      "_view_module_version": "1.2.0",
      "_view_name": "StyleView",
      "bar_color": null,
      "description_width": ""
     }
    },
    "d87c198865f84eeb866eb32809488e06": {
     "model_module": "@jupyter-widgets/controls",
     "model_module_version": "1.5.0",
     "model_name": "DescriptionStyleModel",
     "state": {
      "_model_module": "@jupyter-widgets/controls",
      "_model_module_version": "1.5.0",
      "_model_name": "DescriptionStyleModel",
      "_view_count": null,
      "_view_module": "@jupyter-widgets/base",
      "_view_module_version": "1.2.0",
      "_view_name": "StyleView",
      "description_width": ""
     }
    },
    "dd7f420921da4380a56095809f36874b": {
     "model_module": "@jupyter-widgets/controls",
     "model_module_version": "1.5.0",
     "model_name": "HTMLModel",
     "state": {
      "_dom_classes": [],
      "_model_module": "@jupyter-widgets/controls",
      "_model_module_version": "1.5.0",
      "_model_name": "HTMLModel",
      "_view_count": null,
      "_view_module": "@jupyter-widgets/controls",
      "_view_module_version": "1.5.0",
      "_view_name": "HTMLView",
      "description": "",
      "description_tooltip": null,
      "layout": "IPY_MODEL_6186b26ad62b4c5185b7e1d43a522023",
      "placeholder": "​",
      "style": "IPY_MODEL_e21b78dcc0a345b0a915366b2a098722",
      "value": "Downloading (…)lve/main/config.json: 100%"
     }
    },
    "dea0f754220f4528a1cd88002094b848": {
     "model_module": "@jupyter-widgets/base",
     "model_module_version": "1.2.0",
     "model_name": "LayoutModel",
     "state": {
      "_model_module": "@jupyter-widgets/base",
      "_model_module_version": "1.2.0",
      "_model_name": "LayoutModel",
      "_view_count": null,
      "_view_module": "@jupyter-widgets/base",
      "_view_module_version": "1.2.0",
      "_view_name": "LayoutView",
      "align_content": null,
      "align_items": null,
      "align_self": null,
      "border": null,
      "bottom": null,
      "display": null,
      "flex": null,
      "flex_flow": null,
      "grid_area": null,
      "grid_auto_columns": null,
      "grid_auto_flow": null,
      "grid_auto_rows": null,
      "grid_column": null,
      "grid_gap": null,
      "grid_row": null,
      "grid_template_areas": null,
      "grid_template_columns": null,
      "grid_template_rows": null,
      "height": null,
      "justify_content": null,
      "justify_items": null,
      "left": null,
      "margin": null,
      "max_height": null,
      "max_width": null,
      "min_height": null,
      "min_width": null,
      "object_fit": null,
      "object_position": null,
      "order": null,
      "overflow": null,
      "overflow_x": null,
      "overflow_y": null,
      "padding": null,
      "right": null,
      "top": null,
      "visibility": null,
      "width": null
     }
    },
    "deafad7b9a4b4fae96d86464c6c68108": {
     "model_module": "@jupyter-widgets/controls",
     "model_module_version": "1.5.0",
     "model_name": "HBoxModel",
     "state": {
      "_dom_classes": [],
      "_model_module": "@jupyter-widgets/controls",
      "_model_module_version": "1.5.0",
      "_model_name": "HBoxModel",
      "_view_count": null,
      "_view_module": "@jupyter-widgets/controls",
      "_view_module_version": "1.5.0",
      "_view_name": "HBoxView",
      "box_style": "",
      "children": [
       "IPY_MODEL_fcf4587bc83341aa97779df6df2b9e8a",
       "IPY_MODEL_b19b03ff9f114aa29f58e302a256abd0",
       "IPY_MODEL_7e22a726a22c401f9b852774c7750dee"
      ],
      "layout": "IPY_MODEL_ebc2a4f13a7b43aeb76e25e8789f5bb5"
     }
    },
    "dfdf1976efa74b1e895265773110ea96": {
     "model_module": "@jupyter-widgets/controls",
     "model_module_version": "1.5.0",
     "model_name": "ProgressStyleModel",
     "state": {
      "_model_module": "@jupyter-widgets/controls",
      "_model_module_version": "1.5.0",
      "_model_name": "ProgressStyleModel",
      "_view_count": null,
      "_view_module": "@jupyter-widgets/base",
      "_view_module_version": "1.2.0",
      "_view_name": "StyleView",
      "bar_color": null,
      "description_width": ""
     }
    },
    "e01d816daa3b41cdb7ed68e89d18501a": {
     "model_module": "@jupyter-widgets/controls",
     "model_module_version": "1.5.0",
     "model_name": "DescriptionStyleModel",
     "state": {
      "_model_module": "@jupyter-widgets/controls",
      "_model_module_version": "1.5.0",
      "_model_name": "DescriptionStyleModel",
      "_view_count": null,
      "_view_module": "@jupyter-widgets/base",
      "_view_module_version": "1.2.0",
      "_view_name": "StyleView",
      "description_width": ""
     }
    },
    "e1e73cf54f7849e485cd3f2fa3536380": {
     "model_module": "@jupyter-widgets/base",
     "model_module_version": "1.2.0",
     "model_name": "LayoutModel",
     "state": {
      "_model_module": "@jupyter-widgets/base",
      "_model_module_version": "1.2.0",
      "_model_name": "LayoutModel",
      "_view_count": null,
      "_view_module": "@jupyter-widgets/base",
      "_view_module_version": "1.2.0",
      "_view_name": "LayoutView",
      "align_content": null,
      "align_items": null,
      "align_self": null,
      "border": null,
      "bottom": null,
      "display": null,
      "flex": null,
      "flex_flow": null,
      "grid_area": null,
      "grid_auto_columns": null,
      "grid_auto_flow": null,
      "grid_auto_rows": null,
      "grid_column": null,
      "grid_gap": null,
      "grid_row": null,
      "grid_template_areas": null,
      "grid_template_columns": null,
      "grid_template_rows": null,
      "height": null,
      "justify_content": null,
      "justify_items": null,
      "left": null,
      "margin": null,
      "max_height": null,
      "max_width": null,
      "min_height": null,
      "min_width": null,
      "object_fit": null,
      "object_position": null,
      "order": null,
      "overflow": null,
      "overflow_x": null,
      "overflow_y": null,
      "padding": null,
      "right": null,
      "top": null,
      "visibility": null,
      "width": null
     }
    },
    "e21b78dcc0a345b0a915366b2a098722": {
     "model_module": "@jupyter-widgets/controls",
     "model_module_version": "1.5.0",
     "model_name": "DescriptionStyleModel",
     "state": {
      "_model_module": "@jupyter-widgets/controls",
      "_model_module_version": "1.5.0",
      "_model_name": "DescriptionStyleModel",
      "_view_count": null,
      "_view_module": "@jupyter-widgets/base",
      "_view_module_version": "1.2.0",
      "_view_name": "StyleView",
      "description_width": ""
     }
    },
    "ebc2a4f13a7b43aeb76e25e8789f5bb5": {
     "model_module": "@jupyter-widgets/base",
     "model_module_version": "1.2.0",
     "model_name": "LayoutModel",
     "state": {
      "_model_module": "@jupyter-widgets/base",
      "_model_module_version": "1.2.0",
      "_model_name": "LayoutModel",
      "_view_count": null,
      "_view_module": "@jupyter-widgets/base",
      "_view_module_version": "1.2.0",
      "_view_name": "LayoutView",
      "align_content": null,
      "align_items": null,
      "align_self": null,
      "border": null,
      "bottom": null,
      "display": null,
      "flex": null,
      "flex_flow": null,
      "grid_area": null,
      "grid_auto_columns": null,
      "grid_auto_flow": null,
      "grid_auto_rows": null,
      "grid_column": null,
      "grid_gap": null,
      "grid_row": null,
      "grid_template_areas": null,
      "grid_template_columns": null,
      "grid_template_rows": null,
      "height": null,
      "justify_content": null,
      "justify_items": null,
      "left": null,
      "margin": null,
      "max_height": null,
      "max_width": null,
      "min_height": null,
      "min_width": null,
      "object_fit": null,
      "object_position": null,
      "order": null,
      "overflow": null,
      "overflow_x": null,
      "overflow_y": null,
      "padding": null,
      "right": null,
      "top": null,
      "visibility": null,
      "width": null
     }
    },
    "eca3d840fe2147199e1365531c6b9cf3": {
     "model_module": "@jupyter-widgets/controls",
     "model_module_version": "1.5.0",
     "model_name": "HBoxModel",
     "state": {
      "_dom_classes": [],
      "_model_module": "@jupyter-widgets/controls",
      "_model_module_version": "1.5.0",
      "_model_name": "HBoxModel",
      "_view_count": null,
      "_view_module": "@jupyter-widgets/controls",
      "_view_module_version": "1.5.0",
      "_view_name": "HBoxView",
      "box_style": "",
      "children": [
       "IPY_MODEL_1037e935156f4d4286e675ff9c1c8d80",
       "IPY_MODEL_b090cf2c8edf47efbcd4de64aa45f452",
       "IPY_MODEL_a6e9d9e9e4ed469a90fe2771c58c92e8"
      ],
      "layout": "IPY_MODEL_1c7e4d66ae8a4b8f98fc188efae4071b"
     }
    },
    "f1999b4319304cc79e06ab4cd60ea728": {
     "model_module": "@jupyter-widgets/controls",
     "model_module_version": "1.5.0",
     "model_name": "FloatProgressModel",
     "state": {
      "_dom_classes": [],
      "_model_module": "@jupyter-widgets/controls",
      "_model_module_version": "1.5.0",
      "_model_name": "FloatProgressModel",
      "_view_count": null,
      "_view_module": "@jupyter-widgets/controls",
      "_view_module_version": "1.5.0",
      "_view_name": "ProgressView",
      "bar_style": "success",
      "description": "",
      "description_tooltip": null,
      "layout": "IPY_MODEL_30e7d7b9ca9541e493db8ddc2f121212",
      "max": 898823,
      "min": 0,
      "orientation": "horizontal",
      "style": "IPY_MODEL_c2f2de68612c4502ab88e3c9359a668e",
      "value": 898823
     }
    },
    "f2f587846eaa4a67a55914ccd15f6841": {
     "model_module": "@jupyter-widgets/controls",
     "model_module_version": "1.5.0",
     "model_name": "DescriptionStyleModel",
     "state": {
      "_model_module": "@jupyter-widgets/controls",
      "_model_module_version": "1.5.0",
      "_model_name": "DescriptionStyleModel",
      "_view_count": null,
      "_view_module": "@jupyter-widgets/base",
      "_view_module_version": "1.2.0",
      "_view_name": "StyleView",
      "description_width": ""
     }
    },
    "f6a14ff47fee4c32ba9e59f95889403b": {
     "model_module": "@jupyter-widgets/controls",
     "model_module_version": "1.5.0",
     "model_name": "ProgressStyleModel",
     "state": {
      "_model_module": "@jupyter-widgets/controls",
      "_model_module_version": "1.5.0",
      "_model_name": "ProgressStyleModel",
      "_view_count": null,
      "_view_module": "@jupyter-widgets/base",
      "_view_module_version": "1.2.0",
      "_view_name": "StyleView",
      "bar_color": null,
      "description_width": ""
     }
    },
    "f8745d9b7ce445648f5c221f42380a3d": {
     "model_module": "@jupyter-widgets/controls",
     "model_module_version": "1.5.0",
     "model_name": "DescriptionStyleModel",
     "state": {
      "_model_module": "@jupyter-widgets/controls",
      "_model_module_version": "1.5.0",
      "_model_name": "DescriptionStyleModel",
      "_view_count": null,
      "_view_module": "@jupyter-widgets/base",
      "_view_module_version": "1.2.0",
      "_view_name": "StyleView",
      "description_width": ""
     }
    },
    "fc0069a47ec74cfc9d77c0f342bbc205": {
     "model_module": "@jupyter-widgets/controls",
     "model_module_version": "1.5.0",
     "model_name": "HTMLModel",
     "state": {
      "_dom_classes": [],
      "_model_module": "@jupyter-widgets/controls",
      "_model_module_version": "1.5.0",
      "_model_name": "HTMLModel",
      "_view_count": null,
      "_view_module": "@jupyter-widgets/controls",
      "_view_module_version": "1.5.0",
      "_view_name": "HTMLView",
      "description": "",
      "description_tooltip": null,
      "layout": "IPY_MODEL_c97815fa6ce44d0f93a013fbb2cfb21e",
      "placeholder": "​",
      "style": "IPY_MODEL_3c758ccaacd940c2a181ec58e88a75be",
      "value": "Downloading (…)olve/main/merges.txt: 100%"
     }
    },
    "fcf4587bc83341aa97779df6df2b9e8a": {
     "model_module": "@jupyter-widgets/controls",
     "model_module_version": "1.5.0",
     "model_name": "HTMLModel",
     "state": {
      "_dom_classes": [],
      "_model_module": "@jupyter-widgets/controls",
      "_model_module_version": "1.5.0",
      "_model_name": "HTMLModel",
      "_view_count": null,
      "_view_module": "@jupyter-widgets/controls",
      "_view_module_version": "1.5.0",
      "_view_name": "HTMLView",
      "description": "",
      "description_tooltip": null,
      "layout": "IPY_MODEL_428fa478bcd24472b087acfbe4cccf06",
      "placeholder": "​",
      "style": "IPY_MODEL_e01d816daa3b41cdb7ed68e89d18501a",
      "value": "Downloading (…)neration_config.json: 100%"
     }
    }
   }
  }
 },
 "nbformat": 4,
 "nbformat_minor": 4
}
