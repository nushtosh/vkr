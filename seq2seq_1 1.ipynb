{
 "cells": [
  {
   "cell_type": "code",
   "execution_count": 1,
   "metadata": {
    "executionInfo": {
     "elapsed": 39057,
     "status": "ok",
     "timestamp": 1683748177766,
     "user": {
      "displayName": "Dmitry Patlasov",
      "userId": "12290433211009464889"
     },
     "user_tz": -300
    },
    "id": "8TRqmH3hrIbn"
   },
   "outputs": [],
   "source": [
    "%%capture\n",
    "\n",
    "!pip install datasets\n",
    "!pip install transformers==4.28.0\n",
    "!pip install accelerate -U\n",
    "!pip install --upgrade accelerate\n",
    "\n",
    "import numpy as np\n",
    "import pandas as pd\n",
    "from datasets import load_dataset\n",
    "from transformers import AutoTokenizer\n",
    "import torch"
   ]
  },
  {
   "cell_type": "code",
   "execution_count": 2,
   "metadata": {
    "colab": {
     "base_uri": "https://localhost:8080/"
    },
    "executionInfo": {
     "elapsed": 3529,
     "status": "ok",
     "timestamp": 1683748181291,
     "user": {
      "displayName": "Dmitry Patlasov",
      "userId": "12290433211009464889"
     },
     "user_tz": -300
    },
    "id": "6_1Bm-u1rP0i",
    "outputId": "457379d9-5525-4ca6-e581-29c40099efd8"
   },
   "outputs": [
    {
     "name": "stderr",
     "output_type": "stream",
     "text": [
      "No config specified, defaulting to: gazeta/default\n",
      "Found cached dataset gazeta (C:/Users/olya/.cache/huggingface/datasets/IlyaGusev___gazeta/default/1.0.0/ef9349c3c0f3112ca4036520d76c4bc1b8a79d30bc29643c6cae5a094d44e457)\n",
      "No config specified, defaulting to: gazeta/default\n",
      "Found cached dataset gazeta (C:/Users/olya/.cache/huggingface/datasets/IlyaGusev___gazeta/default/1.0.0/ef9349c3c0f3112ca4036520d76c4bc1b8a79d30bc29643c6cae5a094d44e457)\n"
     ]
    }
   ],
   "source": [
    "dataset_train = load_dataset('IlyaGusev/gazeta', revision=\"v1.0\", split= 'train[:20%]')\n",
    "dataset_test = load_dataset('IlyaGusev/gazeta', revision=\"v1.0\", split= 'test[:20%]')"
   ]
  },
  {
   "cell_type": "code",
   "execution_count": 3,
   "metadata": {
    "colab": {
     "base_uri": "https://localhost:8080/"
    },
    "executionInfo": {
     "elapsed": 5,
     "status": "ok",
     "timestamp": 1683753885575,
     "user": {
      "displayName": "Dmitry Patlasov",
      "userId": "12290433211009464889"
     },
     "user_tz": -300
    },
    "id": "AtxARVBfjQVY",
    "outputId": "1020c0ff-2196-455e-f5ef-c0605153fa58"
   },
   "outputs": [
    {
     "data": {
      "text/plain": [
       "datasets.arrow_dataset.Dataset"
      ]
     },
     "execution_count": 3,
     "metadata": {},
     "output_type": "execute_result"
    }
   ],
   "source": [
    "type(dataset_train)"
   ]
  },
  {
   "cell_type": "code",
   "execution_count": 4,
   "metadata": {
    "colab": {
     "base_uri": "https://localhost:8080/"
    },
    "executionInfo": {
     "elapsed": 4,
     "status": "ok",
     "timestamp": 1683753887046,
     "user": {
      "displayName": "Dmitry Patlasov",
      "userId": "12290433211009464889"
     },
     "user_tz": -300
    },
    "id": "mOIPYa27jUOJ",
    "outputId": "8ea345f5-3fb9-40ec-c70f-474958f4b8ee"
   },
   "outputs": [
    {
     "data": {
      "text/plain": [
       "datasets.arrow_dataset.Dataset"
      ]
     },
     "execution_count": 4,
     "metadata": {},
     "output_type": "execute_result"
    }
   ],
   "source": [
    "type(dataset_test)"
   ]
  },
  {
   "cell_type": "code",
   "execution_count": 5,
   "metadata": {
    "colab": {
     "base_uri": "https://localhost:8080/",
     "height": 157
    },
    "executionInfo": {
     "elapsed": 19,
     "status": "ok",
     "timestamp": 1683748181292,
     "user": {
      "displayName": "Dmitry Patlasov",
      "userId": "12290433211009464889"
     },
     "user_tz": -300
    },
    "id": "B1HvrKberTgh",
    "outputId": "37c509b6-1f72-4b17-bcd3-1f8810cd7429"
   },
   "outputs": [
    {
     "data": {
      "text/plain": [
       "'Американское аэрокосмическое агентство NASA огласило названия четырех космических миссий, которые в скором времени могут быть выбраны для реализации и запуск которых может состояться уже в конце этого десятилетия. Эти четыре проекта стали полуфиналистами конкурса, объявленного среди американских научных команд, в котором участвовало более десяти миссий. Все они были отобраны по критериям потенциальной пользы для науки и технической осуществимости проекта. В рамках программы Discovery NASA занимается планированием миссий, которые призваны дать ответы на фундаментальные вопросы о происхождении тел Солнечной системы и возможному наличию жизни на них. «Эти выбранные миссии могут трансформировать наше восприятие некоторых из наиболее активных и сложных миров в Солнечной системе, — заявил Томас Зурбучен, помощник директора NASA по науке. — Исследование каждого из этих небесных тел поможет раскрыть секреты о том, как они и им подобные объекты образовались в космосе». Каждый проект из выбранных полуфиналистов получит $3 млн на проработку концепции. Из четырех выбранных проектов NASA планирует отобрать две в 2021 году, чтобы профинансировать работу по их реализации в рамках программы Discovery. Два из четырех проектов посвящены исследованию Венеры, куда аппараты NASA не отправлялись уже свыше тридцати лет — с 1989 года, когда к этой планете был запущен зонд Magellan. Миссия VERITAS ( Venus Emissivity, Radio Science, InSAR, Topography, and Spectroscopy) призвана картировать поверхность Венеры для лучшего понимания геологической истории планеты и получения ответа на вопрос о причинах ее кардинальных отличий от Земли. Карта будет построена при помощи радара, установленного на орбитальном аппарате. В ходе миссии планируется узнать, продолжаются ли в наши дни на Венере тектонические и вулканические процессы. Кроме того, планируется картировать поверхность планеты в инфракрасном диапазоне. Миссия DAVINCI+ (Deep Atmosphere Venus Investigation of Noble gases, Chemistry and Imaging Plus) задумана для того, чтобы исследовать состав атмосферы Венеры, понять, как она формировалась и эволюционировала в прошлом, и ответить на вопрос о существовании когда-либо на планете жидкого океана. Сделать это планируется при помощи спускаемого аппарата, который будет проводить измерения от верхних слоев атмосферы до самой поверхности. Научные инструменты аппарата будут размещены внутри герметичного сферического корпуса, который должен защитить их от разрушительного воздействия высокой температуры атмосферы. + в названии миссии говорит о наличии в ее составе камер, которые будут присутствовать на борту орбитального и спускаемого аппаратов. «Проект DAVINCI+ пересекается по целям с российской миссией «Венера-Д», обе нацелены на посадку, поэтому в будущем возможно их совмещение в одном совместном проекте», — сказал «Газете.Ru» основатель проекта «Открытый космос» Виталий Егоров. Миссия TRIDENT должна исследовать Тритон — ледяной спутник Нептуна, известный ученым своей активностью. Данные, полученные американским зондом Voyager 2, показали, что поверхность Тритона активно обновляется. Ученые считают, что Тритон, на котором выпадает «снег» из органических веществ, может оказаться отличной целью для понимания вопросов происхождения аналогичных тел в Солнечной системе. Пролетев мимо Тритона, аппарат попытается картировать его поверхность, изучить активные процессы на его поверхности и определить, есть ли под его поверхностью жидкий океан. Миссия IVO (Io Volcano Observer) должна направиться к одному из самых интересных спутников Юпитера — Ио. Это тело с наиболее мощной вулканической активностью в Солнечной системе, которая поддерживается за счет мощного приливного воздействия со стороны Юпитера. Во время нескольких близких пролетов аппарат выяснит, как формируется лава на поверхности спутника.'"
      ]
     },
     "execution_count": 5,
     "metadata": {},
     "output_type": "execute_result"
    }
   ],
   "source": [
    "#Общий вид\n",
    "dataset_test['text'][0]"
   ]
  },
  {
   "cell_type": "code",
   "execution_count": 6,
   "metadata": {
    "colab": {
     "base_uri": "https://localhost:8080/",
     "height": 53
    },
    "executionInfo": {
     "elapsed": 15,
     "status": "ok",
     "timestamp": 1683748181292,
     "user": {
      "displayName": "Dmitry Patlasov",
      "userId": "12290433211009464889"
     },
     "user_tz": -300
    },
    "id": "cc8Go5XSrTl7",
    "outputId": "da9da7cf-5eb1-4d54-f647-5150a71ea42d"
   },
   "outputs": [
    {
     "data": {
      "text/plain": [
       "'В NASA назвали четыре миссии в дальний космос, которые в этом десятилетии могут быть запущены американцами. Среди них — две миссии по изучению Венеры, полет к спутнику Юпитера и экспедиция к Тритону, спутнику Нептуна.'"
      ]
     },
     "execution_count": 6,
     "metadata": {},
     "output_type": "execute_result"
    }
   ],
   "source": [
    "dataset_test['summary'][0]"
   ]
  },
  {
   "cell_type": "code",
   "execution_count": 7,
   "metadata": {
    "executionInfo": {
     "elapsed": 13,
     "status": "ok",
     "timestamp": 1683748182035,
     "user": {
      "displayName": "Dmitry Patlasov",
      "userId": "12290433211009464889"
     },
     "user_tz": -300
    },
    "id": "_BRF2VujrTvy"
   },
   "outputs": [],
   "source": [
    "model_name = \"IlyaGusev/rut5_base_sum_gazeta\""
   ]
  },
  {
   "cell_type": "code",
   "execution_count": 8,
   "metadata": {
    "executionInfo": {
     "elapsed": 14,
     "status": "ok",
     "timestamp": 1683748182036,
     "user": {
      "displayName": "Dmitry Patlasov",
      "userId": "12290433211009464889"
     },
     "user_tz": -300
    },
    "id": "hchGB7kfrTz8"
   },
   "outputs": [],
   "source": [
    "max_len_sum, max_len_tl = 80, 20"
   ]
  },
  {
   "cell_type": "code",
   "execution_count": 9,
   "metadata": {
    "colab": {
     "base_uri": "https://localhost:8080/",
     "height": 54,
     "referenced_widgets": [
      "a115fdec282b4e5a98a4d327f95057f6",
      "d89f2a0ae3644fcd81be32f91dc8d6ec",
      "cd19fe6f4f8a47029fd7fea18829af0e",
      "5cc1d72069244945b7160d45b7aca25c",
      "169685c37e8a4187a14f5b024b71a748",
      "9155d7aac6e146b8b52496971d588aca",
      "6235fc6f57194ef29315db3da6c73846",
      "12bc652a8a7943c0b0dc47e7633d1112",
      "f814f8f16e0f4638bc710151dcddfdda",
      "273b23762a3a4b8eb1433541ef3502df",
      "fbc35dbd161c4480b0d6057097ddfd98"
     ]
    },
    "executionInfo": {
     "elapsed": 1349,
     "status": "ok",
     "timestamp": 1683748183372,
     "user": {
      "displayName": "Dmitry Patlasov",
      "userId": "12290433211009464889"
     },
     "user_tz": -300
    },
    "id": "AXcM2rM3rkmQ",
    "outputId": "951ca4e7-0521-4076-ed42-a0cc6cb924c9"
   },
   "outputs": [
    {
     "data": {
      "application/vnd.jupyter.widget-view+json": {
       "model_id": "854d58a142724fc39e856a8259399a28",
       "version_major": 2,
       "version_minor": 0
      },
      "text/plain": [
       "Downloading:   0%|          | 0.00/279 [00:00<?, ?B/s]"
      ]
     },
     "metadata": {},
     "output_type": "display_data"
    },
    {
     "name": "stderr",
     "output_type": "stream",
     "text": [
      "C:\\Users\\olya\\anaconda3\\lib\\site-packages\\huggingface_hub\\file_download.py:127: UserWarning: `huggingface_hub` cache-system uses symlinks by default to efficiently store duplicated files but your machine does not support them in C:\\Users\\olya\\.cache\\huggingface\\hub. Caching files will still work but in a degraded version that might require more space on your disk. This warning can be disabled by setting the `HF_HUB_DISABLE_SYMLINKS_WARNING` environment variable. For more details, see https://huggingface.co/docs/huggingface_hub/how-to-cache#limitations.\n",
      "To support symlinks on Windows, you either need to activate Developer Mode or to run Python as an administrator. In order to see activate developer mode, see this article: https://docs.microsoft.com/en-us/windows/apps/get-started/enable-your-device-for-development\n",
      "  warnings.warn(message)\n"
     ]
    },
    {
     "data": {
      "application/vnd.jupyter.widget-view+json": {
       "model_id": "f23e018e0fe4411abcd9f70fc2c02151",
       "version_major": 2,
       "version_minor": 0
      },
      "text/plain": [
       "Downloading:   0%|          | 0.00/828k [00:00<?, ?B/s]"
      ]
     },
     "metadata": {},
     "output_type": "display_data"
    },
    {
     "data": {
      "application/vnd.jupyter.widget-view+json": {
       "model_id": "f6e8c6d29397461aae01d9a58c6832af",
       "version_major": 2,
       "version_minor": 0
      },
      "text/plain": [
       "Downloading:   0%|          | 0.00/1.31M [00:00<?, ?B/s]"
      ]
     },
     "metadata": {},
     "output_type": "display_data"
    },
    {
     "data": {
      "application/vnd.jupyter.widget-view+json": {
       "model_id": "d3d91fd7a70a486e9266d9f50d437be4",
       "version_major": 2,
       "version_minor": 0
      },
      "text/plain": [
       "Downloading:   0%|          | 0.00/65.0 [00:00<?, ?B/s]"
      ]
     },
     "metadata": {},
     "output_type": "display_data"
    },
    {
     "data": {
      "application/vnd.jupyter.widget-view+json": {
       "model_id": "",
       "version_major": 2,
       "version_minor": 0
      },
      "text/plain": [
       "Map:   0%|          | 0/10480 [00:00<?, ? examples/s]"
      ]
     },
     "metadata": {},
     "output_type": "display_data"
    },
    {
     "data": {
      "application/vnd.jupyter.widget-view+json": {
       "model_id": "",
       "version_major": 2,
       "version_minor": 0
      },
      "text/plain": [
       "Map:   0%|          | 0/1154 [00:00<?, ? examples/s]"
      ]
     },
     "metadata": {},
     "output_type": "display_data"
    }
   ],
   "source": [
    "tokenizer = AutoTokenizer.from_pretrained(model_name)\n",
    "\n",
    "def tokenize(batch):\n",
    "    tokenized_input = tokenizer(batch['summary'], padding='max_length', truncation=True, max_length=max_len_sum)\n",
    "    tokenized_label = tokenizer(batch['title'], padding='max_length', truncation=True, max_length=max_len_tl)\n",
    "\n",
    "    tokenized_input['labels'] = tokenized_label['input_ids']\n",
    "\n",
    "    return tokenized_input\n",
    "\n",
    "dataset_train = dataset_train.map(tokenize, batched=True, batch_size=8)\n",
    "dataset_test = dataset_test.map(tokenize, batched=True, batch_size=8)\n",
    "\n",
    "dataset_train.set_format('numpy', columns=['input_ids', 'attention_mask', 'labels'])\n",
    "dataset_test.set_format('numpy', columns=['input_ids', 'attention_mask', 'labels'])"
   ]
  },
  {
   "cell_type": "code",
   "execution_count": 10,
   "metadata": {
    "executionInfo": {
     "elapsed": 10227,
     "status": "ok",
     "timestamp": 1683748193597,
     "user": {
      "displayName": "Dmitry Patlasov",
      "userId": "12290433211009464889"
     },
     "user_tz": -300
    },
    "id": "mXMAlhKxrkq8"
   },
   "outputs": [
    {
     "data": {
      "application/vnd.jupyter.widget-view+json": {
       "model_id": "a5cd991b1b604f6c9c9b4a8f568852da",
       "version_major": 2,
       "version_minor": 0
      },
      "text/plain": [
       "Downloading:   0%|          | 0.00/766 [00:00<?, ?B/s]"
      ]
     },
     "metadata": {},
     "output_type": "display_data"
    },
    {
     "data": {
      "application/vnd.jupyter.widget-view+json": {
       "model_id": "8ad0877a2b9b427487cff6b03d244acd",
       "version_major": 2,
       "version_minor": 0
      },
      "text/plain": [
       "Downloading:   0%|          | 0.00/977M [00:00<?, ?B/s]"
      ]
     },
     "metadata": {},
     "output_type": "display_data"
    }
   ],
   "source": [
    "from transformers import T5ForConditionalGeneration, Trainer, TrainingArguments\n",
    "\n",
    "model = T5ForConditionalGeneration.from_pretrained(model_name)"
   ]
  },
  {
   "cell_type": "code",
   "execution_count": 12,
   "metadata": {
    "executionInfo": {
     "elapsed": 1178,
     "status": "ok",
     "timestamp": 1683748194753,
     "user": {
      "displayName": "Dmitry Patlasov",
      "userId": "12290433211009464889"
     },
     "user_tz": -300
    },
    "id": "md2XSXklrkup"
   },
   "outputs": [],
   "source": [
    "from fastai.vision.all import partial\n",
    "from functools import partial\n",
    "\n",
    "training_args = TrainingArguments(\n",
    "    \"run_gazeta\",\n",
    "    evaluation_strategy = \"epoch\",\n",
    "    learning_rate=0.00001,\n",
    "    per_device_train_batch_size=8,\n",
    "    per_device_eval_batch_size=8,\n",
    "    num_train_epochs=10,\n",
    "    remove_unused_columns=True,\n",
    "    save_strategy='no',\n",
    "    report_to='none',\n",
    ")"
   ]
  },
  {
   "cell_type": "code",
   "execution_count": null,
   "metadata": {
    "colab": {
     "base_uri": "https://localhost:8080/",
     "height": 478
    },
    "executionInfo": {
     "elapsed": 3528257,
     "status": "ok",
     "timestamp": 1683751723005,
     "user": {
      "displayName": "Dmitry Patlasov",
      "userId": "12290433211009464889"
     },
     "user_tz": -300
    },
    "id": "5zOkcOwkrkzr",
    "outputId": "17990be9-831f-4ced-f61d-5dddbf7d594d"
   },
   "outputs": [
    {
     "name": "stderr",
     "output_type": "stream",
     "text": [
      "C:\\Users\\olya\\anaconda3\\lib\\site-packages\\transformers\\optimization.py:391: FutureWarning: This implementation of AdamW is deprecated and will be removed in a future version. Use the PyTorch implementation torch.optim.AdamW instead, or set `no_deprecation_warning=True` to disable this warning\n",
      "  warnings.warn(\n"
     ]
    },
    {
     "data": {
      "text/html": [
       "\n",
       "    <div>\n",
       "      \n",
       "      <progress value='221' max='13100' style='width:300px; height:20px; vertical-align: middle;'></progress>\n",
       "      [  221/13100 2:13:26 < 130:47:32, 0.03 it/s, Epoch 0.17/10]\n",
       "    </div>\n",
       "    <table border=\"1\" class=\"dataframe\">\n",
       "  <thead>\n",
       " <tr style=\"text-align: left;\">\n",
       "      <th>Epoch</th>\n",
       "      <th>Training Loss</th>\n",
       "      <th>Validation Loss</th>\n",
       "    </tr>\n",
       "  </thead>\n",
       "  <tbody>\n",
       "  </tbody>\n",
       "</table><p>"
      ],
      "text/plain": [
       "<IPython.core.display.HTML object>"
      ]
     },
     "metadata": {},
     "output_type": "display_data"
    }
   ],
   "source": [
    "trainer = Trainer(\n",
    "    model=model,\n",
    "    args=training_args,\n",
    "    train_dataset=dataset_train,\n",
    "    eval_dataset=dataset_test\n",
    ")\n",
    "\n",
    "trainer.train()"
   ]
  },
  {
   "cell_type": "code",
   "execution_count": null,
   "metadata": {
    "id": "uvKyF7rdrk4S"
   },
   "outputs": [],
   "source": [
    "INX = 100\n",
    "NMB = 10"
   ]
  },
  {
   "cell_type": "code",
   "execution_count": 42,
   "metadata": {
    "colab": {
     "base_uri": "https://localhost:8080/"
    },
    "executionInfo": {
     "elapsed": 1267,
     "status": "ok",
     "timestamp": 1683753037872,
     "user": {
      "displayName": "Dmitry Patlasov",
      "userId": "12290433211009464889"
     },
     "user_tz": -300
    },
    "id": "3-jcVfyxrk8c",
    "outputId": "79d07f62-f0de-4b60-aa50-4e167ab3bddd"
   },
   "outputs": [
    {
     "name": "stdout",
     "output_type": "stream",
     "text": [
      "SUMMARY: | Российские фрегаты «Адмирал Макаров» и «Адмирал Григорович» с крылатыми ракетами «Калибр-НК» проходят через турецкие проливы Босфор и Дарданеллы в направлении Средиземного моря. Ранее эти корабли уже участвовали в военной операции РФ в Сирии и теперь направляются туда на фоне обострившейся ситуации в Идлибе.\n",
      "SUMMARY ПО РЕЗУЛЬТАТАМ НЕЙРОСЕТИ: | Российские фрегаты проходят через Босфор и Дарданеллы\n",
      "\n",
      "SUMMARY: | Протесты украинских шахтеров вынудили Раду выделить дополнительные $40 млн угледобывающей промышленности. Этих денег хватит на погашение текущих долгов, однако не за горами новые: объемы производства сокращаются, средств не хватает даже для освещения шахт, а уже добытый уголь никому не нужен и лежит на складах.\n",
      "SUMMARY ПО РЕЗУЛЬТАТАМ НЕЙРОСЕТИ: | Украинские шахтеры тратят на уголь\n",
      "\n",
      "SUMMARY: | Зарубежные спецслужбы намеренно ищут уязвимости в российском IT-секторе, чтобы проводить масштабные кибератаки, заявил секретарь Совбеза Николай Патрушев. По его словам, основные цели злоумышленников – объекты критической информационной инфраструктуры РФ. Эти атаки — за год несколько миллионов случаев — создают угрозу национальной безопасности.\n",
      "SUMMARY ПО РЕЗУЛЬТАТАМ НЕЙРОСЕТИ: | Зарубежные спецслужбы ищут уязвимости в РФ\n",
      "\n",
      "SUMMARY: | Французский биатлонист Мартен Фуркад поругался с двукратной олимпийской чемпионкой Анфисой Резцовой. 55-летняя россиянка заявила, что француз показывает высокие результаты из-за «медицинской поддержки», в ответ на что Фуркад выразил намерение обратиться в суд, пригрозив, что Резцова страдает от «старческого маразма».\n",
      "SUMMARY ПО РЕЗУЛЬТАТАМ НЕЙРОСЕТИ: | Фуркад поругался с Резцовой\n",
      "\n",
      "SUMMARY: | Тегеран обвиняет Вашингтон в дестабилизации ситуации в стране, где проходят протесты против повышения цен на бензин, что стало результатом введенного США эмбарго на экспорт нефти. Демонстрации проходят и в Ираке и Ливии, причем носят антииранский характер. Очевидно, что влияние Ирана на Ближнем Востоке оказалось под угрозой из-за американской стратегии давления.\n",
      "SUMMARY ПО РЕЗУЛЬТАТАМ НЕЙРОСЕТИ: | Иран обвиняет Вашингтон в дестабилизации\n",
      "\n",
      "SUMMARY: | Бывшему президенту Киргизии Алмазбеку Атамбаеву предъявлено уведомление о подозрении в убийстве начальника службы спецназа во время штурма дома экс-лидера. Следствие утверждает, что оперативник был застрелен из снайперской винтовки, оформленной на Атамбаева. Политик является фигурантом еще 14 уголовных дел. В следующем году в Киргизии пройдут парламентские выборы, на которых экс-президент представляет угрозу своему преемнику, даже находясь под арестом.\n",
      "SUMMARY ПО РЕЗУЛЬТАТАМ НЕЙРОСЕТИ: | Снайпер застрелил экс-президента Киргизии\n",
      "\n",
      "SUMMARY: | В Пенсионном фонде России пояснили, в каком случае могут приостановить выплату пенсии. Это может произойти, если гражданин лично не подтвердил факт своей регистрации раз в год. Аналогичное требование действует для российских пенсионеров, проживающих за рубежом. Эксперты считают, что сотрудники фонда выходят за рамки своих полномочий.\n",
      "SUMMARY ПО РЕЗУЛЬТАТАМ НЕЙРОСЕТИ: | Пенсионный фонд приостановил выплату пенсии\n",
      "\n",
      "SUMMARY: | В сети распространился новый способ хакерской атаки, заставляющей пользователей открыть зараженный файл — злоумышленник предлагает юзеру посмотреть на интимные фотографии девушки его друга, который якобы отказался платить за них выкуп и поплатился массовой рассылкой компрометирующих снимков всем своим контактам. Как только жертва открывает прикрепленный файл, на ее компьютер загружается вредоносная программа.\n",
      "SUMMARY ПО РЕЗУЛЬТАТАМ НЕЙРОСЕТИ: | Хакеры ищут интимные фотографии\n",
      "\n",
      "SUMMARY: | Посол РФ в Израиле Анатолий Викторов заявил, что за прошлый год Тель-Авив отказал россиянам во въезде в страну почти 6 тыс. раз, причем часть отказов ничем не обоснованы. По словам дипломата, среди «отказников» — туристы и паломники, четко выполнившие поставленные условия. Он выразил надежду, что благодаря совместной работе РФ и Израиля ситуацию удастся изменить.\n",
      "SUMMARY ПО РЕЗУЛЬТАТАМ НЕЙРОСЕТИ: | Тель-Авив отказал россиянам во въезде\n",
      "\n",
      "SUMMARY: | Двукратный призер «Евровидения» Сергей Лазарев сообщил, что в настоящее время не работает в направлении женитьбы, но является при этом абсолютно счастливым человеком, воспитывающим двух детей. Ранее в этом году певец признался, что у него родилась дочь Анна, которую выносила суррогатная мать.\n",
      "SUMMARY ПО РЕЗУЛЬТАТАМ НЕЙРОСЕТИ: | «Не работает в направлении женитьбы»\n",
      "\n"
     ]
    }
   ],
   "source": [
    "input_text = dataset_test['summary'][INX: INX+NMB]\n",
    "\n",
    "device = \"cuda\"\n",
    "\n",
    "with torch.no_grad():\n",
    "    tokenized_text = tokenizer(input_text, truncation=True, padding=True, return_tensors='pt')\n",
    "\n",
    "    source_ids = tokenized_text['input_ids'].to(device, dtype = torch.long)\n",
    "    source_mask = tokenized_text['attention_mask'].to(device, dtype = torch.long)\n",
    "\n",
    "    generated_ids = model.generate(\n",
    "        input_ids = source_ids,\n",
    "        attention_mask = source_mask, \n",
    "        max_length=512,\n",
    "        num_beams=7,\n",
    "        temperature = 1.3,\n",
    "        repetition_penalty=1, \n",
    "        length_penalty=1, \n",
    "        early_stopping=True,\n",
    "        no_repeat_ngram_size=2\n",
    "    )\n",
    "    \n",
    "    for i in range(NMB):\n",
    "        pred = tokenizer.decode(generated_ids[i], skip_special_tokens=True, clean_up_tokenization_spaces=True)\n",
    "        print(\"SUMMARY: | {}\".format(dataset_test['summary'][INX+i]))\n",
    "        print(\"SUMMARY ПО РЕЗУЛЬТАТАМ НЕЙРОСЕТИ: | {}\".format(pred))\n",
    "        print()"
   ]
  },
  {
   "cell_type": "code",
   "execution_count": 59,
   "metadata": {
    "colab": {
     "base_uri": "https://localhost:8080/",
     "height": 189
    },
    "executionInfo": {
     "elapsed": 479,
     "status": "error",
     "timestamp": 1683754787811,
     "user": {
      "displayName": "Dmitry Patlasov",
      "userId": "12290433211009464889"
     },
     "user_tz": -300
    },
    "id": "cJkAPKG8PIMs",
    "outputId": "8c6e9909-b92d-4cbc-d79e-e533ae13d34f"
   },
   "outputs": [
    {
     "name": "stdout",
     "output_type": "stream",
     "text": [
      "ВАШ ТЕКСТ: | Дефицит федерального бюджета России по итогам апреля превысил план на 2023 год, следует из предварительной оценки Минфина. \n",
      "По итогам января — апреля бюджет был исполнен с дефицитом до 3,424 трлн рублей, увеличившись в апреле сразу на 1,024 трлн рублей. \n",
      "Таким образом, дефицит бюджета уже на 843 млрд рублей превосходит расчеты Минфина, \n",
      "который ожидал, что в 2023 году дефицит составит 2,925 трлн рублей, или 2% ВВП\n",
      "SUMMARY ПО РЕЗУЛЬТАТАМ НЕЙРОСЕТИ: | Дефицит превысил план на 2023 год\n",
      "\n"
     ]
    },
    {
     "data": {
      "text/html": [
       "<pre style=\"white-space:pre;overflow-x:auto;line-height:normal;font-family:Menlo,'DejaVu Sans Mono',consolas,'Courier New',monospace\"><span style=\"color: #800000; text-decoration-color: #800000\">╭─────────────────────────────── </span><span style=\"color: #800000; text-decoration-color: #800000; font-weight: bold\">Traceback </span><span style=\"color: #bf7f7f; text-decoration-color: #bf7f7f; font-weight: bold\">(most recent call last)</span><span style=\"color: #800000; text-decoration-color: #800000\"> ────────────────────────────────╮</span>\n",
       "<span style=\"color: #800000; text-decoration-color: #800000\">│</span> in <span style=\"color: #00ff00; text-decoration-color: #00ff00\">&lt;cell line: 11&gt;</span>:<span style=\"color: #0000ff; text-decoration-color: #0000ff\">30</span>                                                                            <span style=\"color: #800000; text-decoration-color: #800000\">│</span>\n",
       "<span style=\"color: #800000; text-decoration-color: #800000\">╰──────────────────────────────────────────────────────────────────────────────────────────────────╯</span>\n",
       "<span style=\"color: #ff0000; text-decoration-color: #ff0000; font-weight: bold\">IndexError: </span>index <span style=\"color: #008080; text-decoration-color: #008080; font-weight: bold\">1</span> is out of bounds for dimension <span style=\"color: #008080; text-decoration-color: #008080; font-weight: bold\">0</span> with size <span style=\"color: #008080; text-decoration-color: #008080; font-weight: bold\">1</span>\n",
       "</pre>\n"
      ],
      "text/plain": [
       "\u001b[31m╭─\u001b[0m\u001b[31m──────────────────────────────\u001b[0m\u001b[31m \u001b[0m\u001b[1;31mTraceback \u001b[0m\u001b[1;2;31m(most recent call last)\u001b[0m\u001b[31m \u001b[0m\u001b[31m───────────────────────────────\u001b[0m\u001b[31m─╮\u001b[0m\n",
       "\u001b[31m│\u001b[0m in \u001b[92m<cell line: 11>\u001b[0m:\u001b[94m30\u001b[0m                                                                            \u001b[31m│\u001b[0m\n",
       "\u001b[31m╰──────────────────────────────────────────────────────────────────────────────────────────────────╯\u001b[0m\n",
       "\u001b[1;91mIndexError: \u001b[0mindex \u001b[1;36m1\u001b[0m is out of bounds for dimension \u001b[1;36m0\u001b[0m with size \u001b[1;36m1\u001b[0m\n"
      ]
     },
     "metadata": {},
     "output_type": "display_data"
    }
   ],
   "source": [
    "# Ваш новостной текст, это вывод работы модели\n",
    "\n",
    "text = '''Дефицит федерального бюджета России по итогам апреля превысил план на 2023 год, следует из предварительной оценки Минфина. \n",
    "По итогам января — апреля бюджет был исполнен с дефицитом до 3,424 трлн рублей, увеличившись в апреле сразу на 1,024 трлн рублей. \n",
    "Таким образом, дефицит бюджета уже на 843 млрд рублей превосходит расчеты Минфина, \n",
    "который ожидал, что в 2023 году дефицит составит 2,925 трлн рублей, или 2% ВВП'''\n",
    "\n",
    "input_text = text\n",
    "device = \"cuda\"\n",
    "\n",
    "with torch.no_grad():\n",
    "    tokenized_text = tokenizer(input_text, truncation=True, padding=True, return_tensors='pt')\n",
    "\n",
    "    source_ids = tokenized_text['input_ids'].to(device, dtype = torch.long)\n",
    "    source_mask = tokenized_text['attention_mask'].to(device, dtype = torch.long)\n",
    "\n",
    "    generated_ids = model.generate(\n",
    "        input_ids = source_ids,\n",
    "        attention_mask = source_mask, \n",
    "        max_length=512,\n",
    "        num_beams=7,\n",
    "        temperature = 1.3,\n",
    "        repetition_penalty=1, \n",
    "        length_penalty=1, \n",
    "        early_stopping=True,\n",
    "        no_repeat_ngram_size=2\n",
    "    )\n",
    "    \n",
    "    for i in range(NMB):\n",
    "        pred = tokenizer.decode(generated_ids[i], skip_special_tokens=True, clean_up_tokenization_spaces=True)\n",
    "        print(\"ВАШ ТЕКСТ: | {}\".format(text))\n",
    "        print(\"SUMMARY ПО РЕЗУЛЬТАТАМ НЕЙРОСЕТИ: | {}\".format(pred))\n",
    "        print()\n",
    "\n",
    "#IndexError-не обращать внимание, эта ошибка будет не всегда появляться, она ни на что не влияет, саммари НС для рандомного текста делает"
   ]
  }
 ],
 "metadata": {
  "accelerator": "GPU",
  "colab": {
   "authorship_tag": "ABX9TyNvkWX5SVu4VY7peXcXB45J",
   "gpuType": "T4",
   "provenance": []
  },
  "gpuClass": "standard",
  "kernelspec": {
   "display_name": "Python 3 (ipykernel)",
   "language": "python",
   "name": "python3"
  },
  "language_info": {
   "codemirror_mode": {
    "name": "ipython",
    "version": 3
   },
   "file_extension": ".py",
   "mimetype": "text/x-python",
   "name": "python",
   "nbconvert_exporter": "python",
   "pygments_lexer": "ipython3",
   "version": "3.9.13"
  },
  "widgets": {
   "application/vnd.jupyter.widget-state+json": {
    "12bc652a8a7943c0b0dc47e7633d1112": {
     "model_module": "@jupyter-widgets/base",
     "model_module_version": "1.2.0",
     "model_name": "LayoutModel",
     "state": {
      "_model_module": "@jupyter-widgets/base",
      "_model_module_version": "1.2.0",
      "_model_name": "LayoutModel",
      "_view_count": null,
      "_view_module": "@jupyter-widgets/base",
      "_view_module_version": "1.2.0",
      "_view_name": "LayoutView",
      "align_content": null,
      "align_items": null,
      "align_self": null,
      "border": null,
      "bottom": null,
      "display": null,
      "flex": null,
      "flex_flow": null,
      "grid_area": null,
      "grid_auto_columns": null,
      "grid_auto_flow": null,
      "grid_auto_rows": null,
      "grid_column": null,
      "grid_gap": null,
      "grid_row": null,
      "grid_template_areas": null,
      "grid_template_columns": null,
      "grid_template_rows": null,
      "height": null,
      "justify_content": null,
      "justify_items": null,
      "left": null,
      "margin": null,
      "max_height": null,
      "max_width": null,
      "min_height": null,
      "min_width": null,
      "object_fit": null,
      "object_position": null,
      "order": null,
      "overflow": null,
      "overflow_x": null,
      "overflow_y": null,
      "padding": null,
      "right": null,
      "top": null,
      "visibility": null,
      "width": null
     }
    },
    "169685c37e8a4187a14f5b024b71a748": {
     "model_module": "@jupyter-widgets/base",
     "model_module_version": "1.2.0",
     "model_name": "LayoutModel",
     "state": {
      "_model_module": "@jupyter-widgets/base",
      "_model_module_version": "1.2.0",
      "_model_name": "LayoutModel",
      "_view_count": null,
      "_view_module": "@jupyter-widgets/base",
      "_view_module_version": "1.2.0",
      "_view_name": "LayoutView",
      "align_content": null,
      "align_items": null,
      "align_self": null,
      "border": null,
      "bottom": null,
      "display": null,
      "flex": null,
      "flex_flow": null,
      "grid_area": null,
      "grid_auto_columns": null,
      "grid_auto_flow": null,
      "grid_auto_rows": null,
      "grid_column": null,
      "grid_gap": null,
      "grid_row": null,
      "grid_template_areas": null,
      "grid_template_columns": null,
      "grid_template_rows": null,
      "height": null,
      "justify_content": null,
      "justify_items": null,
      "left": null,
      "margin": null,
      "max_height": null,
      "max_width": null,
      "min_height": null,
      "min_width": null,
      "object_fit": null,
      "object_position": null,
      "order": null,
      "overflow": null,
      "overflow_x": null,
      "overflow_y": null,
      "padding": null,
      "right": null,
      "top": null,
      "visibility": "hidden",
      "width": null
     }
    },
    "273b23762a3a4b8eb1433541ef3502df": {
     "model_module": "@jupyter-widgets/base",
     "model_module_version": "1.2.0",
     "model_name": "LayoutModel",
     "state": {
      "_model_module": "@jupyter-widgets/base",
      "_model_module_version": "1.2.0",
      "_model_name": "LayoutModel",
      "_view_count": null,
      "_view_module": "@jupyter-widgets/base",
      "_view_module_version": "1.2.0",
      "_view_name": "LayoutView",
      "align_content": null,
      "align_items": null,
      "align_self": null,
      "border": null,
      "bottom": null,
      "display": null,
      "flex": null,
      "flex_flow": null,
      "grid_area": null,
      "grid_auto_columns": null,
      "grid_auto_flow": null,
      "grid_auto_rows": null,
      "grid_column": null,
      "grid_gap": null,
      "grid_row": null,
      "grid_template_areas": null,
      "grid_template_columns": null,
      "grid_template_rows": null,
      "height": null,
      "justify_content": null,
      "justify_items": null,
      "left": null,
      "margin": null,
      "max_height": null,
      "max_width": null,
      "min_height": null,
      "min_width": null,
      "object_fit": null,
      "object_position": null,
      "order": null,
      "overflow": null,
      "overflow_x": null,
      "overflow_y": null,
      "padding": null,
      "right": null,
      "top": null,
      "visibility": null,
      "width": null
     }
    },
    "5cc1d72069244945b7160d45b7aca25c": {
     "model_module": "@jupyter-widgets/controls",
     "model_module_version": "1.5.0",
     "model_name": "HTMLModel",
     "state": {
      "_dom_classes": [],
      "_model_module": "@jupyter-widgets/controls",
      "_model_module_version": "1.5.0",
      "_model_name": "HTMLModel",
      "_view_count": null,
      "_view_module": "@jupyter-widgets/controls",
      "_view_module_version": "1.5.0",
      "_view_name": "HTMLView",
      "description": "",
      "description_tooltip": null,
      "layout": "IPY_MODEL_273b23762a3a4b8eb1433541ef3502df",
      "placeholder": "​",
      "style": "IPY_MODEL_fbc35dbd161c4480b0d6057097ddfd98",
      "value": " 1056/1154 [00:01&lt;00:00, 1080.23 examples/s]"
     }
    },
    "6235fc6f57194ef29315db3da6c73846": {
     "model_module": "@jupyter-widgets/controls",
     "model_module_version": "1.5.0",
     "model_name": "DescriptionStyleModel",
     "state": {
      "_model_module": "@jupyter-widgets/controls",
      "_model_module_version": "1.5.0",
      "_model_name": "DescriptionStyleModel",
      "_view_count": null,
      "_view_module": "@jupyter-widgets/base",
      "_view_module_version": "1.2.0",
      "_view_name": "StyleView",
      "description_width": ""
     }
    },
    "9155d7aac6e146b8b52496971d588aca": {
     "model_module": "@jupyter-widgets/base",
     "model_module_version": "1.2.0",
     "model_name": "LayoutModel",
     "state": {
      "_model_module": "@jupyter-widgets/base",
      "_model_module_version": "1.2.0",
      "_model_name": "LayoutModel",
      "_view_count": null,
      "_view_module": "@jupyter-widgets/base",
      "_view_module_version": "1.2.0",
      "_view_name": "LayoutView",
      "align_content": null,
      "align_items": null,
      "align_self": null,
      "border": null,
      "bottom": null,
      "display": null,
      "flex": null,
      "flex_flow": null,
      "grid_area": null,
      "grid_auto_columns": null,
      "grid_auto_flow": null,
      "grid_auto_rows": null,
      "grid_column": null,
      "grid_gap": null,
      "grid_row": null,
      "grid_template_areas": null,
      "grid_template_columns": null,
      "grid_template_rows": null,
      "height": null,
      "justify_content": null,
      "justify_items": null,
      "left": null,
      "margin": null,
      "max_height": null,
      "max_width": null,
      "min_height": null,
      "min_width": null,
      "object_fit": null,
      "object_position": null,
      "order": null,
      "overflow": null,
      "overflow_x": null,
      "overflow_y": null,
      "padding": null,
      "right": null,
      "top": null,
      "visibility": null,
      "width": null
     }
    },
    "a115fdec282b4e5a98a4d327f95057f6": {
     "model_module": "@jupyter-widgets/controls",
     "model_module_version": "1.5.0",
     "model_name": "HBoxModel",
     "state": {
      "_dom_classes": [],
      "_model_module": "@jupyter-widgets/controls",
      "_model_module_version": "1.5.0",
      "_model_name": "HBoxModel",
      "_view_count": null,
      "_view_module": "@jupyter-widgets/controls",
      "_view_module_version": "1.5.0",
      "_view_name": "HBoxView",
      "box_style": "",
      "children": [
       "IPY_MODEL_d89f2a0ae3644fcd81be32f91dc8d6ec",
       "IPY_MODEL_cd19fe6f4f8a47029fd7fea18829af0e",
       "IPY_MODEL_5cc1d72069244945b7160d45b7aca25c"
      ],
      "layout": "IPY_MODEL_169685c37e8a4187a14f5b024b71a748"
     }
    },
    "cd19fe6f4f8a47029fd7fea18829af0e": {
     "model_module": "@jupyter-widgets/controls",
     "model_module_version": "1.5.0",
     "model_name": "FloatProgressModel",
     "state": {
      "_dom_classes": [],
      "_model_module": "@jupyter-widgets/controls",
      "_model_module_version": "1.5.0",
      "_model_name": "FloatProgressModel",
      "_view_count": null,
      "_view_module": "@jupyter-widgets/controls",
      "_view_module_version": "1.5.0",
      "_view_name": "ProgressView",
      "bar_style": "",
      "description": "",
      "description_tooltip": null,
      "layout": "IPY_MODEL_12bc652a8a7943c0b0dc47e7633d1112",
      "max": 1154,
      "min": 0,
      "orientation": "horizontal",
      "style": "IPY_MODEL_f814f8f16e0f4638bc710151dcddfdda",
      "value": 1154
     }
    },
    "d89f2a0ae3644fcd81be32f91dc8d6ec": {
     "model_module": "@jupyter-widgets/controls",
     "model_module_version": "1.5.0",
     "model_name": "HTMLModel",
     "state": {
      "_dom_classes": [],
      "_model_module": "@jupyter-widgets/controls",
      "_model_module_version": "1.5.0",
      "_model_name": "HTMLModel",
      "_view_count": null,
      "_view_module": "@jupyter-widgets/controls",
      "_view_module_version": "1.5.0",
      "_view_name": "HTMLView",
      "description": "",
      "description_tooltip": null,
      "layout": "IPY_MODEL_9155d7aac6e146b8b52496971d588aca",
      "placeholder": "​",
      "style": "IPY_MODEL_6235fc6f57194ef29315db3da6c73846",
      "value": "Map:  92%"
     }
    },
    "f814f8f16e0f4638bc710151dcddfdda": {
     "model_module": "@jupyter-widgets/controls",
     "model_module_version": "1.5.0",
     "model_name": "ProgressStyleModel",
     "state": {
      "_model_module": "@jupyter-widgets/controls",
      "_model_module_version": "1.5.0",
      "_model_name": "ProgressStyleModel",
      "_view_count": null,
      "_view_module": "@jupyter-widgets/base",
      "_view_module_version": "1.2.0",
      "_view_name": "StyleView",
      "bar_color": null,
      "description_width": ""
     }
    },
    "fbc35dbd161c4480b0d6057097ddfd98": {
     "model_module": "@jupyter-widgets/controls",
     "model_module_version": "1.5.0",
     "model_name": "DescriptionStyleModel",
     "state": {
      "_model_module": "@jupyter-widgets/controls",
      "_model_module_version": "1.5.0",
      "_model_name": "DescriptionStyleModel",
      "_view_count": null,
      "_view_module": "@jupyter-widgets/base",
      "_view_module_version": "1.2.0",
      "_view_name": "StyleView",
      "description_width": ""
     }
    }
   }
  }
 },
 "nbformat": 4,
 "nbformat_minor": 4
}
